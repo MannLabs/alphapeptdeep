{
 "cells": [
  {
   "cell_type": "code",
   "execution_count": 42,
   "metadata": {},
   "outputs": [
    {
     "name": "stdout",
     "output_type": "stream",
     "text": [
      "The autoreload extension is already loaded. To reload it, use:\n",
      "  %reload_ext autoreload\n"
     ]
    }
   ],
   "source": [
    "from peptdeep.model.ms2 import pDeepModel, normalize_fragment_intensities\n",
    "from peptdeep.model.rt import IRT_PEPTIDE_DF\n",
    "from alphabase.spectral_library.flat import SpecLibFlat\n",
    "import numpy as np\n",
    "\n",
    "%load_ext autoreload\n",
    "%autoreload 2"
   ]
  },
  {
   "cell_type": "markdown",
   "metadata": {},
   "source": [
    "# Understanding the New Pretrained Weights Format  \n",
    "\n",
    "This notebook explores various use cases and the reasons behind adopting the new pretrained weights format.  \n",
    "\n",
    "## Summary  \n",
    "\n",
    "The new format introduces two key improvements:  \n",
    "\n",
    "1. **Fixes incorrect behavior** in certain valid use cases when using the legacy weight format.  \n",
    "2. **Enhances flexibility, adaptability, and transparency** when using the pretrained MS2 models in **PeptDeep**.  \n",
    "\n",
    "## Key Considerations  \n",
    "\n",
    "- The new weights format **was not obtained from retraining** of the models.  \n",
    "- So it **does not provide performance improvements** over the legacy weights but significantly expands the range of supported use cases.  \n",
    "\n",
    "## Use Cases  \n",
    "\n",
    "We categorize use cases based on two main tasks:  \n",
    "\n",
    "1. **Prediction**  \n",
    "2. **Transfer Learning**  \n",
    "\n",
    "For each task, we will:  \n",
    "- Show that legacy weights are **still** supported by the current implementation (Without the new use cases). \n",
    "- Highlight the **limitations** of the legacy weights format.  \n",
    "- Present **new use cases** that are now supported with the updated format.  \n",
    "\n",
    "\n",
    "Supported use cases with the new format:\n",
    "| Fragtypes use case              , Override from weights (*) | Safe to predict | Safe to train |\n",
    "|-----------------------------------------------------------|----------------|--------------|\n",
    "| requested = supported   (1)       ,         False                 |      ✅          |      ✅        |\n",
    "| requested ⊆ supported    (2)     ,            False              |         ✅      |       ❌       |\n",
    "| requested ⊈ supported     (3)    ,             False             |        ❌        |     ❌         |\n",
    "|                  Any               ,            True              |       ✅         |      ✅        |\n",
    "\n",
    "(1) The ideal use case (only one supported by the old implementation) where users know and request exactly the same farg types supported in the model weights.\n",
    "\n",
    "(2) Users only need to predict a subset of the frag types supported by the loaded weights. \n",
    "\n",
    "(3) Users requested charged frag types that are not supported (can easily be identified now since we don't only look at the number of requested frag types).\n",
    "\n",
    "(*) `Override from weights` is the new argument added to the MS2 model, this allow users to load models without knowing exactly what are the supported frag types in a pretrained model. So this overrides the requested frag types and uses all supported frag types by the loaded model.\n",
    "\n",
    "Safe to train: Any model is automatically set to 'safe to train' when the `train` function is called-- by modifying *only* the underlying model output head to align with the requested frag types. After training, the model will automatically be in a 'safe to predict' state. \n"
   ]
  },
  {
   "cell_type": "code",
   "execution_count": 43,
   "metadata": {},
   "outputs": [
    {
     "data": {
      "text/html": [
       "<div>\n",
       "<style scoped>\n",
       "    .dataframe tbody tr th:only-of-type {\n",
       "        vertical-align: middle;\n",
       "    }\n",
       "\n",
       "    .dataframe tbody tr th {\n",
       "        vertical-align: top;\n",
       "    }\n",
       "\n",
       "    .dataframe thead th {\n",
       "        text-align: right;\n",
       "    }\n",
       "</style>\n",
       "<table border=\"1\" class=\"dataframe\">\n",
       "  <thead>\n",
       "    <tr style=\"text-align: right;\">\n",
       "      <th></th>\n",
       "      <th>sequence</th>\n",
       "      <th>pep_name</th>\n",
       "      <th>irt</th>\n",
       "      <th>mods</th>\n",
       "      <th>mod_sites</th>\n",
       "      <th>nAA</th>\n",
       "      <th>charge</th>\n",
       "      <th>frag_start_idx</th>\n",
       "      <th>frag_stop_idx</th>\n",
       "      <th>nce</th>\n",
       "      <th>instrument</th>\n",
       "    </tr>\n",
       "  </thead>\n",
       "  <tbody>\n",
       "    <tr>\n",
       "      <th>0</th>\n",
       "      <td>LGGNEQVTR</td>\n",
       "      <td>RT-pep a</td>\n",
       "      <td>-24.92</td>\n",
       "      <td></td>\n",
       "      <td></td>\n",
       "      <td>9</td>\n",
       "      <td>2</td>\n",
       "      <td>0</td>\n",
       "      <td>8</td>\n",
       "      <td>30</td>\n",
       "      <td>Lumos</td>\n",
       "    </tr>\n",
       "    <tr>\n",
       "      <th>3</th>\n",
       "      <td>YILAGVENSK</td>\n",
       "      <td>RT-pep d</td>\n",
       "      <td>19.79</td>\n",
       "      <td></td>\n",
       "      <td></td>\n",
       "      <td>10</td>\n",
       "      <td>2</td>\n",
       "      <td>8</td>\n",
       "      <td>17</td>\n",
       "      <td>30</td>\n",
       "      <td>Lumos</td>\n",
       "    </tr>\n",
       "    <tr>\n",
       "      <th>4</th>\n",
       "      <td>TPVISGGPYEYR</td>\n",
       "      <td>RT-pep e</td>\n",
       "      <td>28.71</td>\n",
       "      <td></td>\n",
       "      <td></td>\n",
       "      <td>12</td>\n",
       "      <td>2</td>\n",
       "      <td>17</td>\n",
       "      <td>28</td>\n",
       "      <td>30</td>\n",
       "      <td>Lumos</td>\n",
       "    </tr>\n",
       "    <tr>\n",
       "      <th>5</th>\n",
       "      <td>TPVITGAPYEYR</td>\n",
       "      <td>RT-pep f</td>\n",
       "      <td>33.38</td>\n",
       "      <td></td>\n",
       "      <td></td>\n",
       "      <td>12</td>\n",
       "      <td>2</td>\n",
       "      <td>28</td>\n",
       "      <td>39</td>\n",
       "      <td>30</td>\n",
       "      <td>Lumos</td>\n",
       "    </tr>\n",
       "    <tr>\n",
       "      <th>8</th>\n",
       "      <td>GTFIIDPGGVIR</td>\n",
       "      <td>RT-pep i</td>\n",
       "      <td>70.52</td>\n",
       "      <td></td>\n",
       "      <td></td>\n",
       "      <td>12</td>\n",
       "      <td>2</td>\n",
       "      <td>39</td>\n",
       "      <td>50</td>\n",
       "      <td>30</td>\n",
       "      <td>Lumos</td>\n",
       "    </tr>\n",
       "  </tbody>\n",
       "</table>\n",
       "</div>"
      ],
      "text/plain": [
       "       sequence  pep_name    irt mods mod_sites  nAA  charge  frag_start_idx  \\\n",
       "0     LGGNEQVTR  RT-pep a -24.92                   9       2               0   \n",
       "3    YILAGVENSK  RT-pep d  19.79                  10       2               8   \n",
       "4  TPVISGGPYEYR  RT-pep e  28.71                  12       2              17   \n",
       "5  TPVITGAPYEYR  RT-pep f  33.38                  12       2              28   \n",
       "8  GTFIIDPGGVIR  RT-pep i  70.52                  12       2              39   \n",
       "\n",
       "   frag_stop_idx  nce instrument  \n",
       "0              8   30      Lumos  \n",
       "3             17   30      Lumos  \n",
       "4             28   30      Lumos  \n",
       "5             39   30      Lumos  \n",
       "8             50   30      Lumos  "
      ]
     },
     "execution_count": 43,
     "metadata": {},
     "output_type": "execute_result"
    }
   ],
   "source": [
    "def get_prediction_dataset():\n",
    "    df=IRT_PEPTIDE_DF.copy()\n",
    "    df['charge'] = 2\n",
    "    df['mods'] = ''\n",
    "    df['mod_sites'] = ''\n",
    "    # sort by nAA\n",
    "    df = df.sort_values('nAA')\n",
    "    idxes = np.zeros(len(df)+1,dtype=np.int64)\n",
    "    idxes[1:] = np.cumsum(df.nAA.values-1)\n",
    "    df['frag_start_idx'] = idxes[:-1]\n",
    "    df['frag_stop_idx'] = idxes[1:]\n",
    "    df['nce'] = 30\n",
    "    df['instrument'] = \"Lumos\"\n",
    "    # sort by \n",
    "    return df\n",
    "get_prediction_dataset().head()"
   ]
  },
  {
   "cell_type": "markdown",
   "metadata": {},
   "source": [
    "#### What is actually **new** about the \"new\" weights ? \n",
    "\n",
    "- Both formats share the same exact underlying weights for the model, the only difference is with the new format we save the charged frag types used during training in the weights file. Which will allow supporting the new use cases.\n",
    "- Both models support the following fragament types:\n",
    "'b_z1', 'b_z2', 'y_z1', 'y_z2', 'b_modloss_z1', 'b_modloss_z2', 'y_modloss_z1', 'y_modloss_z2'\n",
    "\n",
    "- To see what fragment types are supported in the alpha ecosystem check alphabase.fragment.FRAGMENT_TYPES"
   ]
  },
  {
   "cell_type": "code",
   "execution_count": null,
   "metadata": {},
   "outputs": [],
   "source": [
    "legacy_path = \"../legacy_pretrained_models/generic/ms2.pth\"\n",
    "new_path = \"../new_pretrained_models/generic/ms2.pth\""
   ]
  },
  {
   "cell_type": "markdown",
   "metadata": {},
   "source": [
    "# 1. Ms2 Prediction "
   ]
  },
  {
   "cell_type": "markdown",
   "metadata": {},
   "source": [
    "## 1.1 Starting with the Legacy weights format\n",
    "To show what the new format solve, lets consider three different use cases of loading a pretrained model."
   ]
  },
  {
   "cell_type": "markdown",
   "metadata": {},
   "source": [
    "a) Using incorrect *len* of frag types when initialization (Will raise mismatch error)\n",
    "- Which means users can not predict a subset of the fragment types supported by the loaded pretrained model"
   ]
  },
  {
   "cell_type": "code",
   "execution_count": 45,
   "metadata": {},
   "outputs": [
    {
     "name": "stdout",
     "output_type": "stream",
     "text": [
      "Error(s) in loading state_dict for ModelMS2Bert:\n",
      "\tsize mismatch for output_nn.nn.2.weight: copying a param with shape torch.Size([4, 64]) from checkpoint, the shape in current model is torch.Size([2, 64]).\n",
      "\tsize mismatch for output_nn.nn.2.bias: copying a param with shape torch.Size([4]) from checkpoint, the shape in current model is torch.Size([2]).\n",
      "\tsize mismatch for modloss_nn.1.nn.2.weight: copying a param with shape torch.Size([4, 64]) from checkpoint, the shape in current model is torch.Size([2, 64]).\n",
      "\tsize mismatch for modloss_nn.1.nn.2.bias: copying a param with shape torch.Size([4]) from checkpoint, the shape in current model is torch.Size([2]).\n"
     ]
    }
   ],
   "source": [
    "try: \n",
    "    model_interface = pDeepModel(charged_frag_types=['b_z1', 'b_z2', 'b_modloss_z1', 'b_modloss_z2'])\n",
    "    model_interface.load(legacy_path)\n",
    "except Exception as e:\n",
    "    print(e)"
   ]
  },
  {
   "cell_type": "markdown",
   "metadata": {},
   "source": [
    "b) Using the correct *len* of frag types when initialization ***EVEN*** if the requested fragment types are completely different.(**Worst** use case)   \n",
    "- It's important to notice that the old format **won't** raise an error and the prediction goes through (even with misleading column names)"
   ]
  },
  {
   "cell_type": "code",
   "execution_count": 46,
   "metadata": {},
   "outputs": [],
   "source": [
    "# Notice replacing the y_z1 and y_z2 with x_z1 and x_z2 and the model is loaded successfully and we get an incorrect prediction\n",
    "model_interface = pDeepModel(charged_frag_types=['b_z1', 'b_z2', 'x_z1', 'x_z2', 'b_modloss_z1', 'b_modloss_z2', 'y_modloss_z1', 'y_modloss_z2'])\n",
    "model_interface.load(legacy_path)"
   ]
  },
  {
   "cell_type": "code",
   "execution_count": 47,
   "metadata": {},
   "outputs": [
    {
     "data": {
      "text/html": [
       "<div>\n",
       "<style scoped>\n",
       "    .dataframe tbody tr th:only-of-type {\n",
       "        vertical-align: middle;\n",
       "    }\n",
       "\n",
       "    .dataframe tbody tr th {\n",
       "        vertical-align: top;\n",
       "    }\n",
       "\n",
       "    .dataframe thead th {\n",
       "        text-align: right;\n",
       "    }\n",
       "</style>\n",
       "<table border=\"1\" class=\"dataframe\">\n",
       "  <thead>\n",
       "    <tr style=\"text-align: right;\">\n",
       "      <th></th>\n",
       "      <th>b_z1</th>\n",
       "      <th>b_z2</th>\n",
       "      <th>x_z1</th>\n",
       "      <th>x_z2</th>\n",
       "      <th>b_modloss_z1</th>\n",
       "      <th>b_modloss_z2</th>\n",
       "      <th>y_modloss_z1</th>\n",
       "      <th>y_modloss_z2</th>\n",
       "    </tr>\n",
       "  </thead>\n",
       "  <tbody>\n",
       "    <tr>\n",
       "      <th>0</th>\n",
       "      <td>0.000000</td>\n",
       "      <td>0.0</td>\n",
       "      <td>1.000000</td>\n",
       "      <td>0.004739</td>\n",
       "      <td>0.0</td>\n",
       "      <td>0.0</td>\n",
       "      <td>0.0</td>\n",
       "      <td>0.0</td>\n",
       "    </tr>\n",
       "    <tr>\n",
       "      <th>1</th>\n",
       "      <td>0.162034</td>\n",
       "      <td>0.0</td>\n",
       "      <td>0.360414</td>\n",
       "      <td>0.000000</td>\n",
       "      <td>0.0</td>\n",
       "      <td>0.0</td>\n",
       "      <td>0.0</td>\n",
       "      <td>0.0</td>\n",
       "    </tr>\n",
       "    <tr>\n",
       "      <th>2</th>\n",
       "      <td>0.046660</td>\n",
       "      <td>0.0</td>\n",
       "      <td>0.109920</td>\n",
       "      <td>0.005516</td>\n",
       "      <td>0.0</td>\n",
       "      <td>0.0</td>\n",
       "      <td>0.0</td>\n",
       "      <td>0.0</td>\n",
       "    </tr>\n",
       "    <tr>\n",
       "      <th>3</th>\n",
       "      <td>0.018628</td>\n",
       "      <td>0.0</td>\n",
       "      <td>0.203326</td>\n",
       "      <td>0.000000</td>\n",
       "      <td>0.0</td>\n",
       "      <td>0.0</td>\n",
       "      <td>0.0</td>\n",
       "      <td>0.0</td>\n",
       "    </tr>\n",
       "    <tr>\n",
       "      <th>4</th>\n",
       "      <td>0.013530</td>\n",
       "      <td>0.0</td>\n",
       "      <td>0.267507</td>\n",
       "      <td>0.000000</td>\n",
       "      <td>0.0</td>\n",
       "      <td>0.0</td>\n",
       "      <td>0.0</td>\n",
       "      <td>0.0</td>\n",
       "    </tr>\n",
       "  </tbody>\n",
       "</table>\n",
       "</div>"
      ],
      "text/plain": [
       "       b_z1  b_z2      x_z1      x_z2  b_modloss_z1  b_modloss_z2  \\\n",
       "0  0.000000   0.0  1.000000  0.004739           0.0           0.0   \n",
       "1  0.162034   0.0  0.360414  0.000000           0.0           0.0   \n",
       "2  0.046660   0.0  0.109920  0.005516           0.0           0.0   \n",
       "3  0.018628   0.0  0.203326  0.000000           0.0           0.0   \n",
       "4  0.013530   0.0  0.267507  0.000000           0.0           0.0   \n",
       "\n",
       "   y_modloss_z1  y_modloss_z2  \n",
       "0           0.0           0.0  \n",
       "1           0.0           0.0  \n",
       "2           0.0           0.0  \n",
       "3           0.0           0.0  \n",
       "4           0.0           0.0  "
      ]
     },
     "execution_count": 47,
     "metadata": {},
     "output_type": "execute_result"
    }
   ],
   "source": [
    "preds = model_interface.predict(get_prediction_dataset())\n",
    "preds.head()"
   ]
  },
  {
   "cell_type": "markdown",
   "metadata": {},
   "source": [
    "c) Using exactly the same charged frags (and same order) as used during training. (**Ideal** use case and the only one supported by the legacy format)"
   ]
  },
  {
   "cell_type": "code",
   "execution_count": 48,
   "metadata": {},
   "outputs": [],
   "source": [
    "# Ideal use case requested frag types == training frag types\n",
    "model_interface = pDeepModel(charged_frag_types=['b_z1', 'b_z2', 'y_z1', 'y_z2', 'b_modloss_z1', 'b_modloss_z2', 'y_modloss_z1', 'y_modloss_z2'])\n",
    "model_interface.load(legacy_path)\n"
   ]
  },
  {
   "cell_type": "code",
   "execution_count": 49,
   "metadata": {},
   "outputs": [
    {
     "data": {
      "text/html": [
       "<div>\n",
       "<style scoped>\n",
       "    .dataframe tbody tr th:only-of-type {\n",
       "        vertical-align: middle;\n",
       "    }\n",
       "\n",
       "    .dataframe tbody tr th {\n",
       "        vertical-align: top;\n",
       "    }\n",
       "\n",
       "    .dataframe thead th {\n",
       "        text-align: right;\n",
       "    }\n",
       "</style>\n",
       "<table border=\"1\" class=\"dataframe\">\n",
       "  <thead>\n",
       "    <tr style=\"text-align: right;\">\n",
       "      <th></th>\n",
       "      <th>b_z1</th>\n",
       "      <th>b_z2</th>\n",
       "      <th>y_z1</th>\n",
       "      <th>y_z2</th>\n",
       "      <th>b_modloss_z1</th>\n",
       "      <th>b_modloss_z2</th>\n",
       "      <th>y_modloss_z1</th>\n",
       "      <th>y_modloss_z2</th>\n",
       "    </tr>\n",
       "  </thead>\n",
       "  <tbody>\n",
       "    <tr>\n",
       "      <th>0</th>\n",
       "      <td>0.000000</td>\n",
       "      <td>0.0</td>\n",
       "      <td>1.000000</td>\n",
       "      <td>0.004739</td>\n",
       "      <td>0.0</td>\n",
       "      <td>0.0</td>\n",
       "      <td>0.0</td>\n",
       "      <td>0.0</td>\n",
       "    </tr>\n",
       "    <tr>\n",
       "      <th>1</th>\n",
       "      <td>0.162034</td>\n",
       "      <td>0.0</td>\n",
       "      <td>0.360414</td>\n",
       "      <td>0.000000</td>\n",
       "      <td>0.0</td>\n",
       "      <td>0.0</td>\n",
       "      <td>0.0</td>\n",
       "      <td>0.0</td>\n",
       "    </tr>\n",
       "    <tr>\n",
       "      <th>2</th>\n",
       "      <td>0.046660</td>\n",
       "      <td>0.0</td>\n",
       "      <td>0.109920</td>\n",
       "      <td>0.005516</td>\n",
       "      <td>0.0</td>\n",
       "      <td>0.0</td>\n",
       "      <td>0.0</td>\n",
       "      <td>0.0</td>\n",
       "    </tr>\n",
       "    <tr>\n",
       "      <th>3</th>\n",
       "      <td>0.018628</td>\n",
       "      <td>0.0</td>\n",
       "      <td>0.203326</td>\n",
       "      <td>0.000000</td>\n",
       "      <td>0.0</td>\n",
       "      <td>0.0</td>\n",
       "      <td>0.0</td>\n",
       "      <td>0.0</td>\n",
       "    </tr>\n",
       "    <tr>\n",
       "      <th>4</th>\n",
       "      <td>0.013530</td>\n",
       "      <td>0.0</td>\n",
       "      <td>0.267507</td>\n",
       "      <td>0.000000</td>\n",
       "      <td>0.0</td>\n",
       "      <td>0.0</td>\n",
       "      <td>0.0</td>\n",
       "      <td>0.0</td>\n",
       "    </tr>\n",
       "  </tbody>\n",
       "</table>\n",
       "</div>"
      ],
      "text/plain": [
       "       b_z1  b_z2      y_z1      y_z2  b_modloss_z1  b_modloss_z2  \\\n",
       "0  0.000000   0.0  1.000000  0.004739           0.0           0.0   \n",
       "1  0.162034   0.0  0.360414  0.000000           0.0           0.0   \n",
       "2  0.046660   0.0  0.109920  0.005516           0.0           0.0   \n",
       "3  0.018628   0.0  0.203326  0.000000           0.0           0.0   \n",
       "4  0.013530   0.0  0.267507  0.000000           0.0           0.0   \n",
       "\n",
       "   y_modloss_z1  y_modloss_z2  \n",
       "0           0.0           0.0  \n",
       "1           0.0           0.0  \n",
       "2           0.0           0.0  \n",
       "3           0.0           0.0  \n",
       "4           0.0           0.0  "
      ]
     },
     "execution_count": 49,
     "metadata": {},
     "output_type": "execute_result"
    }
   ],
   "source": [
    "legacy_full_preds = model_interface.predict(get_prediction_dataset())\n",
    "legacy_full_preds.head()"
   ]
  },
  {
   "cell_type": "code",
   "execution_count": 50,
   "metadata": {},
   "outputs": [
    {
     "data": {
      "text/plain": [
       "\"\\nIf you don't have the new weights format uncomment the following line and run the cell \\nafter loading the legacy model weights with the correct frag types (last 2 cells)\\nit should  save the new weights in the new_path.\\n\""
      ]
     },
     "execution_count": 50,
     "metadata": {},
     "output_type": "execute_result"
    }
   ],
   "source": [
    "\"\"\"\n",
    "If you don't have the new weights format uncomment the following line and run the cell \n",
    "after loading the legacy model weights with the correct frag types (last 2 cells)\n",
    "it should  save the new weights in the new_path.\n",
    "\"\"\"\n",
    "# model_interface.save(new_path)"
   ]
  },
  {
   "cell_type": "markdown",
   "metadata": {},
   "source": [
    "## 1.2 Benefits of the new parameter format shown with different use-cases."
   ]
  },
  {
   "cell_type": "markdown",
   "metadata": {},
   "source": [
    "a) Using exactly the same charged frags (and same order) as used during training. (**Ideal** use case)"
   ]
  },
  {
   "cell_type": "code",
   "execution_count": 51,
   "metadata": {},
   "outputs": [],
   "source": [
    "model_interface = pDeepModel(charged_frag_types=['b_z1', 'b_z2', 'y_z1', 'y_z2', 'b_modloss_z1', 'b_modloss_z2', 'y_modloss_z1', 'y_modloss_z2'])\n",
    "model_interface.load(new_path)"
   ]
  },
  {
   "cell_type": "code",
   "execution_count": 52,
   "metadata": {},
   "outputs": [
    {
     "data": {
      "text/html": [
       "<div>\n",
       "<style scoped>\n",
       "    .dataframe tbody tr th:only-of-type {\n",
       "        vertical-align: middle;\n",
       "    }\n",
       "\n",
       "    .dataframe tbody tr th {\n",
       "        vertical-align: top;\n",
       "    }\n",
       "\n",
       "    .dataframe thead th {\n",
       "        text-align: right;\n",
       "    }\n",
       "</style>\n",
       "<table border=\"1\" class=\"dataframe\">\n",
       "  <thead>\n",
       "    <tr style=\"text-align: right;\">\n",
       "      <th></th>\n",
       "      <th>b_z1</th>\n",
       "      <th>b_z2</th>\n",
       "      <th>y_z1</th>\n",
       "      <th>y_z2</th>\n",
       "      <th>b_modloss_z1</th>\n",
       "      <th>b_modloss_z2</th>\n",
       "      <th>y_modloss_z1</th>\n",
       "      <th>y_modloss_z2</th>\n",
       "    </tr>\n",
       "  </thead>\n",
       "  <tbody>\n",
       "    <tr>\n",
       "      <th>0</th>\n",
       "      <td>0.000000</td>\n",
       "      <td>0.0</td>\n",
       "      <td>1.000000</td>\n",
       "      <td>0.004739</td>\n",
       "      <td>0.0</td>\n",
       "      <td>0.0</td>\n",
       "      <td>0.0</td>\n",
       "      <td>0.0</td>\n",
       "    </tr>\n",
       "    <tr>\n",
       "      <th>1</th>\n",
       "      <td>0.162034</td>\n",
       "      <td>0.0</td>\n",
       "      <td>0.360414</td>\n",
       "      <td>0.000000</td>\n",
       "      <td>0.0</td>\n",
       "      <td>0.0</td>\n",
       "      <td>0.0</td>\n",
       "      <td>0.0</td>\n",
       "    </tr>\n",
       "    <tr>\n",
       "      <th>2</th>\n",
       "      <td>0.046660</td>\n",
       "      <td>0.0</td>\n",
       "      <td>0.109920</td>\n",
       "      <td>0.005516</td>\n",
       "      <td>0.0</td>\n",
       "      <td>0.0</td>\n",
       "      <td>0.0</td>\n",
       "      <td>0.0</td>\n",
       "    </tr>\n",
       "    <tr>\n",
       "      <th>3</th>\n",
       "      <td>0.018628</td>\n",
       "      <td>0.0</td>\n",
       "      <td>0.203326</td>\n",
       "      <td>0.000000</td>\n",
       "      <td>0.0</td>\n",
       "      <td>0.0</td>\n",
       "      <td>0.0</td>\n",
       "      <td>0.0</td>\n",
       "    </tr>\n",
       "    <tr>\n",
       "      <th>4</th>\n",
       "      <td>0.013530</td>\n",
       "      <td>0.0</td>\n",
       "      <td>0.267507</td>\n",
       "      <td>0.000000</td>\n",
       "      <td>0.0</td>\n",
       "      <td>0.0</td>\n",
       "      <td>0.0</td>\n",
       "      <td>0.0</td>\n",
       "    </tr>\n",
       "  </tbody>\n",
       "</table>\n",
       "</div>"
      ],
      "text/plain": [
       "       b_z1  b_z2      y_z1      y_z2  b_modloss_z1  b_modloss_z2  \\\n",
       "0  0.000000   0.0  1.000000  0.004739           0.0           0.0   \n",
       "1  0.162034   0.0  0.360414  0.000000           0.0           0.0   \n",
       "2  0.046660   0.0  0.109920  0.005516           0.0           0.0   \n",
       "3  0.018628   0.0  0.203326  0.000000           0.0           0.0   \n",
       "4  0.013530   0.0  0.267507  0.000000           0.0           0.0   \n",
       "\n",
       "   y_modloss_z1  y_modloss_z2  \n",
       "0           0.0           0.0  \n",
       "1           0.0           0.0  \n",
       "2           0.0           0.0  \n",
       "3           0.0           0.0  \n",
       "4           0.0           0.0  "
      ]
     },
     "execution_count": 52,
     "metadata": {},
     "output_type": "execute_result"
    }
   ],
   "source": [
    "new_full_preds = model_interface.predict(get_prediction_dataset())\n",
    "# verify the predictions are the same\n",
    "assert np.allclose(legacy_full_preds.values, new_full_preds.values, atol=1e-5)\n",
    "new_full_preds.head()"
   ]
  },
  {
   "cell_type": "markdown",
   "metadata": {},
   "source": [
    "b) Using incorrect *len* of frag types during initialization but still a valid subset of what was used during training. \n",
    "\n",
    "Examples:\n",
    "- 1) Excluding the modloss frags, preivously done by setting mask_modloss = True"
   ]
  },
  {
   "cell_type": "code",
   "execution_count": 53,
   "metadata": {},
   "outputs": [
    {
     "name": "stdout",
     "output_type": "stream",
     "text": [
      "Model Interface has charged_frag_types ['b_z1', 'b_z2', 'y_z1', 'y_z2']\n",
      "Supported charged_frag_types in the loaded weights  ['b_z1', 'b_z2', 'y_z1', 'y_z2', 'b_modloss_z1', 'b_modloss_z2', 'y_modloss_z1', 'y_modloss_z2']\n"
     ]
    }
   ],
   "source": [
    "# Excluding the modloss fragment types\n",
    "model_interface = pDeepModel(charged_frag_types=['b_z1', 'b_z2', 'y_z1', 'y_z2'])\n",
    "model_interface.load(new_path)\n",
    "print(f\"Model Interface has charged_frag_types {model_interface.charged_frag_types}\")\n",
    "print(f\"Supported charged_frag_types in the loaded weights  {model_interface.model.supported_charged_frag_types}\")"
   ]
  },
  {
   "cell_type": "code",
   "execution_count": 54,
   "metadata": {},
   "outputs": [
    {
     "data": {
      "text/html": [
       "<div>\n",
       "<style scoped>\n",
       "    .dataframe tbody tr th:only-of-type {\n",
       "        vertical-align: middle;\n",
       "    }\n",
       "\n",
       "    .dataframe tbody tr th {\n",
       "        vertical-align: top;\n",
       "    }\n",
       "\n",
       "    .dataframe thead th {\n",
       "        text-align: right;\n",
       "    }\n",
       "</style>\n",
       "<table border=\"1\" class=\"dataframe\">\n",
       "  <thead>\n",
       "    <tr style=\"text-align: right;\">\n",
       "      <th></th>\n",
       "      <th>b_z1</th>\n",
       "      <th>b_z2</th>\n",
       "      <th>y_z1</th>\n",
       "      <th>y_z2</th>\n",
       "    </tr>\n",
       "  </thead>\n",
       "  <tbody>\n",
       "    <tr>\n",
       "      <th>0</th>\n",
       "      <td>0.000000</td>\n",
       "      <td>0.0</td>\n",
       "      <td>1.000000</td>\n",
       "      <td>0.004739</td>\n",
       "    </tr>\n",
       "    <tr>\n",
       "      <th>1</th>\n",
       "      <td>0.162034</td>\n",
       "      <td>0.0</td>\n",
       "      <td>0.360414</td>\n",
       "      <td>0.000000</td>\n",
       "    </tr>\n",
       "    <tr>\n",
       "      <th>2</th>\n",
       "      <td>0.046660</td>\n",
       "      <td>0.0</td>\n",
       "      <td>0.109920</td>\n",
       "      <td>0.005516</td>\n",
       "    </tr>\n",
       "    <tr>\n",
       "      <th>3</th>\n",
       "      <td>0.018628</td>\n",
       "      <td>0.0</td>\n",
       "      <td>0.203326</td>\n",
       "      <td>0.000000</td>\n",
       "    </tr>\n",
       "    <tr>\n",
       "      <th>4</th>\n",
       "      <td>0.013530</td>\n",
       "      <td>0.0</td>\n",
       "      <td>0.267507</td>\n",
       "      <td>0.000000</td>\n",
       "    </tr>\n",
       "  </tbody>\n",
       "</table>\n",
       "</div>"
      ],
      "text/plain": [
       "       b_z1  b_z2      y_z1      y_z2\n",
       "0  0.000000   0.0  1.000000  0.004739\n",
       "1  0.162034   0.0  0.360414  0.000000\n",
       "2  0.046660   0.0  0.109920  0.005516\n",
       "3  0.018628   0.0  0.203326  0.000000\n",
       "4  0.013530   0.0  0.267507  0.000000"
      ]
     },
     "execution_count": 54,
     "metadata": {},
     "output_type": "execute_result"
    }
   ],
   "source": [
    "# verify that the predictions are the same with the legacy model for the selected subset of charged_frag_types\n",
    "new_subset_preds = model_interface.predict(get_prediction_dataset())\n",
    "assert np.allclose(legacy_full_preds[new_subset_preds.columns], new_subset_preds)\n",
    "new_subset_preds.head()"
   ]
  },
  {
   "cell_type": "markdown",
   "metadata": {},
   "source": [
    "- 2) Excluding frag types that are not modloss (*New* use case)"
   ]
  },
  {
   "cell_type": "code",
   "execution_count": null,
   "metadata": {},
   "outputs": [],
   "source": [
    "# Excluding the y fragments while keeping the modloss fragments\n",
    "model_interface = pDeepModel(charged_frag_types=['b_z1', 'b_z2', 'b_modloss_z1', 'b_modloss_z2'])\n",
    "model_interface.load(new_path)"
   ]
  },
  {
   "cell_type": "code",
   "execution_count": 56,
   "metadata": {},
   "outputs": [
    {
     "data": {
      "text/html": [
       "<div>\n",
       "<style scoped>\n",
       "    .dataframe tbody tr th:only-of-type {\n",
       "        vertical-align: middle;\n",
       "    }\n",
       "\n",
       "    .dataframe tbody tr th {\n",
       "        vertical-align: top;\n",
       "    }\n",
       "\n",
       "    .dataframe thead th {\n",
       "        text-align: right;\n",
       "    }\n",
       "</style>\n",
       "<table border=\"1\" class=\"dataframe\">\n",
       "  <thead>\n",
       "    <tr style=\"text-align: right;\">\n",
       "      <th></th>\n",
       "      <th>b_z1</th>\n",
       "      <th>b_z2</th>\n",
       "      <th>b_modloss_z1</th>\n",
       "      <th>b_modloss_z2</th>\n",
       "    </tr>\n",
       "  </thead>\n",
       "  <tbody>\n",
       "    <tr>\n",
       "      <th>0</th>\n",
       "      <td>0.000000</td>\n",
       "      <td>0.0</td>\n",
       "      <td>0.0</td>\n",
       "      <td>0.0</td>\n",
       "    </tr>\n",
       "    <tr>\n",
       "      <th>1</th>\n",
       "      <td>0.162034</td>\n",
       "      <td>0.0</td>\n",
       "      <td>0.0</td>\n",
       "      <td>0.0</td>\n",
       "    </tr>\n",
       "    <tr>\n",
       "      <th>2</th>\n",
       "      <td>0.046660</td>\n",
       "      <td>0.0</td>\n",
       "      <td>0.0</td>\n",
       "      <td>0.0</td>\n",
       "    </tr>\n",
       "    <tr>\n",
       "      <th>3</th>\n",
       "      <td>0.018628</td>\n",
       "      <td>0.0</td>\n",
       "      <td>0.0</td>\n",
       "      <td>0.0</td>\n",
       "    </tr>\n",
       "    <tr>\n",
       "      <th>4</th>\n",
       "      <td>0.013530</td>\n",
       "      <td>0.0</td>\n",
       "      <td>0.0</td>\n",
       "      <td>0.0</td>\n",
       "    </tr>\n",
       "  </tbody>\n",
       "</table>\n",
       "</div>"
      ],
      "text/plain": [
       "       b_z1  b_z2  b_modloss_z1  b_modloss_z2\n",
       "0  0.000000   0.0           0.0           0.0\n",
       "1  0.162034   0.0           0.0           0.0\n",
       "2  0.046660   0.0           0.0           0.0\n",
       "3  0.018628   0.0           0.0           0.0\n",
       "4  0.013530   0.0           0.0           0.0"
      ]
     },
     "execution_count": 56,
     "metadata": {},
     "output_type": "execute_result"
    }
   ],
   "source": [
    "# verify that the predictions are the same with the legacy model for the selected subset of charged_frag_types\n",
    "new_subset_preds = model_interface.predict(get_prediction_dataset())\n",
    "assert np.allclose(legacy_full_preds[new_subset_preds.columns], new_subset_preds)\n",
    "new_subset_preds.head()"
   ]
  },
  {
   "cell_type": "markdown",
   "metadata": {},
   "source": [
    "c) Requesting fragment types that are not supported by the loaded pretrained model. \n",
    "\n",
    "Using the new format; the supported charged frag types are explicit and transparent, so when a user request frag types that are not supported we can detect and raise an interpretable *error* (**New** feature)"
   ]
  },
  {
   "cell_type": "code",
   "execution_count": 57,
   "metadata": {},
   "outputs": [
    {
     "name": "stdout",
     "output_type": "stream",
     "text": [
      "The model is not safe to use for prediction. This might mean that the requested charged_frag_types ['x_z1', 'x_z2'] are not a subset of the charged_frag_types used to train the loaded pretrained model ['b_z1', 'b_z2', 'y_z1', 'y_z2', 'b_modloss_z1', 'b_modloss_z2', 'y_modloss_z1', 'y_modloss_z2']. Please choose a subset of the supported charged_frag_types or retrain the model with the requested charged_frag_types.\n"
     ]
    }
   ],
   "source": [
    "try:\n",
    "    model_interface = pDeepModel(charged_frag_types=['x_z1', 'x_z2'])\n",
    "    model_interface.load(new_path)\n",
    "\n",
    "    new_subset_preds = model_interface.predict(get_prediction_dataset())\n",
    "except Exception as e:\n",
    "    print(e)\n"
   ]
  },
  {
   "cell_type": "markdown",
   "metadata": {},
   "source": [
    "d) **Even** if the user requested correct *len* of frag types but the requested frag types are not a subset of what was used during training we should raise an *error* (Solving what was previously the **worst** case)"
   ]
  },
  {
   "cell_type": "code",
   "execution_count": 58,
   "metadata": {},
   "outputs": [
    {
     "name": "stdout",
     "output_type": "stream",
     "text": [
      "The model is not safe to use for prediction. This might mean that the requested charged_frag_types ['c_z1', 'c_z2', 'x_z1', 'x_z2', 'y_z1', 'y_z2', 'y_modloss_z1', 'y_modloss_z2'] are not a subset of the charged_frag_types used to train the loaded pretrained model ['b_z1', 'b_z2', 'y_z1', 'y_z2', 'b_modloss_z1', 'b_modloss_z2', 'y_modloss_z1', 'y_modloss_z2']. Please choose a subset of the supported charged_frag_types or retrain the model with the requested charged_frag_types.\n"
     ]
    }
   ],
   "source": [
    "try:\n",
    "    model_interface =  pDeepModel(charged_frag_types=['c_z1', 'c_z2', 'y_z1', 'y_z2', 'x_z1', 'x_z2', 'y_modloss_z1', 'y_modloss_z2'])\n",
    "    model_interface.load(new_path)\n",
    "\n",
    "    new_subset_preds = model_interface.predict(get_prediction_dataset())\n",
    "except Exception as e:\n",
    "    print(e)\n"
   ]
  },
  {
   "cell_type": "markdown",
   "metadata": {},
   "source": [
    "e) User has a weights file and want to predict all fragment types supported **without** knowing what exactly was used during training (**New** use case)\n",
    "\n",
    "Notice how the requested frag types are overridden in the model interface"
   ]
  },
  {
   "cell_type": "code",
   "execution_count": 59,
   "metadata": {},
   "outputs": [
    {
     "name": "stdout",
     "output_type": "stream",
     "text": [
      "Model Interface has requested charged_frag_types ['b_z1', 'b_z2', 'y_z1', 'y_z2', 'b_modloss_z1', 'b_modloss_z2', 'y_modloss_z1', 'y_modloss_z2']\n",
      "Supported charged_frag_types in the loaded weights  ['b_z1', 'b_z2', 'y_z1', 'y_z2', 'b_modloss_z1', 'b_modloss_z2', 'y_modloss_z1', 'y_modloss_z2']\n"
     ]
    }
   ],
   "source": [
    "model_interface =  pDeepModel(\n",
    "    charged_frag_types=['c_z1'], # Will be overridden by the supported charged_frag_types in the loaded weights\n",
    "    override_from_weights=True\n",
    "    )\n",
    "model_interface.load(new_path)\n",
    "\n",
    "print(f\"Model Interface has requested charged_frag_types {model_interface.charged_frag_types}\")\n",
    "print(f\"Supported charged_frag_types in the loaded weights  {model_interface.model.supported_charged_frag_types}\")"
   ]
  },
  {
   "cell_type": "code",
   "execution_count": 60,
   "metadata": {},
   "outputs": [
    {
     "data": {
      "text/html": [
       "<div>\n",
       "<style scoped>\n",
       "    .dataframe tbody tr th:only-of-type {\n",
       "        vertical-align: middle;\n",
       "    }\n",
       "\n",
       "    .dataframe tbody tr th {\n",
       "        vertical-align: top;\n",
       "    }\n",
       "\n",
       "    .dataframe thead th {\n",
       "        text-align: right;\n",
       "    }\n",
       "</style>\n",
       "<table border=\"1\" class=\"dataframe\">\n",
       "  <thead>\n",
       "    <tr style=\"text-align: right;\">\n",
       "      <th></th>\n",
       "      <th>b_z1</th>\n",
       "      <th>b_z2</th>\n",
       "      <th>y_z1</th>\n",
       "      <th>y_z2</th>\n",
       "      <th>b_modloss_z1</th>\n",
       "      <th>b_modloss_z2</th>\n",
       "      <th>y_modloss_z1</th>\n",
       "      <th>y_modloss_z2</th>\n",
       "    </tr>\n",
       "  </thead>\n",
       "  <tbody>\n",
       "    <tr>\n",
       "      <th>0</th>\n",
       "      <td>0.000000</td>\n",
       "      <td>0.0</td>\n",
       "      <td>1.000000</td>\n",
       "      <td>0.004739</td>\n",
       "      <td>0.0</td>\n",
       "      <td>0.0</td>\n",
       "      <td>0.0</td>\n",
       "      <td>0.0</td>\n",
       "    </tr>\n",
       "    <tr>\n",
       "      <th>1</th>\n",
       "      <td>0.162034</td>\n",
       "      <td>0.0</td>\n",
       "      <td>0.360414</td>\n",
       "      <td>0.000000</td>\n",
       "      <td>0.0</td>\n",
       "      <td>0.0</td>\n",
       "      <td>0.0</td>\n",
       "      <td>0.0</td>\n",
       "    </tr>\n",
       "    <tr>\n",
       "      <th>2</th>\n",
       "      <td>0.046660</td>\n",
       "      <td>0.0</td>\n",
       "      <td>0.109920</td>\n",
       "      <td>0.005516</td>\n",
       "      <td>0.0</td>\n",
       "      <td>0.0</td>\n",
       "      <td>0.0</td>\n",
       "      <td>0.0</td>\n",
       "    </tr>\n",
       "    <tr>\n",
       "      <th>3</th>\n",
       "      <td>0.018628</td>\n",
       "      <td>0.0</td>\n",
       "      <td>0.203326</td>\n",
       "      <td>0.000000</td>\n",
       "      <td>0.0</td>\n",
       "      <td>0.0</td>\n",
       "      <td>0.0</td>\n",
       "      <td>0.0</td>\n",
       "    </tr>\n",
       "    <tr>\n",
       "      <th>4</th>\n",
       "      <td>0.013530</td>\n",
       "      <td>0.0</td>\n",
       "      <td>0.267507</td>\n",
       "      <td>0.000000</td>\n",
       "      <td>0.0</td>\n",
       "      <td>0.0</td>\n",
       "      <td>0.0</td>\n",
       "      <td>0.0</td>\n",
       "    </tr>\n",
       "  </tbody>\n",
       "</table>\n",
       "</div>"
      ],
      "text/plain": [
       "       b_z1  b_z2      y_z1      y_z2  b_modloss_z1  b_modloss_z2  \\\n",
       "0  0.000000   0.0  1.000000  0.004739           0.0           0.0   \n",
       "1  0.162034   0.0  0.360414  0.000000           0.0           0.0   \n",
       "2  0.046660   0.0  0.109920  0.005516           0.0           0.0   \n",
       "3  0.018628   0.0  0.203326  0.000000           0.0           0.0   \n",
       "4  0.013530   0.0  0.267507  0.000000           0.0           0.0   \n",
       "\n",
       "   y_modloss_z1  y_modloss_z2  \n",
       "0           0.0           0.0  \n",
       "1           0.0           0.0  \n",
       "2           0.0           0.0  \n",
       "3           0.0           0.0  \n",
       "4           0.0           0.0  "
      ]
     },
     "execution_count": 60,
     "metadata": {},
     "output_type": "execute_result"
    }
   ],
   "source": [
    "new_full_preds = model_interface.predict(get_prediction_dataset())\n",
    "# verify the predictions are the same\n",
    "assert np.allclose(legacy_full_preds.values, new_full_preds.values, atol=1e-5)\n",
    "new_full_preds.head()"
   ]
  },
  {
   "cell_type": "markdown",
   "metadata": {},
   "source": [
    "f) Even If users requested the correct frag types but with an *incorrect* order, they are implicitly ordered using `alphabase.sort_charged_frag_types`"
   ]
  },
  {
   "cell_type": "code",
   "execution_count": 61,
   "metadata": {},
   "outputs": [
    {
     "name": "stdout",
     "output_type": "stream",
     "text": [
      "Model Interface has requested charged_frag_types ['b_z1', 'b_z2', 'y_z1', 'y_z2', 'b_modloss_z1', 'b_modloss_z2', 'y_modloss_z1', 'y_modloss_z2']\n",
      "Supported charged_frag_types in the loaded weights  ['b_z1', 'b_z2', 'y_z1', 'y_z2', 'b_modloss_z1', 'b_modloss_z2', 'y_modloss_z1', 'y_modloss_z2']\n"
     ]
    }
   ],
   "source": [
    "model_interface = pDeepModel(charged_frag_types=['y_z2', 'y_z1', 'b_z2', 'b_z1', 'b_modloss_z1', 'b_modloss_z2', 'y_modloss_z1', 'y_modloss_z2'])\n",
    "model_interface.load(new_path)\n",
    "print(f\"Model Interface has requested charged_frag_types {model_interface.charged_frag_types}\")\n",
    "print(f\"Supported charged_frag_types in the loaded weights  {model_interface.model.supported_charged_frag_types}\")\n"
   ]
  },
  {
   "cell_type": "markdown",
   "metadata": {},
   "source": [
    "# 2. Ms2 transfer learning"
   ]
  },
  {
   "cell_type": "code",
   "execution_count": null,
   "metadata": {},
   "outputs": [
    {
     "name": "stdout",
     "output_type": "stream",
     "text": [
      "Fragment types in the training data: Index(['a_z1', 'a_z2', 'b_z1', 'b_z2', 'c_z1', 'c_z2', 'x_z1', 'x_z2', 'y_z1',\n",
      "       'y_z2', 'z_z1', 'z_z2', 'b_H2O_z1', 'b_H2O_z2', 'b_NH3_z1', 'b_NH3_z2',\n",
      "       'c_lossH_z1', 'c_lossH_z2', 'y_H2O_z1', 'y_H2O_z2', 'y_NH3_z1',\n",
      "       'y_NH3_z2', 'z_addH_z1', 'z_addH_z2', 'b_modloss_z1', 'b_modloss_z2',\n",
      "       'y_modloss_z1', 'y_modloss_z2'],\n",
      "      dtype='object')\n"
     ]
    }
   ],
   "source": [
    "trainin_data_path = \"../data/2oh_evidence_txt_0_batch_0.hdf\"\n",
    "speclib = SpecLibFlat()\n",
    "speclib.load_hdf(trainin_data_path)\n",
    "speclib.fragment_intensity_df[\"b_modloss_z1\"] = 0\n",
    "speclib.fragment_intensity_df[\"b_modloss_z2\"] = 0\n",
    "speclib.fragment_intensity_df[\"y_modloss_z1\"] = 0\n",
    "speclib.fragment_intensity_df[\"y_modloss_z2\"] = 0\n",
    "frgament_types_in_data = speclib.fragment_intensity_df.columns\n",
    "\n",
    "speclib.precursor_df['nce'] = 30\n",
    "speclib.precursor_df['instrument'] = \"Lumos\"\n",
    "# sample only 100 samples\n",
    "speclib.precursor_df = speclib.precursor_df.sample(100)\n",
    "\n",
    "# normalize intensity \n",
    "normalize_fragment_intensities(speclib.precursor_df, speclib.fragment_intensity_df)\n",
    "print(f\"Fragment types in the training data: {frgament_types_in_data}\")"
   ]
  },
  {
   "cell_type": "markdown",
   "metadata": {},
   "source": [
    "## 2.1 User loading a legacy model "
   ]
  },
  {
   "cell_type": "markdown",
   "metadata": {},
   "source": [
    "Using incorrect *len* of frag types when initialization (Will raise a mismatch error)\n"
   ]
  },
  {
   "cell_type": "code",
   "execution_count": 70,
   "metadata": {},
   "outputs": [
    {
     "name": "stdout",
     "output_type": "stream",
     "text": [
      "Error(s) in loading state_dict for ModelMS2Bert:\n",
      "\tsize mismatch for output_nn.nn.2.weight: copying a param with shape torch.Size([4, 64]) from checkpoint, the shape in current model is torch.Size([2, 64]).\n",
      "\tsize mismatch for output_nn.nn.2.bias: copying a param with shape torch.Size([4]) from checkpoint, the shape in current model is torch.Size([2]).\n",
      "\tsize mismatch for modloss_nn.1.nn.2.weight: copying a param with shape torch.Size([4, 64]) from checkpoint, the shape in current model is torch.Size([2, 64]).\n",
      "\tsize mismatch for modloss_nn.1.nn.2.bias: copying a param with shape torch.Size([4]) from checkpoint, the shape in current model is torch.Size([2]).\n"
     ]
    }
   ],
   "source": [
    "try:\n",
    "    target_frag_types = ['b_z1', 'b_z2', 'b_modloss_z1', 'b_modloss_z2']\n",
    "    model_interface = pDeepModel(charged_frag_types=target_frag_types)\n",
    "    model_interface.load(legacy_path)\n",
    "    model_interface.train(precursor_df=speclib.precursor_df, fragment_intensity_df=speclib.fragment_intensity_df.loc[:,target_frag_types], epoch=1, verbose=1)\n",
    "except Exception as e:\n",
    "    print(e)"
   ]
  },
  {
   "cell_type": "markdown",
   "metadata": {},
   "source": [
    "a) Using correct *len* of frag types when initialization (**Ideal** use case)\n"
   ]
  },
  {
   "cell_type": "code",
   "execution_count": 64,
   "metadata": {},
   "outputs": [
    {
     "name": "stdout",
     "output_type": "stream",
     "text": [
      "2025-02-27 18:19:19> Training with fixed sequence length: 0\n",
      "[Training] Epoch=1, Mean Loss=0.01842992820052637\n",
      "[Training] Epoch=2, Mean Loss=0.017078618622488446\n",
      "[Training] Epoch=3, Mean Loss=0.01577050112084382\n"
     ]
    }
   ],
   "source": [
    "target_frag_types = ['b_z1', 'b_z2', 'y_z1', 'y_z2', 'b_modloss_z1', 'b_modloss_z2', 'y_modloss_z1', 'y_modloss_z2']\n",
    "model_interface = pDeepModel(charged_frag_types=target_frag_types)\n",
    "model_interface.load(legacy_path)\n",
    "model_interface.train(precursor_df=speclib.precursor_df, fragment_intensity_df=speclib.fragment_intensity_df.loc[:,target_frag_types], epoch=3, verbose=1)"
   ]
  },
  {
   "cell_type": "markdown",
   "metadata": {},
   "source": [
    "## 2.2 Benefits of the new parameter format for transfer learning."
   ]
  },
  {
   "cell_type": "markdown",
   "metadata": {},
   "source": [
    "Training on new fragment types that were not part of the training of the original weights (**New** feature). \n",
    "- Since the architecture to support the requested fragment types will be different lets try the most obvious solution first -- training from scratch.  \n"
   ]
  },
  {
   "cell_type": "code",
   "execution_count": null,
   "metadata": {},
   "outputs": [
    {
     "name": "stdout",
     "output_type": "stream",
     "text": [
      "Training the model with the requested fragment types from scratch\n",
      "2025-02-27 18:19:23> Training with fixed sequence length: 0\n",
      "[Training] Epoch=1, Mean Loss=0.20166994051800835\n",
      "[Training] Epoch=2, Mean Loss=0.15216446336772707\n",
      "[Training] Epoch=3, Mean Loss=0.12939151955975425\n",
      "[Training] Epoch=4, Mean Loss=0.1190311929417981\n",
      "[Training] Epoch=5, Mean Loss=0.10276750516560343\n",
      "[Training] Epoch=6, Mean Loss=0.0983661309712463\n",
      "[Training] Epoch=7, Mean Loss=0.09396917579902543\n",
      "[Training] Epoch=8, Mean Loss=0.08694049964348476\n",
      "[Training] Epoch=9, Mean Loss=0.08316284211145507\n",
      "[Training] Epoch=10, Mean Loss=0.08015417887104882\n"
     ]
    }
   ],
   "source": [
    "# Notice we are not loading any weights but training the model from scratch\n",
    "target_frag_types = ['a_z1', 'a_z2', 'b_H2O_z1', 'b_H2O_z2'] \n",
    "model_interface = pDeepModel(charged_frag_types=target_frag_types)\n",
    "print(\"Training the model with the requested fragment types from scratch\")\n",
    "model_interface.train(precursor_df=speclib.precursor_df, fragment_intensity_df=speclib.fragment_intensity_df.loc[:,target_frag_types], epoch=10, verbose=1)\n"
   ]
  },
  {
   "cell_type": "markdown",
   "metadata": {},
   "source": [
    "- Using transfer learning by loading the pre-trained backbone and only the prediction heads are initialized from scratch which results in a much faster convergence and reduce the risk of overfiting.\n",
    "- Notice 2 things:\n",
    "    - The final training loss compared to training from scratch for the same number of epochs.\n",
    "    - When the requested frag types are not a subset of the supported, the model is not safe to use for prediction. After training, the model's state is automatically changed to _safe_to_predict."
   ]
  },
  {
   "cell_type": "code",
   "execution_count": 71,
   "metadata": {},
   "outputs": [
    {
     "name": "stdout",
     "output_type": "stream",
     "text": [
      "Trying to predict when the requested fragment types are not supported by the pretrained model\n",
      "Requested fragment types: ['a_z1', 'a_z2', 'b_H2O_z1', 'b_H2O_z2']\n",
      "Supported fragment types in the loaded weights: ['b_z1', 'b_z2', 'y_z1', 'y_z2', 'b_modloss_z1', 'b_modloss_z2', 'y_modloss_z1', 'y_modloss_z2']\n",
      "Error: The model is not safe to use for prediction. This might mean that the requested charged_frag_types ['a_z1', 'a_z2', 'b_H2O_z1', 'b_H2O_z2'] are not a subset of the charged_frag_types used to train the loaded pretrained model ['b_z1', 'b_z2', 'y_z1', 'y_z2', 'b_modloss_z1', 'b_modloss_z2', 'y_modloss_z1', 'y_modloss_z2']. Please choose a subset of the supported charged_frag_types or retrain the model with the requested charged_frag_types.\n"
     ]
    }
   ],
   "source": [
    "target_frag_types = ['a_z1', 'a_z2', 'b_H2O_z1', 'b_H2O_z2'] \n",
    "model_interface = pDeepModel(charged_frag_types=target_frag_types)\n",
    "model_interface.load(new_path)\n",
    "print(\"Trying to predict when the requested fragment types are not supported by the pretrained model\")\n",
    "print(f\"Requested fragment types: {target_frag_types}\")\n",
    "print(f\"Supported fragment types in the loaded weights: {model_interface.model.supported_charged_frag_types}\")\n",
    "try: \n",
    "    # try to predict with the new model\n",
    "    model_interface.predict(get_prediction_dataset())\n",
    "except Exception as e:\n",
    "    print(f\"Error: {e}\")\n",
    "\n"
   ]
  },
  {
   "cell_type": "code",
   "execution_count": 72,
   "metadata": {},
   "outputs": [
    {
     "name": "stdout",
     "output_type": "stream",
     "text": [
      "Training the model with the requested fragment types\n",
      "2025-02-27 18:30:05> Training with fixed sequence length: 0\n",
      "[Training] Epoch=1, Mean Loss=0.08342412755721146\n",
      "[Training] Epoch=2, Mean Loss=0.07767527177929878\n",
      "[Training] Epoch=3, Mean Loss=0.07237229889465703\n",
      "[Training] Epoch=4, Mean Loss=0.06727897334429953\n",
      "[Training] Epoch=5, Mean Loss=0.06287239574723774\n",
      "[Training] Epoch=6, Mean Loss=0.05764101083493895\n",
      "[Training] Epoch=7, Mean Loss=0.05389009426451392\n",
      "[Training] Epoch=8, Mean Loss=0.05020008898443646\n",
      "[Training] Epoch=9, Mean Loss=0.04623174532834026\n",
      "[Training] Epoch=10, Mean Loss=0.041998228368659817\n"
     ]
    }
   ],
   "source": [
    "print(\"Training the model with the requested fragment types\")\n",
    "\n",
    "model_interface.train(precursor_df=speclib.precursor_df, fragment_intensity_df=speclib.fragment_intensity_df.loc[:,target_frag_types], epoch=10, verbose=1)\n"
   ]
  },
  {
   "cell_type": "code",
   "execution_count": 73,
   "metadata": {},
   "outputs": [
    {
     "name": "stdout",
     "output_type": "stream",
     "text": [
      "Trying to predict after training with the requested fragment types\n"
     ]
    },
    {
     "data": {
      "text/html": [
       "<div>\n",
       "<style scoped>\n",
       "    .dataframe tbody tr th:only-of-type {\n",
       "        vertical-align: middle;\n",
       "    }\n",
       "\n",
       "    .dataframe tbody tr th {\n",
       "        vertical-align: top;\n",
       "    }\n",
       "\n",
       "    .dataframe thead th {\n",
       "        text-align: right;\n",
       "    }\n",
       "</style>\n",
       "<table border=\"1\" class=\"dataframe\">\n",
       "  <thead>\n",
       "    <tr style=\"text-align: right;\">\n",
       "      <th></th>\n",
       "      <th>a_z1</th>\n",
       "      <th>a_z2</th>\n",
       "      <th>b_H2O_z1</th>\n",
       "      <th>b_H2O_z2</th>\n",
       "    </tr>\n",
       "  </thead>\n",
       "  <tbody>\n",
       "    <tr>\n",
       "      <th>0</th>\n",
       "      <td>0.000000</td>\n",
       "      <td>0.0</td>\n",
       "      <td>1.000000</td>\n",
       "      <td>0.0</td>\n",
       "    </tr>\n",
       "    <tr>\n",
       "      <th>1</th>\n",
       "      <td>0.116859</td>\n",
       "      <td>0.0</td>\n",
       "      <td>0.316274</td>\n",
       "      <td>0.0</td>\n",
       "    </tr>\n",
       "    <tr>\n",
       "      <th>2</th>\n",
       "      <td>0.011386</td>\n",
       "      <td>0.0</td>\n",
       "      <td>0.044198</td>\n",
       "      <td>0.0</td>\n",
       "    </tr>\n",
       "    <tr>\n",
       "      <th>3</th>\n",
       "      <td>0.000000</td>\n",
       "      <td>0.0</td>\n",
       "      <td>0.092805</td>\n",
       "      <td>0.0</td>\n",
       "    </tr>\n",
       "    <tr>\n",
       "      <th>4</th>\n",
       "      <td>0.000000</td>\n",
       "      <td>0.0</td>\n",
       "      <td>0.125801</td>\n",
       "      <td>0.0</td>\n",
       "    </tr>\n",
       "  </tbody>\n",
       "</table>\n",
       "</div>"
      ],
      "text/plain": [
       "       a_z1  a_z2  b_H2O_z1  b_H2O_z2\n",
       "0  0.000000   0.0  1.000000       0.0\n",
       "1  0.116859   0.0  0.316274       0.0\n",
       "2  0.011386   0.0  0.044198       0.0\n",
       "3  0.000000   0.0  0.092805       0.0\n",
       "4  0.000000   0.0  0.125801       0.0"
      ]
     },
     "execution_count": 73,
     "metadata": {},
     "output_type": "execute_result"
    }
   ],
   "source": [
    "print(\"Trying to predict after training with the requested fragment types\")\n",
    "try: \n",
    "    # try to predict with the new model\n",
    "    preds = model_interface.predict(get_prediction_dataset())\n",
    "except Exception as e:\n",
    "    print(f\"Error: {e}\")\n",
    "\n",
    "preds.head()"
   ]
  },
  {
   "cell_type": "markdown",
   "metadata": {},
   "source": [
    "After training the new underlying model has requested frag types as the supported frag types. Which can then be saved and used for future prediction."
   ]
  },
  {
   "cell_type": "code",
   "execution_count": 74,
   "metadata": {},
   "outputs": [
    {
     "name": "stdout",
     "output_type": "stream",
     "text": [
      "Model Interface has requested charged_frag_types ['a_z1', 'a_z2', 'b_H2O_z1', 'b_H2O_z2']\n",
      "Supported charged_frag_types in the loaded weights  ['a_z1', 'a_z2', 'b_H2O_z1', 'b_H2O_z2']\n"
     ]
    }
   ],
   "source": [
    "print(f\"Model Interface has requested charged_frag_types {model_interface.charged_frag_types}\")\n",
    "print(f\"Supported charged_frag_types in the loaded weights  {model_interface.model.supported_charged_frag_types}\")"
   ]
  }
 ],
 "metadata": {
  "kernelspec": {
   "display_name": "peptdeep",
   "language": "python",
   "name": "python3"
  },
  "language_info": {
   "codemirror_mode": {
    "name": "ipython",
    "version": 3
   },
   "file_extension": ".py",
   "mimetype": "text/x-python",
   "name": "python",
   "nbconvert_exporter": "python",
   "pygments_lexer": "ipython3",
   "version": "3.9.19"
  }
 },
 "nbformat": 4,
 "nbformat_minor": 2
}
