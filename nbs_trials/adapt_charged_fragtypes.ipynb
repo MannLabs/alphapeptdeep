{
 "cells": [
  {
   "cell_type": "code",
   "execution_count": 3,
   "metadata": {},
   "outputs": [
    {
     "name": "stdout",
     "output_type": "stream",
     "text": [
      "The autoreload extension is already loaded. To reload it, use:\n",
      "  %reload_ext autoreload\n"
     ]
    }
   ],
   "source": [
    "from peptdeep.model.ms2 import pDeepModel, normalize_fragment_intensities\n",
    "from peptdeep.model.rt import IRT_PEPTIDE_DF\n",
    "from alphabase.spectral_library.flat import SpecLibFlat\n",
    "import numpy as np\n",
    "\n",
    "%load_ext autoreload\n",
    "%autoreload 2"
   ]
  },
  {
   "cell_type": "code",
   "execution_count": 4,
   "metadata": {},
   "outputs": [
    {
     "data": {
      "text/html": [
       "<div>\n",
       "<style scoped>\n",
       "    .dataframe tbody tr th:only-of-type {\n",
       "        vertical-align: middle;\n",
       "    }\n",
       "\n",
       "    .dataframe tbody tr th {\n",
       "        vertical-align: top;\n",
       "    }\n",
       "\n",
       "    .dataframe thead th {\n",
       "        text-align: right;\n",
       "    }\n",
       "</style>\n",
       "<table border=\"1\" class=\"dataframe\">\n",
       "  <thead>\n",
       "    <tr style=\"text-align: right;\">\n",
       "      <th></th>\n",
       "      <th>sequence</th>\n",
       "      <th>pep_name</th>\n",
       "      <th>irt</th>\n",
       "      <th>mods</th>\n",
       "      <th>mod_sites</th>\n",
       "      <th>nAA</th>\n",
       "      <th>charge</th>\n",
       "      <th>frag_start_idx</th>\n",
       "      <th>frag_stop_idx</th>\n",
       "      <th>nce</th>\n",
       "      <th>instrument</th>\n",
       "    </tr>\n",
       "  </thead>\n",
       "  <tbody>\n",
       "    <tr>\n",
       "      <th>0</th>\n",
       "      <td>LGGNEQVTR</td>\n",
       "      <td>RT-pep a</td>\n",
       "      <td>-24.92</td>\n",
       "      <td></td>\n",
       "      <td></td>\n",
       "      <td>9</td>\n",
       "      <td>2</td>\n",
       "      <td>0</td>\n",
       "      <td>8</td>\n",
       "      <td>30</td>\n",
       "      <td>Lumos</td>\n",
       "    </tr>\n",
       "    <tr>\n",
       "      <th>3</th>\n",
       "      <td>YILAGVENSK</td>\n",
       "      <td>RT-pep d</td>\n",
       "      <td>19.79</td>\n",
       "      <td></td>\n",
       "      <td></td>\n",
       "      <td>10</td>\n",
       "      <td>2</td>\n",
       "      <td>8</td>\n",
       "      <td>17</td>\n",
       "      <td>30</td>\n",
       "      <td>Lumos</td>\n",
       "    </tr>\n",
       "    <tr>\n",
       "      <th>4</th>\n",
       "      <td>TPVISGGPYEYR</td>\n",
       "      <td>RT-pep e</td>\n",
       "      <td>28.71</td>\n",
       "      <td></td>\n",
       "      <td></td>\n",
       "      <td>12</td>\n",
       "      <td>2</td>\n",
       "      <td>17</td>\n",
       "      <td>28</td>\n",
       "      <td>30</td>\n",
       "      <td>Lumos</td>\n",
       "    </tr>\n",
       "    <tr>\n",
       "      <th>5</th>\n",
       "      <td>TPVITGAPYEYR</td>\n",
       "      <td>RT-pep f</td>\n",
       "      <td>33.38</td>\n",
       "      <td></td>\n",
       "      <td></td>\n",
       "      <td>12</td>\n",
       "      <td>2</td>\n",
       "      <td>28</td>\n",
       "      <td>39</td>\n",
       "      <td>30</td>\n",
       "      <td>Lumos</td>\n",
       "    </tr>\n",
       "    <tr>\n",
       "      <th>8</th>\n",
       "      <td>GTFIIDPGGVIR</td>\n",
       "      <td>RT-pep i</td>\n",
       "      <td>70.52</td>\n",
       "      <td></td>\n",
       "      <td></td>\n",
       "      <td>12</td>\n",
       "      <td>2</td>\n",
       "      <td>39</td>\n",
       "      <td>50</td>\n",
       "      <td>30</td>\n",
       "      <td>Lumos</td>\n",
       "    </tr>\n",
       "  </tbody>\n",
       "</table>\n",
       "</div>"
      ],
      "text/plain": [
       "       sequence  pep_name    irt mods mod_sites  nAA  charge  frag_start_idx  \\\n",
       "0     LGGNEQVTR  RT-pep a -24.92                   9       2               0   \n",
       "3    YILAGVENSK  RT-pep d  19.79                  10       2               8   \n",
       "4  TPVISGGPYEYR  RT-pep e  28.71                  12       2              17   \n",
       "5  TPVITGAPYEYR  RT-pep f  33.38                  12       2              28   \n",
       "8  GTFIIDPGGVIR  RT-pep i  70.52                  12       2              39   \n",
       "\n",
       "   frag_stop_idx  nce instrument  \n",
       "0              8   30      Lumos  \n",
       "3             17   30      Lumos  \n",
       "4             28   30      Lumos  \n",
       "5             39   30      Lumos  \n",
       "8             50   30      Lumos  "
      ]
     },
     "execution_count": 4,
     "metadata": {},
     "output_type": "execute_result"
    }
   ],
   "source": [
    "def get_prediction_dataset():\n",
    "    df=IRT_PEPTIDE_DF.copy()\n",
    "    df['charge'] = 2\n",
    "    df['mods'] = ''\n",
    "    df['mod_sites'] = ''\n",
    "    # sort by nAA\n",
    "    df = df.sort_values('nAA')\n",
    "    idxes = np.zeros(len(df)+1,dtype=np.int64)\n",
    "    idxes[1:] = np.cumsum(df.nAA.values-1)\n",
    "    df['frag_start_idx'] = idxes[:-1]\n",
    "    df['frag_stop_idx'] = idxes[1:]\n",
    "    df['nce'] = 30\n",
    "    df['instrument'] = \"Lumos\"\n",
    "    # sort by \n",
    "    return df\n",
    "get_prediction_dataset().head()"
   ]
  },
  {
   "cell_type": "markdown",
   "metadata": {},
   "source": [
    "#### Legacy weights vs new weights\n",
    "\n",
    "- Both weights share the same exact underlying weights for the model, the only difference is with the new format we save the charged frag types used during training in the weights file.\n",
    "- So both models are trained on frag types: 'b_z1', 'b_z2', 'y_z1', 'y_z2', 'b_modloss_z1', 'b_modloss_z2', 'y_modloss_z1', 'y_modloss_z2'\n"
   ]
  },
  {
   "cell_type": "code",
   "execution_count": null,
   "metadata": {},
   "outputs": [],
   "source": [
    "legacy_path = \"../legacy_pretrained_models/generic/ms2.pth\"\n",
    "new_path = \"../new_pretrained_models/generic/ms2.pth\""
   ]
  },
  {
   "cell_type": "markdown",
   "metadata": {},
   "source": [
    "# Ms2 Prediction "
   ]
  },
  {
   "cell_type": "markdown",
   "metadata": {},
   "source": [
    "## User importing a legacy model "
   ]
  },
  {
   "cell_type": "markdown",
   "metadata": {},
   "source": [
    "a) Using incorrect *len* of frag types when initialization (Should raise mismatch error)"
   ]
  },
  {
   "cell_type": "code",
   "execution_count": null,
   "metadata": {},
   "outputs": [
    {
     "ename": "RuntimeError",
     "evalue": "Error(s) in loading state_dict for ModelMS2Bert:\n\tsize mismatch for output_nn.nn.2.weight: copying a param with shape torch.Size([4, 64]) from checkpoint, the shape in current model is torch.Size([2, 64]).\n\tsize mismatch for output_nn.nn.2.bias: copying a param with shape torch.Size([4]) from checkpoint, the shape in current model is torch.Size([2]).\n\tsize mismatch for modloss_nn.1.nn.2.weight: copying a param with shape torch.Size([4, 64]) from checkpoint, the shape in current model is torch.Size([2, 64]).\n\tsize mismatch for modloss_nn.1.nn.2.bias: copying a param with shape torch.Size([4]) from checkpoint, the shape in current model is torch.Size([2]).",
     "output_type": "error",
     "traceback": [
      "\u001b[1;31m---------------------------------------------------------------------------\u001b[0m",
      "\u001b[1;31mRuntimeError\u001b[0m                              Traceback (most recent call last)",
      "Cell \u001b[1;32mIn[6], line 2\u001b[0m\n\u001b[0;32m      1\u001b[0m model \u001b[38;5;241m=\u001b[39m pDeepModel(charged_frag_types\u001b[38;5;241m=\u001b[39m[\u001b[38;5;124m'\u001b[39m\u001b[38;5;124mb_z1\u001b[39m\u001b[38;5;124m'\u001b[39m, \u001b[38;5;124m'\u001b[39m\u001b[38;5;124mb_z2\u001b[39m\u001b[38;5;124m'\u001b[39m, \u001b[38;5;124m'\u001b[39m\u001b[38;5;124mb_modloss_z1\u001b[39m\u001b[38;5;124m'\u001b[39m, \u001b[38;5;124m'\u001b[39m\u001b[38;5;124mb_modloss_z2\u001b[39m\u001b[38;5;124m'\u001b[39m])\n\u001b[1;32m----> 2\u001b[0m \u001b[43mmodel\u001b[49m\u001b[38;5;241;43m.\u001b[39;49m\u001b[43mload\u001b[49m\u001b[43m(\u001b[49m\u001b[43mlegacy_path\u001b[49m\u001b[43m)\u001b[49m\n",
      "File \u001b[1;32mc:\\users\\user\\desktop\\germany\\work\\mpib\\pepteep\\alphapeptdeep\\peptdeep\\model\\model_interface.py:638\u001b[0m, in \u001b[0;36mModelInterface.load\u001b[1;34m(self, model_file, model_path_in_zip, **kwargs)\u001b[0m\n\u001b[0;32m    636\u001b[0m         \u001b[38;5;28mself\u001b[39m\u001b[38;5;241m.\u001b[39m_load_model_from_zipfile(model_file, model_path_in_zip)\n\u001b[0;32m    637\u001b[0m     \u001b[38;5;28;01melse\u001b[39;00m:\n\u001b[1;32m--> 638\u001b[0m         \u001b[38;5;28;43mself\u001b[39;49m\u001b[38;5;241;43m.\u001b[39;49m\u001b[43m_load_model_from_pytorchfile\u001b[49m\u001b[43m(\u001b[49m\u001b[43mmodel_file\u001b[49m\u001b[43m)\u001b[49m\n\u001b[0;32m    639\u001b[0m \u001b[38;5;28;01melse\u001b[39;00m:\n\u001b[0;32m    640\u001b[0m     \u001b[38;5;28mself\u001b[39m\u001b[38;5;241m.\u001b[39m_load_model_from_stream(model_file)\n",
      "File \u001b[1;32mc:\\users\\user\\desktop\\germany\\work\\mpib\\pepteep\\alphapeptdeep\\peptdeep\\model\\model_interface.py:727\u001b[0m, in \u001b[0;36mModelInterface._load_model_from_pytorchfile\u001b[1;34m(self, model_file)\u001b[0m\n\u001b[0;32m    725\u001b[0m \u001b[38;5;28;01mdef\u001b[39;00m \u001b[38;5;21m_load_model_from_pytorchfile\u001b[39m(\u001b[38;5;28mself\u001b[39m, model_file):\n\u001b[0;32m    726\u001b[0m     \u001b[38;5;28;01mwith\u001b[39;00m \u001b[38;5;28mopen\u001b[39m(model_file, \u001b[38;5;124m\"\u001b[39m\u001b[38;5;124mrb\u001b[39m\u001b[38;5;124m\"\u001b[39m) \u001b[38;5;28;01mas\u001b[39;00m pt_file:\n\u001b[1;32m--> 727\u001b[0m         \u001b[38;5;28;43mself\u001b[39;49m\u001b[38;5;241;43m.\u001b[39;49m\u001b[43m_load_model_from_stream\u001b[49m\u001b[43m(\u001b[49m\u001b[43mpt_file\u001b[49m\u001b[43m)\u001b[49m\n",
      "File \u001b[1;32mc:\\users\\user\\desktop\\germany\\work\\mpib\\pepteep\\alphapeptdeep\\peptdeep\\model\\ms2.py:717\u001b[0m, in \u001b[0;36mpDeepModel._load_model_from_stream\u001b[1;34m(self, stream)\u001b[0m\n\u001b[0;32m    714\u001b[0m     \u001b[38;5;28;01mif\u001b[39;00m \u001b[38;5;28mself\u001b[39m\u001b[38;5;241m.\u001b[39moverride_from_weights:\n\u001b[0;32m    715\u001b[0m         \u001b[38;5;28mself\u001b[39m\u001b[38;5;241m.\u001b[39mcharged_frag_types \u001b[38;5;241m=\u001b[39m tensor_to_charged_frags(loaded_charged_frag_types)\n\u001b[1;32m--> 717\u001b[0m (missing_keys, unexpect_keys) \u001b[38;5;241m=\u001b[39m \u001b[38;5;28;43mself\u001b[39;49m\u001b[38;5;241;43m.\u001b[39;49m\u001b[43mmodel\u001b[49m\u001b[38;5;241;43m.\u001b[39;49m\u001b[43mload_state_dict\u001b[49m\u001b[43m(\u001b[49m\n\u001b[0;32m    718\u001b[0m \u001b[43m    \u001b[49m\u001b[43mto_be_loaded_state_dict\u001b[49m\u001b[43m,\u001b[49m\u001b[43m \u001b[49m\u001b[43mstrict\u001b[49m\u001b[38;5;241;43m=\u001b[39;49m\u001b[38;5;28;43;01mFalse\u001b[39;49;00m\n\u001b[0;32m    719\u001b[0m \u001b[43m\u001b[49m\u001b[43m)\u001b[49m\n\u001b[0;32m    720\u001b[0m \u001b[38;5;28mself\u001b[39m\u001b[38;5;241m.\u001b[39m_update_model_state()\n\u001b[0;32m    721\u001b[0m missing_keys \u001b[38;5;241m=\u001b[39m [key \u001b[38;5;28;01mfor\u001b[39;00m key \u001b[38;5;129;01min\u001b[39;00m missing_keys \u001b[38;5;28;01mif\u001b[39;00m \u001b[38;5;124m\"\u001b[39m\u001b[38;5;124m_supported_charged_frag_types\u001b[39m\u001b[38;5;124m\"\u001b[39m \u001b[38;5;129;01mnot\u001b[39;00m \u001b[38;5;129;01min\u001b[39;00m key]\n",
      "File \u001b[1;32mc:\\Users\\USER\\anaconda3\\envs\\peptdeep\\lib\\site-packages\\torch\\nn\\modules\\module.py:2153\u001b[0m, in \u001b[0;36mModule.load_state_dict\u001b[1;34m(self, state_dict, strict, assign)\u001b[0m\n\u001b[0;32m   2148\u001b[0m         error_msgs\u001b[38;5;241m.\u001b[39minsert(\n\u001b[0;32m   2149\u001b[0m             \u001b[38;5;241m0\u001b[39m, \u001b[38;5;124m'\u001b[39m\u001b[38;5;124mMissing key(s) in state_dict: \u001b[39m\u001b[38;5;132;01m{}\u001b[39;00m\u001b[38;5;124m. \u001b[39m\u001b[38;5;124m'\u001b[39m\u001b[38;5;241m.\u001b[39mformat(\n\u001b[0;32m   2150\u001b[0m                 \u001b[38;5;124m'\u001b[39m\u001b[38;5;124m, \u001b[39m\u001b[38;5;124m'\u001b[39m\u001b[38;5;241m.\u001b[39mjoin(\u001b[38;5;124mf\u001b[39m\u001b[38;5;124m'\u001b[39m\u001b[38;5;124m\"\u001b[39m\u001b[38;5;132;01m{\u001b[39;00mk\u001b[38;5;132;01m}\u001b[39;00m\u001b[38;5;124m\"\u001b[39m\u001b[38;5;124m'\u001b[39m \u001b[38;5;28;01mfor\u001b[39;00m k \u001b[38;5;129;01min\u001b[39;00m missing_keys)))\n\u001b[0;32m   2152\u001b[0m \u001b[38;5;28;01mif\u001b[39;00m \u001b[38;5;28mlen\u001b[39m(error_msgs) \u001b[38;5;241m>\u001b[39m \u001b[38;5;241m0\u001b[39m:\n\u001b[1;32m-> 2153\u001b[0m     \u001b[38;5;28;01mraise\u001b[39;00m \u001b[38;5;167;01mRuntimeError\u001b[39;00m(\u001b[38;5;124m'\u001b[39m\u001b[38;5;124mError(s) in loading state_dict for \u001b[39m\u001b[38;5;132;01m{}\u001b[39;00m\u001b[38;5;124m:\u001b[39m\u001b[38;5;130;01m\\n\u001b[39;00m\u001b[38;5;130;01m\\t\u001b[39;00m\u001b[38;5;132;01m{}\u001b[39;00m\u001b[38;5;124m'\u001b[39m\u001b[38;5;241m.\u001b[39mformat(\n\u001b[0;32m   2154\u001b[0m                        \u001b[38;5;28mself\u001b[39m\u001b[38;5;241m.\u001b[39m\u001b[38;5;18m__class__\u001b[39m\u001b[38;5;241m.\u001b[39m\u001b[38;5;18m__name__\u001b[39m, \u001b[38;5;124m\"\u001b[39m\u001b[38;5;130;01m\\n\u001b[39;00m\u001b[38;5;130;01m\\t\u001b[39;00m\u001b[38;5;124m\"\u001b[39m\u001b[38;5;241m.\u001b[39mjoin(error_msgs)))\n\u001b[0;32m   2155\u001b[0m \u001b[38;5;28;01mreturn\u001b[39;00m _IncompatibleKeys(missing_keys, unexpected_keys)\n",
      "\u001b[1;31mRuntimeError\u001b[0m: Error(s) in loading state_dict for ModelMS2Bert:\n\tsize mismatch for output_nn.nn.2.weight: copying a param with shape torch.Size([4, 64]) from checkpoint, the shape in current model is torch.Size([2, 64]).\n\tsize mismatch for output_nn.nn.2.bias: copying a param with shape torch.Size([4]) from checkpoint, the shape in current model is torch.Size([2]).\n\tsize mismatch for modloss_nn.1.nn.2.weight: copying a param with shape torch.Size([4, 64]) from checkpoint, the shape in current model is torch.Size([2, 64]).\n\tsize mismatch for modloss_nn.1.nn.2.bias: copying a param with shape torch.Size([4]) from checkpoint, the shape in current model is torch.Size([2])."
     ]
    }
   ],
   "source": [
    "model = pDeepModel(charged_frag_types=['b_z1', 'b_z2', 'b_modloss_z1', 'b_modloss_z2'])\n",
    "model.load(legacy_path)"
   ]
  },
  {
   "cell_type": "markdown",
   "metadata": {},
   "source": [
    "b) Using the correct *len* of frag types when initialization\n",
    "- This is the ideal use case for the legacy weights were users request exactly the same frag types used when training. \n",
    "- It's important to notice that the old implementation won't raise an error if the user requested different frag types as long as the number of frag types are the same."
   ]
  },
  {
   "cell_type": "code",
   "execution_count": 7,
   "metadata": {},
   "outputs": [],
   "source": [
    "# Notice replacing the y_z1 and y_z2 with x_z1 and x_z2 and the model is loaded successfully and we get an incorrect prediction\n",
    "model = pDeepModel(charged_frag_types=['b_z1', 'b_z2', 'x_z1', 'x_z2', 'b_modloss_z1', 'b_modloss_z2', 'y_modloss_z1', 'y_modloss_z2'])\n",
    "model.load(legacy_path)"
   ]
  },
  {
   "cell_type": "code",
   "execution_count": 8,
   "metadata": {},
   "outputs": [
    {
     "data": {
      "text/html": [
       "<div>\n",
       "<style scoped>\n",
       "    .dataframe tbody tr th:only-of-type {\n",
       "        vertical-align: middle;\n",
       "    }\n",
       "\n",
       "    .dataframe tbody tr th {\n",
       "        vertical-align: top;\n",
       "    }\n",
       "\n",
       "    .dataframe thead th {\n",
       "        text-align: right;\n",
       "    }\n",
       "</style>\n",
       "<table border=\"1\" class=\"dataframe\">\n",
       "  <thead>\n",
       "    <tr style=\"text-align: right;\">\n",
       "      <th></th>\n",
       "      <th>b_z1</th>\n",
       "      <th>b_z2</th>\n",
       "      <th>x_z1</th>\n",
       "      <th>x_z2</th>\n",
       "      <th>b_modloss_z1</th>\n",
       "      <th>b_modloss_z2</th>\n",
       "      <th>y_modloss_z1</th>\n",
       "      <th>y_modloss_z2</th>\n",
       "    </tr>\n",
       "  </thead>\n",
       "  <tbody>\n",
       "    <tr>\n",
       "      <th>0</th>\n",
       "      <td>0.000000</td>\n",
       "      <td>0.0</td>\n",
       "      <td>1.000000</td>\n",
       "      <td>0.004739</td>\n",
       "      <td>0.0</td>\n",
       "      <td>0.0</td>\n",
       "      <td>0.0</td>\n",
       "      <td>0.0</td>\n",
       "    </tr>\n",
       "    <tr>\n",
       "      <th>1</th>\n",
       "      <td>0.162034</td>\n",
       "      <td>0.0</td>\n",
       "      <td>0.360414</td>\n",
       "      <td>0.000000</td>\n",
       "      <td>0.0</td>\n",
       "      <td>0.0</td>\n",
       "      <td>0.0</td>\n",
       "      <td>0.0</td>\n",
       "    </tr>\n",
       "    <tr>\n",
       "      <th>2</th>\n",
       "      <td>0.046660</td>\n",
       "      <td>0.0</td>\n",
       "      <td>0.109920</td>\n",
       "      <td>0.005516</td>\n",
       "      <td>0.0</td>\n",
       "      <td>0.0</td>\n",
       "      <td>0.0</td>\n",
       "      <td>0.0</td>\n",
       "    </tr>\n",
       "    <tr>\n",
       "      <th>3</th>\n",
       "      <td>0.018628</td>\n",
       "      <td>0.0</td>\n",
       "      <td>0.203326</td>\n",
       "      <td>0.000000</td>\n",
       "      <td>0.0</td>\n",
       "      <td>0.0</td>\n",
       "      <td>0.0</td>\n",
       "      <td>0.0</td>\n",
       "    </tr>\n",
       "    <tr>\n",
       "      <th>4</th>\n",
       "      <td>0.013530</td>\n",
       "      <td>0.0</td>\n",
       "      <td>0.267507</td>\n",
       "      <td>0.000000</td>\n",
       "      <td>0.0</td>\n",
       "      <td>0.0</td>\n",
       "      <td>0.0</td>\n",
       "      <td>0.0</td>\n",
       "    </tr>\n",
       "  </tbody>\n",
       "</table>\n",
       "</div>"
      ],
      "text/plain": [
       "       b_z1  b_z2      x_z1      x_z2  b_modloss_z1  b_modloss_z2  \\\n",
       "0  0.000000   0.0  1.000000  0.004739           0.0           0.0   \n",
       "1  0.162034   0.0  0.360414  0.000000           0.0           0.0   \n",
       "2  0.046660   0.0  0.109920  0.005516           0.0           0.0   \n",
       "3  0.018628   0.0  0.203326  0.000000           0.0           0.0   \n",
       "4  0.013530   0.0  0.267507  0.000000           0.0           0.0   \n",
       "\n",
       "   y_modloss_z1  y_modloss_z2  \n",
       "0           0.0           0.0  \n",
       "1           0.0           0.0  \n",
       "2           0.0           0.0  \n",
       "3           0.0           0.0  \n",
       "4           0.0           0.0  "
      ]
     },
     "execution_count": 8,
     "metadata": {},
     "output_type": "execute_result"
    }
   ],
   "source": [
    "preds = model.predict(get_prediction_dataset())\n",
    "preds.head()"
   ]
  },
  {
   "cell_type": "code",
   "execution_count": 39,
   "metadata": {},
   "outputs": [],
   "source": [
    "# Ideal use case requested frag types == training frag types\n",
    "model = pDeepModel(charged_frag_types=['b_z1', 'b_z2', 'y_z1', 'y_z2', 'b_modloss_z1', 'b_modloss_z2', 'y_modloss_z1', 'y_modloss_z2'])\n",
    "model.load(legacy_path)\n"
   ]
  },
  {
   "cell_type": "code",
   "execution_count": 40,
   "metadata": {},
   "outputs": [
    {
     "data": {
      "text/html": [
       "<div>\n",
       "<style scoped>\n",
       "    .dataframe tbody tr th:only-of-type {\n",
       "        vertical-align: middle;\n",
       "    }\n",
       "\n",
       "    .dataframe tbody tr th {\n",
       "        vertical-align: top;\n",
       "    }\n",
       "\n",
       "    .dataframe thead th {\n",
       "        text-align: right;\n",
       "    }\n",
       "</style>\n",
       "<table border=\"1\" class=\"dataframe\">\n",
       "  <thead>\n",
       "    <tr style=\"text-align: right;\">\n",
       "      <th></th>\n",
       "      <th>b_z1</th>\n",
       "      <th>b_z2</th>\n",
       "      <th>y_z1</th>\n",
       "      <th>y_z2</th>\n",
       "      <th>b_modloss_z1</th>\n",
       "      <th>b_modloss_z2</th>\n",
       "      <th>y_modloss_z1</th>\n",
       "      <th>y_modloss_z2</th>\n",
       "    </tr>\n",
       "  </thead>\n",
       "  <tbody>\n",
       "    <tr>\n",
       "      <th>0</th>\n",
       "      <td>0.000000</td>\n",
       "      <td>0.0</td>\n",
       "      <td>1.000000</td>\n",
       "      <td>0.004739</td>\n",
       "      <td>0.0</td>\n",
       "      <td>0.0</td>\n",
       "      <td>0.0</td>\n",
       "      <td>0.0</td>\n",
       "    </tr>\n",
       "    <tr>\n",
       "      <th>1</th>\n",
       "      <td>0.162034</td>\n",
       "      <td>0.0</td>\n",
       "      <td>0.360414</td>\n",
       "      <td>0.000000</td>\n",
       "      <td>0.0</td>\n",
       "      <td>0.0</td>\n",
       "      <td>0.0</td>\n",
       "      <td>0.0</td>\n",
       "    </tr>\n",
       "    <tr>\n",
       "      <th>2</th>\n",
       "      <td>0.046660</td>\n",
       "      <td>0.0</td>\n",
       "      <td>0.109920</td>\n",
       "      <td>0.005516</td>\n",
       "      <td>0.0</td>\n",
       "      <td>0.0</td>\n",
       "      <td>0.0</td>\n",
       "      <td>0.0</td>\n",
       "    </tr>\n",
       "    <tr>\n",
       "      <th>3</th>\n",
       "      <td>0.018628</td>\n",
       "      <td>0.0</td>\n",
       "      <td>0.203326</td>\n",
       "      <td>0.000000</td>\n",
       "      <td>0.0</td>\n",
       "      <td>0.0</td>\n",
       "      <td>0.0</td>\n",
       "      <td>0.0</td>\n",
       "    </tr>\n",
       "    <tr>\n",
       "      <th>4</th>\n",
       "      <td>0.013530</td>\n",
       "      <td>0.0</td>\n",
       "      <td>0.267507</td>\n",
       "      <td>0.000000</td>\n",
       "      <td>0.0</td>\n",
       "      <td>0.0</td>\n",
       "      <td>0.0</td>\n",
       "      <td>0.0</td>\n",
       "    </tr>\n",
       "  </tbody>\n",
       "</table>\n",
       "</div>"
      ],
      "text/plain": [
       "       b_z1  b_z2      y_z1      y_z2  b_modloss_z1  b_modloss_z2  \\\n",
       "0  0.000000   0.0  1.000000  0.004739           0.0           0.0   \n",
       "1  0.162034   0.0  0.360414  0.000000           0.0           0.0   \n",
       "2  0.046660   0.0  0.109920  0.005516           0.0           0.0   \n",
       "3  0.018628   0.0  0.203326  0.000000           0.0           0.0   \n",
       "4  0.013530   0.0  0.267507  0.000000           0.0           0.0   \n",
       "\n",
       "   y_modloss_z1  y_modloss_z2  \n",
       "0           0.0           0.0  \n",
       "1           0.0           0.0  \n",
       "2           0.0           0.0  \n",
       "3           0.0           0.0  \n",
       "4           0.0           0.0  "
      ]
     },
     "execution_count": 40,
     "metadata": {},
     "output_type": "execute_result"
    }
   ],
   "source": [
    "legacy_full_preds = model.predict(get_prediction_dataset())\n",
    "legacy_full_preds.head()"
   ]
  },
  {
   "cell_type": "code",
   "execution_count": null,
   "metadata": {},
   "outputs": [],
   "source": [
    "\"\"\"\n",
    "If you don't have the new weighst format uncomment the following line and run the cell \n",
    "after loading the legacy model weights with the correct frag types (last 2 cells)\n",
    "it should the save the new weights in the new path.\n",
    "\"\"\"\n",
    "# model.save(new_path)"
   ]
  },
  {
   "cell_type": "markdown",
   "metadata": {},
   "source": [
    "## User importing weighst in the new format  "
   ]
  },
  {
   "cell_type": "markdown",
   "metadata": {},
   "source": [
    " Using the correct *len* of frag types when initialization (ideal use case)"
   ]
  },
  {
   "cell_type": "code",
   "execution_count": 42,
   "metadata": {},
   "outputs": [],
   "source": [
    "model = pDeepModel(charged_frag_types=['b_z1', 'b_z2', 'y_z1', 'y_z2', 'b_modloss_z1', 'b_modloss_z2', 'y_modloss_z1', 'y_modloss_z2'])\n",
    "model.load(new_path)"
   ]
  },
  {
   "cell_type": "code",
   "execution_count": 43,
   "metadata": {},
   "outputs": [
    {
     "data": {
      "text/html": [
       "<div>\n",
       "<style scoped>\n",
       "    .dataframe tbody tr th:only-of-type {\n",
       "        vertical-align: middle;\n",
       "    }\n",
       "\n",
       "    .dataframe tbody tr th {\n",
       "        vertical-align: top;\n",
       "    }\n",
       "\n",
       "    .dataframe thead th {\n",
       "        text-align: right;\n",
       "    }\n",
       "</style>\n",
       "<table border=\"1\" class=\"dataframe\">\n",
       "  <thead>\n",
       "    <tr style=\"text-align: right;\">\n",
       "      <th></th>\n",
       "      <th>b_z1</th>\n",
       "      <th>b_z2</th>\n",
       "      <th>y_z1</th>\n",
       "      <th>y_z2</th>\n",
       "      <th>b_modloss_z1</th>\n",
       "      <th>b_modloss_z2</th>\n",
       "      <th>y_modloss_z1</th>\n",
       "      <th>y_modloss_z2</th>\n",
       "    </tr>\n",
       "  </thead>\n",
       "  <tbody>\n",
       "    <tr>\n",
       "      <th>0</th>\n",
       "      <td>0.000000</td>\n",
       "      <td>0.0</td>\n",
       "      <td>1.000000</td>\n",
       "      <td>0.004739</td>\n",
       "      <td>0.0</td>\n",
       "      <td>0.0</td>\n",
       "      <td>0.0</td>\n",
       "      <td>0.0</td>\n",
       "    </tr>\n",
       "    <tr>\n",
       "      <th>1</th>\n",
       "      <td>0.162034</td>\n",
       "      <td>0.0</td>\n",
       "      <td>0.360414</td>\n",
       "      <td>0.000000</td>\n",
       "      <td>0.0</td>\n",
       "      <td>0.0</td>\n",
       "      <td>0.0</td>\n",
       "      <td>0.0</td>\n",
       "    </tr>\n",
       "    <tr>\n",
       "      <th>2</th>\n",
       "      <td>0.046660</td>\n",
       "      <td>0.0</td>\n",
       "      <td>0.109920</td>\n",
       "      <td>0.005516</td>\n",
       "      <td>0.0</td>\n",
       "      <td>0.0</td>\n",
       "      <td>0.0</td>\n",
       "      <td>0.0</td>\n",
       "    </tr>\n",
       "    <tr>\n",
       "      <th>3</th>\n",
       "      <td>0.018628</td>\n",
       "      <td>0.0</td>\n",
       "      <td>0.203326</td>\n",
       "      <td>0.000000</td>\n",
       "      <td>0.0</td>\n",
       "      <td>0.0</td>\n",
       "      <td>0.0</td>\n",
       "      <td>0.0</td>\n",
       "    </tr>\n",
       "    <tr>\n",
       "      <th>4</th>\n",
       "      <td>0.013530</td>\n",
       "      <td>0.0</td>\n",
       "      <td>0.267507</td>\n",
       "      <td>0.000000</td>\n",
       "      <td>0.0</td>\n",
       "      <td>0.0</td>\n",
       "      <td>0.0</td>\n",
       "      <td>0.0</td>\n",
       "    </tr>\n",
       "  </tbody>\n",
       "</table>\n",
       "</div>"
      ],
      "text/plain": [
       "       b_z1  b_z2      y_z1      y_z2  b_modloss_z1  b_modloss_z2  \\\n",
       "0  0.000000   0.0  1.000000  0.004739           0.0           0.0   \n",
       "1  0.162034   0.0  0.360414  0.000000           0.0           0.0   \n",
       "2  0.046660   0.0  0.109920  0.005516           0.0           0.0   \n",
       "3  0.018628   0.0  0.203326  0.000000           0.0           0.0   \n",
       "4  0.013530   0.0  0.267507  0.000000           0.0           0.0   \n",
       "\n",
       "   y_modloss_z1  y_modloss_z2  \n",
       "0           0.0           0.0  \n",
       "1           0.0           0.0  \n",
       "2           0.0           0.0  \n",
       "3           0.0           0.0  \n",
       "4           0.0           0.0  "
      ]
     },
     "execution_count": 43,
     "metadata": {},
     "output_type": "execute_result"
    }
   ],
   "source": [
    "new_full_preds = model.predict(get_prediction_dataset())\n",
    "# verify the predictions are the same\n",
    "assert np.allclose(legacy_full_preds.values, new_full_preds.values, atol=1e-5)\n",
    "new_full_preds.head()"
   ]
  },
  {
   "cell_type": "markdown",
   "metadata": {},
   "source": [
    "Using incorrect *len* of frag types when initialization but still a subset of what was used during training. \n",
    "\n",
    "This is use case where a user request a subset of the frag types used during training for example:\n",
    "\n",
    "1) Excluding the modloss frags, preivously done by setting mask_modloss = True"
   ]
  },
  {
   "cell_type": "code",
   "execution_count": 44,
   "metadata": {},
   "outputs": [
    {
     "name": "stdout",
     "output_type": "stream",
     "text": [
      "Model Interface has charged_frag_types ['b_z1', 'b_z2', 'y_z1', 'y_z2']\n",
      "Supported charged_frag_types in the loaded weights  ['b_z1', 'b_z2', 'y_z1', 'y_z2', 'b_modloss_z1', 'b_modloss_z2', 'y_modloss_z1', 'y_modloss_z2']\n"
     ]
    }
   ],
   "source": [
    "# Excluding the modloss fragment types\n",
    "model = pDeepModel(charged_frag_types=['b_z1', 'b_z2', 'y_z1', 'y_z2'])\n",
    "model.load(new_path)\n",
    "print(f\"Model Interface has charged_frag_types {model.charged_frag_types}\")\n",
    "print(f\"Supported charged_frag_types in the loaded weights  {model.model.supported_charged_frag_types}\")"
   ]
  },
  {
   "cell_type": "code",
   "execution_count": 45,
   "metadata": {},
   "outputs": [
    {
     "data": {
      "text/html": [
       "<div>\n",
       "<style scoped>\n",
       "    .dataframe tbody tr th:only-of-type {\n",
       "        vertical-align: middle;\n",
       "    }\n",
       "\n",
       "    .dataframe tbody tr th {\n",
       "        vertical-align: top;\n",
       "    }\n",
       "\n",
       "    .dataframe thead th {\n",
       "        text-align: right;\n",
       "    }\n",
       "</style>\n",
       "<table border=\"1\" class=\"dataframe\">\n",
       "  <thead>\n",
       "    <tr style=\"text-align: right;\">\n",
       "      <th></th>\n",
       "      <th>b_z1</th>\n",
       "      <th>b_z2</th>\n",
       "      <th>y_z1</th>\n",
       "      <th>y_z2</th>\n",
       "    </tr>\n",
       "  </thead>\n",
       "  <tbody>\n",
       "    <tr>\n",
       "      <th>0</th>\n",
       "      <td>0.000000</td>\n",
       "      <td>0.0</td>\n",
       "      <td>1.000000</td>\n",
       "      <td>0.004739</td>\n",
       "    </tr>\n",
       "    <tr>\n",
       "      <th>1</th>\n",
       "      <td>0.162034</td>\n",
       "      <td>0.0</td>\n",
       "      <td>0.360414</td>\n",
       "      <td>0.000000</td>\n",
       "    </tr>\n",
       "    <tr>\n",
       "      <th>2</th>\n",
       "      <td>0.046660</td>\n",
       "      <td>0.0</td>\n",
       "      <td>0.109920</td>\n",
       "      <td>0.005516</td>\n",
       "    </tr>\n",
       "    <tr>\n",
       "      <th>3</th>\n",
       "      <td>0.018628</td>\n",
       "      <td>0.0</td>\n",
       "      <td>0.203326</td>\n",
       "      <td>0.000000</td>\n",
       "    </tr>\n",
       "    <tr>\n",
       "      <th>4</th>\n",
       "      <td>0.013530</td>\n",
       "      <td>0.0</td>\n",
       "      <td>0.267507</td>\n",
       "      <td>0.000000</td>\n",
       "    </tr>\n",
       "  </tbody>\n",
       "</table>\n",
       "</div>"
      ],
      "text/plain": [
       "       b_z1  b_z2      y_z1      y_z2\n",
       "0  0.000000   0.0  1.000000  0.004739\n",
       "1  0.162034   0.0  0.360414  0.000000\n",
       "2  0.046660   0.0  0.109920  0.005516\n",
       "3  0.018628   0.0  0.203326  0.000000\n",
       "4  0.013530   0.0  0.267507  0.000000"
      ]
     },
     "execution_count": 45,
     "metadata": {},
     "output_type": "execute_result"
    }
   ],
   "source": [
    "# verify that the predictions are the same with the legacy model for the selected subset of charged_frag_types\n",
    "new_subset_preds = model.predict(get_prediction_dataset())\n",
    "assert np.allclose(legacy_full_preds[new_subset_preds.columns], new_subset_preds)\n",
    "new_subset_preds.head()"
   ]
  },
  {
   "cell_type": "markdown",
   "metadata": {},
   "source": [
    "2) Excluding frag types that are not modloss (New feature)"
   ]
  },
  {
   "cell_type": "code",
   "execution_count": 46,
   "metadata": {},
   "outputs": [],
   "source": [
    "# Excluding the the y fragments while keeping the modloss fragments\n",
    "model = pDeepModel(charged_frag_types=['b_z1', 'b_z2', 'b_modloss_z1', 'b_modloss_z2'])\n",
    "model.load(new_path)"
   ]
  },
  {
   "cell_type": "code",
   "execution_count": 47,
   "metadata": {},
   "outputs": [
    {
     "data": {
      "text/html": [
       "<div>\n",
       "<style scoped>\n",
       "    .dataframe tbody tr th:only-of-type {\n",
       "        vertical-align: middle;\n",
       "    }\n",
       "\n",
       "    .dataframe tbody tr th {\n",
       "        vertical-align: top;\n",
       "    }\n",
       "\n",
       "    .dataframe thead th {\n",
       "        text-align: right;\n",
       "    }\n",
       "</style>\n",
       "<table border=\"1\" class=\"dataframe\">\n",
       "  <thead>\n",
       "    <tr style=\"text-align: right;\">\n",
       "      <th></th>\n",
       "      <th>b_z1</th>\n",
       "      <th>b_z2</th>\n",
       "      <th>b_modloss_z1</th>\n",
       "      <th>b_modloss_z2</th>\n",
       "    </tr>\n",
       "  </thead>\n",
       "  <tbody>\n",
       "    <tr>\n",
       "      <th>0</th>\n",
       "      <td>0.000000</td>\n",
       "      <td>0.0</td>\n",
       "      <td>0.0</td>\n",
       "      <td>0.0</td>\n",
       "    </tr>\n",
       "    <tr>\n",
       "      <th>1</th>\n",
       "      <td>0.162034</td>\n",
       "      <td>0.0</td>\n",
       "      <td>0.0</td>\n",
       "      <td>0.0</td>\n",
       "    </tr>\n",
       "    <tr>\n",
       "      <th>2</th>\n",
       "      <td>0.046660</td>\n",
       "      <td>0.0</td>\n",
       "      <td>0.0</td>\n",
       "      <td>0.0</td>\n",
       "    </tr>\n",
       "    <tr>\n",
       "      <th>3</th>\n",
       "      <td>0.018628</td>\n",
       "      <td>0.0</td>\n",
       "      <td>0.0</td>\n",
       "      <td>0.0</td>\n",
       "    </tr>\n",
       "    <tr>\n",
       "      <th>4</th>\n",
       "      <td>0.013530</td>\n",
       "      <td>0.0</td>\n",
       "      <td>0.0</td>\n",
       "      <td>0.0</td>\n",
       "    </tr>\n",
       "  </tbody>\n",
       "</table>\n",
       "</div>"
      ],
      "text/plain": [
       "       b_z1  b_z2  b_modloss_z1  b_modloss_z2\n",
       "0  0.000000   0.0           0.0           0.0\n",
       "1  0.162034   0.0           0.0           0.0\n",
       "2  0.046660   0.0           0.0           0.0\n",
       "3  0.018628   0.0           0.0           0.0\n",
       "4  0.013530   0.0           0.0           0.0"
      ]
     },
     "execution_count": 47,
     "metadata": {},
     "output_type": "execute_result"
    }
   ],
   "source": [
    "# verify that the predictions are the same with the legacy model for the selected subset of charged_frag_types\n",
    "new_subset_preds = model.predict(get_prediction_dataset())\n",
    "assert np.allclose(legacy_full_preds[new_subset_preds.columns], new_subset_preds)\n",
    "new_subset_preds.head()"
   ]
  },
  {
   "cell_type": "markdown",
   "metadata": {},
   "source": [
    "Using the new format we have more semantics on what charged frag types are supported, so when a user request frag types that are not supported we can detect and raise an interpretable *error* (New feature)"
   ]
  },
  {
   "cell_type": "code",
   "execution_count": 48,
   "metadata": {},
   "outputs": [
    {
     "ename": "ValueError",
     "evalue": "The model is not safe to use for prediction. This might mean that the requested charged_frag_types ['x_z1', 'x_z2'] are not a subset of the charged_frag_types used to train the loaded pretrained model ['b_z1', 'b_z2', 'y_z1', 'y_z2', 'b_modloss_z1', 'b_modloss_z2', 'y_modloss_z1', 'y_modloss_z2']. Please retrain the model or use a pretrained model with the correct charged_frag_types.",
     "output_type": "error",
     "traceback": [
      "\u001b[1;31m---------------------------------------------------------------------------\u001b[0m",
      "\u001b[1;31mValueError\u001b[0m                                Traceback (most recent call last)",
      "Cell \u001b[1;32mIn[48], line 4\u001b[0m\n\u001b[0;32m      1\u001b[0m model \u001b[38;5;241m=\u001b[39m pDeepModel(charged_frag_types\u001b[38;5;241m=\u001b[39m[\u001b[38;5;124m'\u001b[39m\u001b[38;5;124mx_z1\u001b[39m\u001b[38;5;124m'\u001b[39m, \u001b[38;5;124m'\u001b[39m\u001b[38;5;124mx_z2\u001b[39m\u001b[38;5;124m'\u001b[39m])\n\u001b[0;32m      2\u001b[0m model\u001b[38;5;241m.\u001b[39mload(new_path)\n\u001b[1;32m----> 4\u001b[0m new_subset_preds \u001b[38;5;241m=\u001b[39m \u001b[43mmodel\u001b[49m\u001b[38;5;241;43m.\u001b[39;49m\u001b[43mpredict\u001b[49m\u001b[43m(\u001b[49m\u001b[43mget_prediction_dataset\u001b[49m\u001b[43m(\u001b[49m\u001b[43m)\u001b[49m\u001b[43m)\u001b[49m\n",
      "File \u001b[1;32mc:\\users\\user\\desktop\\germany\\work\\mpib\\pepteep\\alphapeptdeep\\peptdeep\\model\\ms2.py:654\u001b[0m, in \u001b[0;36mpDeepModel.predict\u001b[1;34m(self, precursor_df, batch_size, verbose, reference_frag_df, **kwargs)\u001b[0m\n\u001b[0;32m    644\u001b[0m \u001b[38;5;28;01mdef\u001b[39;00m \u001b[38;5;21mpredict\u001b[39m(\n\u001b[0;32m    645\u001b[0m     \u001b[38;5;28mself\u001b[39m,\n\u001b[0;32m    646\u001b[0m     precursor_df: pd\u001b[38;5;241m.\u001b[39mDataFrame,\n\u001b[1;32m   (...)\u001b[0m\n\u001b[0;32m    651\u001b[0m     \u001b[38;5;241m*\u001b[39m\u001b[38;5;241m*\u001b[39mkwargs,\n\u001b[0;32m    652\u001b[0m ) \u001b[38;5;241m-\u001b[39m\u001b[38;5;241m>\u001b[39m pd\u001b[38;5;241m.\u001b[39mDataFrame:\n\u001b[0;32m    653\u001b[0m     \u001b[38;5;28;01mif\u001b[39;00m \u001b[38;5;129;01mnot\u001b[39;00m \u001b[38;5;28mself\u001b[39m\u001b[38;5;241m.\u001b[39m_safe_to_predict:\n\u001b[1;32m--> 654\u001b[0m         \u001b[38;5;28;01mraise\u001b[39;00m \u001b[38;5;167;01mValueError\u001b[39;00m(\n\u001b[0;32m    655\u001b[0m             \u001b[38;5;124mf\u001b[39m\u001b[38;5;124m\"\u001b[39m\u001b[38;5;124mThe model is not safe to use for prediction. This might mean that the requested charged_frag_types \u001b[39m\u001b[38;5;132;01m{\u001b[39;00m\u001b[38;5;28mself\u001b[39m\u001b[38;5;241m.\u001b[39mcharged_frag_types\u001b[38;5;132;01m}\u001b[39;00m\u001b[38;5;124m are not a subset of the charged_frag_types used to train the loaded pretrained model \u001b[39m\u001b[38;5;132;01m{\u001b[39;00m\u001b[38;5;28mself\u001b[39m\u001b[38;5;241m.\u001b[39mmodel\u001b[38;5;241m.\u001b[39msupported_charged_frag_types\u001b[38;5;132;01m}\u001b[39;00m\u001b[38;5;124m. Please retrain the model or use a pretrained model with the correct charged_frag_types.\u001b[39m\u001b[38;5;124m\"\u001b[39m\n\u001b[0;32m    656\u001b[0m         )\n\u001b[0;32m    657\u001b[0m     \u001b[38;5;28;01mreturn\u001b[39;00m \u001b[38;5;28msuper\u001b[39m()\u001b[38;5;241m.\u001b[39mpredict(\n\u001b[0;32m    658\u001b[0m         precursor_df,\n\u001b[0;32m    659\u001b[0m         batch_size\u001b[38;5;241m=\u001b[39mbatch_size,\n\u001b[1;32m   (...)\u001b[0m\n\u001b[0;32m    662\u001b[0m         \u001b[38;5;241m*\u001b[39m\u001b[38;5;241m*\u001b[39mkwargs,\n\u001b[0;32m    663\u001b[0m     )\n",
      "\u001b[1;31mValueError\u001b[0m: The model is not safe to use for prediction. This might mean that the requested charged_frag_types ['x_z1', 'x_z2'] are not a subset of the charged_frag_types used to train the loaded pretrained model ['b_z1', 'b_z2', 'y_z1', 'y_z2', 'b_modloss_z1', 'b_modloss_z2', 'y_modloss_z1', 'y_modloss_z2']. Please retrain the model or use a pretrained model with the correct charged_frag_types."
     ]
    }
   ],
   "source": [
    "model = pDeepModel(charged_frag_types=['x_z1', 'x_z2'])\n",
    "model.load(new_path)\n",
    "\n",
    "new_subset_preds = model.predict(get_prediction_dataset())\n",
    "\n"
   ]
  },
  {
   "cell_type": "markdown",
   "metadata": {},
   "source": [
    "Even if the user requested correct *len* of frag types when initialization but the requested frag types are not a subset of what was used during training we should raise an *error*."
   ]
  },
  {
   "cell_type": "code",
   "execution_count": 49,
   "metadata": {},
   "outputs": [
    {
     "ename": "ValueError",
     "evalue": "The model is not safe to use for prediction. This might mean that the requested charged_frag_types ['c_z1', 'c_z2', 'y_z1', 'y_z2', 'x_z1', 'x_z2', 'y_modloss_z1', 'y_modloss_z2'] are not a subset of the charged_frag_types used to train the loaded pretrained model ['b_z1', 'b_z2', 'y_z1', 'y_z2', 'b_modloss_z1', 'b_modloss_z2', 'y_modloss_z1', 'y_modloss_z2']. Please retrain the model or use a pretrained model with the correct charged_frag_types.",
     "output_type": "error",
     "traceback": [
      "\u001b[1;31m---------------------------------------------------------------------------\u001b[0m",
      "\u001b[1;31mValueError\u001b[0m                                Traceback (most recent call last)",
      "Cell \u001b[1;32mIn[49], line 4\u001b[0m\n\u001b[0;32m      1\u001b[0m model \u001b[38;5;241m=\u001b[39m  pDeepModel(charged_frag_types\u001b[38;5;241m=\u001b[39m[\u001b[38;5;124m'\u001b[39m\u001b[38;5;124mc_z1\u001b[39m\u001b[38;5;124m'\u001b[39m, \u001b[38;5;124m'\u001b[39m\u001b[38;5;124mc_z2\u001b[39m\u001b[38;5;124m'\u001b[39m, \u001b[38;5;124m'\u001b[39m\u001b[38;5;124my_z1\u001b[39m\u001b[38;5;124m'\u001b[39m, \u001b[38;5;124m'\u001b[39m\u001b[38;5;124my_z2\u001b[39m\u001b[38;5;124m'\u001b[39m, \u001b[38;5;124m'\u001b[39m\u001b[38;5;124mx_z1\u001b[39m\u001b[38;5;124m'\u001b[39m, \u001b[38;5;124m'\u001b[39m\u001b[38;5;124mx_z2\u001b[39m\u001b[38;5;124m'\u001b[39m, \u001b[38;5;124m'\u001b[39m\u001b[38;5;124my_modloss_z1\u001b[39m\u001b[38;5;124m'\u001b[39m, \u001b[38;5;124m'\u001b[39m\u001b[38;5;124my_modloss_z2\u001b[39m\u001b[38;5;124m'\u001b[39m])\n\u001b[0;32m      2\u001b[0m model\u001b[38;5;241m.\u001b[39mload(new_path)\n\u001b[1;32m----> 4\u001b[0m new_subset_preds \u001b[38;5;241m=\u001b[39m \u001b[43mmodel\u001b[49m\u001b[38;5;241;43m.\u001b[39;49m\u001b[43mpredict\u001b[49m\u001b[43m(\u001b[49m\u001b[43mget_prediction_dataset\u001b[49m\u001b[43m(\u001b[49m\u001b[43m)\u001b[49m\u001b[43m)\u001b[49m\n",
      "File \u001b[1;32mc:\\users\\user\\desktop\\germany\\work\\mpib\\pepteep\\alphapeptdeep\\peptdeep\\model\\ms2.py:654\u001b[0m, in \u001b[0;36mpDeepModel.predict\u001b[1;34m(self, precursor_df, batch_size, verbose, reference_frag_df, **kwargs)\u001b[0m\n\u001b[0;32m    644\u001b[0m \u001b[38;5;28;01mdef\u001b[39;00m \u001b[38;5;21mpredict\u001b[39m(\n\u001b[0;32m    645\u001b[0m     \u001b[38;5;28mself\u001b[39m,\n\u001b[0;32m    646\u001b[0m     precursor_df: pd\u001b[38;5;241m.\u001b[39mDataFrame,\n\u001b[1;32m   (...)\u001b[0m\n\u001b[0;32m    651\u001b[0m     \u001b[38;5;241m*\u001b[39m\u001b[38;5;241m*\u001b[39mkwargs,\n\u001b[0;32m    652\u001b[0m ) \u001b[38;5;241m-\u001b[39m\u001b[38;5;241m>\u001b[39m pd\u001b[38;5;241m.\u001b[39mDataFrame:\n\u001b[0;32m    653\u001b[0m     \u001b[38;5;28;01mif\u001b[39;00m \u001b[38;5;129;01mnot\u001b[39;00m \u001b[38;5;28mself\u001b[39m\u001b[38;5;241m.\u001b[39m_safe_to_predict:\n\u001b[1;32m--> 654\u001b[0m         \u001b[38;5;28;01mraise\u001b[39;00m \u001b[38;5;167;01mValueError\u001b[39;00m(\n\u001b[0;32m    655\u001b[0m             \u001b[38;5;124mf\u001b[39m\u001b[38;5;124m\"\u001b[39m\u001b[38;5;124mThe model is not safe to use for prediction. This might mean that the requested charged_frag_types \u001b[39m\u001b[38;5;132;01m{\u001b[39;00m\u001b[38;5;28mself\u001b[39m\u001b[38;5;241m.\u001b[39mcharged_frag_types\u001b[38;5;132;01m}\u001b[39;00m\u001b[38;5;124m are not a subset of the charged_frag_types used to train the loaded pretrained model \u001b[39m\u001b[38;5;132;01m{\u001b[39;00m\u001b[38;5;28mself\u001b[39m\u001b[38;5;241m.\u001b[39mmodel\u001b[38;5;241m.\u001b[39msupported_charged_frag_types\u001b[38;5;132;01m}\u001b[39;00m\u001b[38;5;124m. Please retrain the model or use a pretrained model with the correct charged_frag_types.\u001b[39m\u001b[38;5;124m\"\u001b[39m\n\u001b[0;32m    656\u001b[0m         )\n\u001b[0;32m    657\u001b[0m     \u001b[38;5;28;01mreturn\u001b[39;00m \u001b[38;5;28msuper\u001b[39m()\u001b[38;5;241m.\u001b[39mpredict(\n\u001b[0;32m    658\u001b[0m         precursor_df,\n\u001b[0;32m    659\u001b[0m         batch_size\u001b[38;5;241m=\u001b[39mbatch_size,\n\u001b[1;32m   (...)\u001b[0m\n\u001b[0;32m    662\u001b[0m         \u001b[38;5;241m*\u001b[39m\u001b[38;5;241m*\u001b[39mkwargs,\n\u001b[0;32m    663\u001b[0m     )\n",
      "\u001b[1;31mValueError\u001b[0m: The model is not safe to use for prediction. This might mean that the requested charged_frag_types ['c_z1', 'c_z2', 'y_z1', 'y_z2', 'x_z1', 'x_z2', 'y_modloss_z1', 'y_modloss_z2'] are not a subset of the charged_frag_types used to train the loaded pretrained model ['b_z1', 'b_z2', 'y_z1', 'y_z2', 'b_modloss_z1', 'b_modloss_z2', 'y_modloss_z1', 'y_modloss_z2']. Please retrain the model or use a pretrained model with the correct charged_frag_types."
     ]
    }
   ],
   "source": [
    "model =  pDeepModel(charged_frag_types=['c_z1', 'c_z2', 'y_z1', 'y_z2', 'x_z1', 'x_z2', 'y_modloss_z1', 'y_modloss_z2'])\n",
    "model.load(new_path)\n",
    "\n",
    "new_subset_preds = model.predict(get_prediction_dataset())\n"
   ]
  },
  {
   "cell_type": "markdown",
   "metadata": {},
   "source": [
    "User has a weights file and want to predict all fragment types used for training without knowing what exactly was used during training (New feature)\n",
    "\n",
    "Notice how the requested frag types are overridden in the model interface"
   ]
  },
  {
   "cell_type": "code",
   "execution_count": 50,
   "metadata": {},
   "outputs": [
    {
     "name": "stdout",
     "output_type": "stream",
     "text": [
      "Model Interface has requested charged_frag_types ['b_z1', 'b_z2', 'y_z1', 'y_z2', 'b_modloss_z1', 'b_modloss_z2', 'y_modloss_z1', 'y_modloss_z2']\n",
      "Supported charged_frag_types in the loaded weights  ['b_z1', 'b_z2', 'y_z1', 'y_z2', 'b_modloss_z1', 'b_modloss_z2', 'y_modloss_z1', 'y_modloss_z2']\n"
     ]
    }
   ],
   "source": [
    "model =  pDeepModel(\n",
    "    charged_frag_types=['c_z1', 'c_z2', 'y_z1', 'y_z2', 'x_z1', 'x_z2', 'y_modloss_z1', 'y_modloss_z2'], # Will be overridden by the model weights\n",
    "    override_from_weights=True\n",
    "    )\n",
    "model.load(new_path)\n",
    "\n",
    "print(f\"Model Interface has requested charged_frag_types {model.charged_frag_types}\")\n",
    "print(f\"Supported charged_frag_types in the loaded weights  {model.model.supported_charged_frag_types}\")"
   ]
  },
  {
   "cell_type": "code",
   "execution_count": 51,
   "metadata": {},
   "outputs": [
    {
     "data": {
      "text/html": [
       "<div>\n",
       "<style scoped>\n",
       "    .dataframe tbody tr th:only-of-type {\n",
       "        vertical-align: middle;\n",
       "    }\n",
       "\n",
       "    .dataframe tbody tr th {\n",
       "        vertical-align: top;\n",
       "    }\n",
       "\n",
       "    .dataframe thead th {\n",
       "        text-align: right;\n",
       "    }\n",
       "</style>\n",
       "<table border=\"1\" class=\"dataframe\">\n",
       "  <thead>\n",
       "    <tr style=\"text-align: right;\">\n",
       "      <th></th>\n",
       "      <th>b_z1</th>\n",
       "      <th>b_z2</th>\n",
       "      <th>y_z1</th>\n",
       "      <th>y_z2</th>\n",
       "      <th>b_modloss_z1</th>\n",
       "      <th>b_modloss_z2</th>\n",
       "      <th>y_modloss_z1</th>\n",
       "      <th>y_modloss_z2</th>\n",
       "    </tr>\n",
       "  </thead>\n",
       "  <tbody>\n",
       "    <tr>\n",
       "      <th>0</th>\n",
       "      <td>0.000000</td>\n",
       "      <td>0.0</td>\n",
       "      <td>1.000000</td>\n",
       "      <td>0.004739</td>\n",
       "      <td>0.0</td>\n",
       "      <td>0.0</td>\n",
       "      <td>0.0</td>\n",
       "      <td>0.0</td>\n",
       "    </tr>\n",
       "    <tr>\n",
       "      <th>1</th>\n",
       "      <td>0.162034</td>\n",
       "      <td>0.0</td>\n",
       "      <td>0.360414</td>\n",
       "      <td>0.000000</td>\n",
       "      <td>0.0</td>\n",
       "      <td>0.0</td>\n",
       "      <td>0.0</td>\n",
       "      <td>0.0</td>\n",
       "    </tr>\n",
       "    <tr>\n",
       "      <th>2</th>\n",
       "      <td>0.046660</td>\n",
       "      <td>0.0</td>\n",
       "      <td>0.109920</td>\n",
       "      <td>0.005516</td>\n",
       "      <td>0.0</td>\n",
       "      <td>0.0</td>\n",
       "      <td>0.0</td>\n",
       "      <td>0.0</td>\n",
       "    </tr>\n",
       "    <tr>\n",
       "      <th>3</th>\n",
       "      <td>0.018628</td>\n",
       "      <td>0.0</td>\n",
       "      <td>0.203326</td>\n",
       "      <td>0.000000</td>\n",
       "      <td>0.0</td>\n",
       "      <td>0.0</td>\n",
       "      <td>0.0</td>\n",
       "      <td>0.0</td>\n",
       "    </tr>\n",
       "    <tr>\n",
       "      <th>4</th>\n",
       "      <td>0.013530</td>\n",
       "      <td>0.0</td>\n",
       "      <td>0.267507</td>\n",
       "      <td>0.000000</td>\n",
       "      <td>0.0</td>\n",
       "      <td>0.0</td>\n",
       "      <td>0.0</td>\n",
       "      <td>0.0</td>\n",
       "    </tr>\n",
       "  </tbody>\n",
       "</table>\n",
       "</div>"
      ],
      "text/plain": [
       "       b_z1  b_z2      y_z1      y_z2  b_modloss_z1  b_modloss_z2  \\\n",
       "0  0.000000   0.0  1.000000  0.004739           0.0           0.0   \n",
       "1  0.162034   0.0  0.360414  0.000000           0.0           0.0   \n",
       "2  0.046660   0.0  0.109920  0.005516           0.0           0.0   \n",
       "3  0.018628   0.0  0.203326  0.000000           0.0           0.0   \n",
       "4  0.013530   0.0  0.267507  0.000000           0.0           0.0   \n",
       "\n",
       "   y_modloss_z1  y_modloss_z2  \n",
       "0           0.0           0.0  \n",
       "1           0.0           0.0  \n",
       "2           0.0           0.0  \n",
       "3           0.0           0.0  \n",
       "4           0.0           0.0  "
      ]
     },
     "execution_count": 51,
     "metadata": {},
     "output_type": "execute_result"
    }
   ],
   "source": [
    "new_full_preds = model.predict(get_prediction_dataset())\n",
    "# verify the predictions are the same\n",
    "assert np.allclose(legacy_full_preds.values, new_full_preds.values, atol=1e-5)\n",
    "new_full_preds.head()"
   ]
  },
  {
   "cell_type": "markdown",
   "metadata": {},
   "source": [
    "# Ms2 model training"
   ]
  },
  {
   "cell_type": "code",
   "execution_count": 52,
   "metadata": {},
   "outputs": [
    {
     "name": "stdout",
     "output_type": "stream",
     "text": [
      "Fragment types in the training data: Index(['a_z1', 'a_z2', 'b_z1', 'b_z2', 'c_z1', 'c_z2', 'x_z1', 'x_z2', 'y_z1',\n",
      "       'y_z2', 'z_z1', 'z_z2', 'b_H2O_z1', 'b_H2O_z2', 'b_NH3_z1', 'b_NH3_z2',\n",
      "       'c_lossH_z1', 'c_lossH_z2', 'y_H2O_z1', 'y_H2O_z2', 'y_NH3_z1',\n",
      "       'y_NH3_z2', 'z_addH_z1', 'z_addH_z2', 'b_modloss_z1', 'b_modloss_z2',\n",
      "       'y_modloss_z1', 'y_modloss_z2'],\n",
      "      dtype='object')\n"
     ]
    }
   ],
   "source": [
    "trainin_data_path = \"C:/Users/USER/Desktop/Germany/work/MPIB/alphadia/2oh_evidence_txt_0_batch_0.hdf\"\n",
    "speclib = SpecLibFlat()\n",
    "speclib.load_hdf(trainin_data_path)\n",
    "speclib.fragment_intensity_df[\"b_modloss_z1\"] = 0\n",
    "speclib.fragment_intensity_df[\"b_modloss_z2\"] = 0\n",
    "speclib.fragment_intensity_df[\"y_modloss_z1\"] = 0\n",
    "speclib.fragment_intensity_df[\"y_modloss_z2\"] = 0\n",
    "frgament_types_in_data = speclib.fragment_intensity_df.columns\n",
    "\n",
    "speclib.precursor_df['nce'] = 30\n",
    "speclib.precursor_df['instrument'] = \"Lumos\"\n",
    "# sample only 100 samples\n",
    "speclib.precursor_df = speclib.precursor_df.sample(100)\n",
    "\n",
    "# normalize intensity \n",
    "normalize_fragment_intensities(speclib.precursor_df, speclib.fragment_intensity_df)\n",
    "print(f\"Fragment types in the training data: {frgament_types_in_data}\")"
   ]
  },
  {
   "cell_type": "markdown",
   "metadata": {},
   "source": [
    "## User importing a legacy model "
   ]
  },
  {
   "cell_type": "markdown",
   "metadata": {},
   "source": [
    "Using correct *len* of frag types when initialization \n"
   ]
  },
  {
   "cell_type": "code",
   "execution_count": 53,
   "metadata": {},
   "outputs": [
    {
     "name": "stdout",
     "output_type": "stream",
     "text": [
      "2025-02-12 19:42:53> Training with fixed sequence length: 0\n",
      "[Training] Epoch=1, Mean Loss=0.0174776264175307\n"
     ]
    }
   ],
   "source": [
    "target_frag_types = ['b_z1', 'b_z2', 'y_z1', 'y_z2', 'b_modloss_z1', 'b_modloss_z2', 'y_modloss_z1', 'y_modloss_z2']\n",
    "model = pDeepModel(charged_frag_types=target_frag_types)\n",
    "model.load(legacy_path)\n",
    "model.train(precursor_df=speclib.precursor_df, fragment_intensity_df=speclib.fragment_intensity_df.loc[:,target_frag_types], epoch=1, verbose=1)"
   ]
  },
  {
   "cell_type": "markdown",
   "metadata": {},
   "source": [
    "Using incorrect *len* of frag types when initialization (Should raise a mismatch error)\n"
   ]
  },
  {
   "cell_type": "code",
   "execution_count": 54,
   "metadata": {},
   "outputs": [
    {
     "ename": "RuntimeError",
     "evalue": "Error(s) in loading state_dict for ModelMS2Bert:\n\tsize mismatch for output_nn.nn.2.weight: copying a param with shape torch.Size([4, 64]) from checkpoint, the shape in current model is torch.Size([2, 64]).\n\tsize mismatch for output_nn.nn.2.bias: copying a param with shape torch.Size([4]) from checkpoint, the shape in current model is torch.Size([2]).\n\tsize mismatch for modloss_nn.1.nn.2.weight: copying a param with shape torch.Size([4, 64]) from checkpoint, the shape in current model is torch.Size([2, 64]).\n\tsize mismatch for modloss_nn.1.nn.2.bias: copying a param with shape torch.Size([4]) from checkpoint, the shape in current model is torch.Size([2]).",
     "output_type": "error",
     "traceback": [
      "\u001b[1;31m---------------------------------------------------------------------------\u001b[0m",
      "\u001b[1;31mRuntimeError\u001b[0m                              Traceback (most recent call last)",
      "Cell \u001b[1;32mIn[54], line 3\u001b[0m\n\u001b[0;32m      1\u001b[0m target_frag_types \u001b[38;5;241m=\u001b[39m [\u001b[38;5;124m'\u001b[39m\u001b[38;5;124mb_z1\u001b[39m\u001b[38;5;124m'\u001b[39m, \u001b[38;5;124m'\u001b[39m\u001b[38;5;124mb_z2\u001b[39m\u001b[38;5;124m'\u001b[39m, \u001b[38;5;124m'\u001b[39m\u001b[38;5;124mb_modloss_z1\u001b[39m\u001b[38;5;124m'\u001b[39m, \u001b[38;5;124m'\u001b[39m\u001b[38;5;124mb_modloss_z2\u001b[39m\u001b[38;5;124m'\u001b[39m]\n\u001b[0;32m      2\u001b[0m model \u001b[38;5;241m=\u001b[39m pDeepModel(charged_frag_types\u001b[38;5;241m=\u001b[39mtarget_frag_types)\n\u001b[1;32m----> 3\u001b[0m \u001b[43mmodel\u001b[49m\u001b[38;5;241;43m.\u001b[39;49m\u001b[43mload\u001b[49m\u001b[43m(\u001b[49m\u001b[43mlegacy_path\u001b[49m\u001b[43m)\u001b[49m\n\u001b[0;32m      4\u001b[0m model\u001b[38;5;241m.\u001b[39mtrain(precursor_df\u001b[38;5;241m=\u001b[39mspeclib\u001b[38;5;241m.\u001b[39mprecursor_df, fragment_intensity_df\u001b[38;5;241m=\u001b[39mspeclib\u001b[38;5;241m.\u001b[39mfragment_intensity_df\u001b[38;5;241m.\u001b[39mloc[:,target_frag_types], epoch\u001b[38;5;241m=\u001b[39m\u001b[38;5;241m1\u001b[39m, verbose\u001b[38;5;241m=\u001b[39m\u001b[38;5;241m1\u001b[39m)\n",
      "File \u001b[1;32mc:\\users\\user\\desktop\\germany\\work\\mpib\\pepteep\\alphapeptdeep\\peptdeep\\model\\model_interface.py:638\u001b[0m, in \u001b[0;36mModelInterface.load\u001b[1;34m(self, model_file, model_path_in_zip, **kwargs)\u001b[0m\n\u001b[0;32m    636\u001b[0m         \u001b[38;5;28mself\u001b[39m\u001b[38;5;241m.\u001b[39m_load_model_from_zipfile(model_file, model_path_in_zip)\n\u001b[0;32m    637\u001b[0m     \u001b[38;5;28;01melse\u001b[39;00m:\n\u001b[1;32m--> 638\u001b[0m         \u001b[38;5;28;43mself\u001b[39;49m\u001b[38;5;241;43m.\u001b[39;49m\u001b[43m_load_model_from_pytorchfile\u001b[49m\u001b[43m(\u001b[49m\u001b[43mmodel_file\u001b[49m\u001b[43m)\u001b[49m\n\u001b[0;32m    639\u001b[0m \u001b[38;5;28;01melse\u001b[39;00m:\n\u001b[0;32m    640\u001b[0m     \u001b[38;5;28mself\u001b[39m\u001b[38;5;241m.\u001b[39m_load_model_from_stream(model_file)\n",
      "File \u001b[1;32mc:\\users\\user\\desktop\\germany\\work\\mpib\\pepteep\\alphapeptdeep\\peptdeep\\model\\model_interface.py:727\u001b[0m, in \u001b[0;36mModelInterface._load_model_from_pytorchfile\u001b[1;34m(self, model_file)\u001b[0m\n\u001b[0;32m    725\u001b[0m \u001b[38;5;28;01mdef\u001b[39;00m \u001b[38;5;21m_load_model_from_pytorchfile\u001b[39m(\u001b[38;5;28mself\u001b[39m, model_file):\n\u001b[0;32m    726\u001b[0m     \u001b[38;5;28;01mwith\u001b[39;00m \u001b[38;5;28mopen\u001b[39m(model_file, \u001b[38;5;124m\"\u001b[39m\u001b[38;5;124mrb\u001b[39m\u001b[38;5;124m\"\u001b[39m) \u001b[38;5;28;01mas\u001b[39;00m pt_file:\n\u001b[1;32m--> 727\u001b[0m         \u001b[38;5;28;43mself\u001b[39;49m\u001b[38;5;241;43m.\u001b[39;49m\u001b[43m_load_model_from_stream\u001b[49m\u001b[43m(\u001b[49m\u001b[43mpt_file\u001b[49m\u001b[43m)\u001b[49m\n",
      "File \u001b[1;32mc:\\users\\user\\desktop\\germany\\work\\mpib\\pepteep\\alphapeptdeep\\peptdeep\\model\\ms2.py:717\u001b[0m, in \u001b[0;36mpDeepModel._load_model_from_stream\u001b[1;34m(self, stream)\u001b[0m\n\u001b[0;32m    714\u001b[0m     \u001b[38;5;28;01mif\u001b[39;00m \u001b[38;5;28mself\u001b[39m\u001b[38;5;241m.\u001b[39moverride_from_weights:\n\u001b[0;32m    715\u001b[0m         \u001b[38;5;28mself\u001b[39m\u001b[38;5;241m.\u001b[39mcharged_frag_types \u001b[38;5;241m=\u001b[39m tensor_to_charged_frags(loaded_charged_frag_types)\n\u001b[1;32m--> 717\u001b[0m (missing_keys, unexpect_keys) \u001b[38;5;241m=\u001b[39m \u001b[38;5;28;43mself\u001b[39;49m\u001b[38;5;241;43m.\u001b[39;49m\u001b[43mmodel\u001b[49m\u001b[38;5;241;43m.\u001b[39;49m\u001b[43mload_state_dict\u001b[49m\u001b[43m(\u001b[49m\n\u001b[0;32m    718\u001b[0m \u001b[43m    \u001b[49m\u001b[43mto_be_loaded_state_dict\u001b[49m\u001b[43m,\u001b[49m\u001b[43m \u001b[49m\u001b[43mstrict\u001b[49m\u001b[38;5;241;43m=\u001b[39;49m\u001b[38;5;28;43;01mFalse\u001b[39;49;00m\n\u001b[0;32m    719\u001b[0m \u001b[43m\u001b[49m\u001b[43m)\u001b[49m\n\u001b[0;32m    720\u001b[0m \u001b[38;5;28mself\u001b[39m\u001b[38;5;241m.\u001b[39m_update_model_state()\n\u001b[0;32m    721\u001b[0m missing_keys \u001b[38;5;241m=\u001b[39m [key \u001b[38;5;28;01mfor\u001b[39;00m key \u001b[38;5;129;01min\u001b[39;00m missing_keys \u001b[38;5;28;01mif\u001b[39;00m \u001b[38;5;124m\"\u001b[39m\u001b[38;5;124m_supported_charged_frag_types\u001b[39m\u001b[38;5;124m\"\u001b[39m \u001b[38;5;129;01mnot\u001b[39;00m \u001b[38;5;129;01min\u001b[39;00m key]\n",
      "File \u001b[1;32mc:\\Users\\USER\\anaconda3\\envs\\peptdeep\\lib\\site-packages\\torch\\nn\\modules\\module.py:2153\u001b[0m, in \u001b[0;36mModule.load_state_dict\u001b[1;34m(self, state_dict, strict, assign)\u001b[0m\n\u001b[0;32m   2148\u001b[0m         error_msgs\u001b[38;5;241m.\u001b[39minsert(\n\u001b[0;32m   2149\u001b[0m             \u001b[38;5;241m0\u001b[39m, \u001b[38;5;124m'\u001b[39m\u001b[38;5;124mMissing key(s) in state_dict: \u001b[39m\u001b[38;5;132;01m{}\u001b[39;00m\u001b[38;5;124m. \u001b[39m\u001b[38;5;124m'\u001b[39m\u001b[38;5;241m.\u001b[39mformat(\n\u001b[0;32m   2150\u001b[0m                 \u001b[38;5;124m'\u001b[39m\u001b[38;5;124m, \u001b[39m\u001b[38;5;124m'\u001b[39m\u001b[38;5;241m.\u001b[39mjoin(\u001b[38;5;124mf\u001b[39m\u001b[38;5;124m'\u001b[39m\u001b[38;5;124m\"\u001b[39m\u001b[38;5;132;01m{\u001b[39;00mk\u001b[38;5;132;01m}\u001b[39;00m\u001b[38;5;124m\"\u001b[39m\u001b[38;5;124m'\u001b[39m \u001b[38;5;28;01mfor\u001b[39;00m k \u001b[38;5;129;01min\u001b[39;00m missing_keys)))\n\u001b[0;32m   2152\u001b[0m \u001b[38;5;28;01mif\u001b[39;00m \u001b[38;5;28mlen\u001b[39m(error_msgs) \u001b[38;5;241m>\u001b[39m \u001b[38;5;241m0\u001b[39m:\n\u001b[1;32m-> 2153\u001b[0m     \u001b[38;5;28;01mraise\u001b[39;00m \u001b[38;5;167;01mRuntimeError\u001b[39;00m(\u001b[38;5;124m'\u001b[39m\u001b[38;5;124mError(s) in loading state_dict for \u001b[39m\u001b[38;5;132;01m{}\u001b[39;00m\u001b[38;5;124m:\u001b[39m\u001b[38;5;130;01m\\n\u001b[39;00m\u001b[38;5;130;01m\\t\u001b[39;00m\u001b[38;5;132;01m{}\u001b[39;00m\u001b[38;5;124m'\u001b[39m\u001b[38;5;241m.\u001b[39mformat(\n\u001b[0;32m   2154\u001b[0m                        \u001b[38;5;28mself\u001b[39m\u001b[38;5;241m.\u001b[39m\u001b[38;5;18m__class__\u001b[39m\u001b[38;5;241m.\u001b[39m\u001b[38;5;18m__name__\u001b[39m, \u001b[38;5;124m\"\u001b[39m\u001b[38;5;130;01m\\n\u001b[39;00m\u001b[38;5;130;01m\\t\u001b[39;00m\u001b[38;5;124m\"\u001b[39m\u001b[38;5;241m.\u001b[39mjoin(error_msgs)))\n\u001b[0;32m   2155\u001b[0m \u001b[38;5;28;01mreturn\u001b[39;00m _IncompatibleKeys(missing_keys, unexpected_keys)\n",
      "\u001b[1;31mRuntimeError\u001b[0m: Error(s) in loading state_dict for ModelMS2Bert:\n\tsize mismatch for output_nn.nn.2.weight: copying a param with shape torch.Size([4, 64]) from checkpoint, the shape in current model is torch.Size([2, 64]).\n\tsize mismatch for output_nn.nn.2.bias: copying a param with shape torch.Size([4]) from checkpoint, the shape in current model is torch.Size([2]).\n\tsize mismatch for modloss_nn.1.nn.2.weight: copying a param with shape torch.Size([4, 64]) from checkpoint, the shape in current model is torch.Size([2, 64]).\n\tsize mismatch for modloss_nn.1.nn.2.bias: copying a param with shape torch.Size([4]) from checkpoint, the shape in current model is torch.Size([2])."
     ]
    }
   ],
   "source": [
    "target_frag_types = ['b_z1', 'b_z2', 'b_modloss_z1', 'b_modloss_z2']\n",
    "model = pDeepModel(charged_frag_types=target_frag_types)\n",
    "model.load(legacy_path)\n",
    "model.train(precursor_df=speclib.precursor_df, fragment_intensity_df=speclib.fragment_intensity_df.loc[:,target_frag_types], epoch=1, verbose=1)"
   ]
  },
  {
   "cell_type": "markdown",
   "metadata": {},
   "source": [
    "## User importing a new model "
   ]
  },
  {
   "cell_type": "markdown",
   "metadata": {},
   "source": [
    "Trining on new fragment types that were not part of the training of the original weights (New feature). \n",
    "- This is not training from scratch but rather loading the pre-trained backbone and only the prediction heads are initialized from scratch which results in a much faster convergence and reduce the risk of overfiting.\n",
    "- Notice how when the requested frag types are not a subset of the supported the model is not safe to use for prediction, but after training the model is now safe to predict. \n"
   ]
  },
  {
   "cell_type": "code",
   "execution_count": 55,
   "metadata": {},
   "outputs": [
    {
     "name": "stdout",
     "output_type": "stream",
     "text": [
      "Trying to predict when the requested fragment types are not supported by the pretrained model\n",
      "Error: The model is not safe to use for prediction. This might mean that the requested charged_frag_types ['a_z1', 'a_z2', 'b_H2O_z1', 'b_H2O_z2'] are not a subset of the charged_frag_types used to train the loaded pretrained model ['b_z1', 'b_z2', 'y_z1', 'y_z2', 'b_modloss_z1', 'b_modloss_z2', 'y_modloss_z1', 'y_modloss_z2']. Please retrain the model or use a pretrained model with the correct charged_frag_types.\n",
      "Training the model with the requested fragment types\n",
      "2025-02-12 19:43:01> Training with fixed sequence length: 0\n",
      "[Training] Epoch=1, Mean Loss=0.08573874365538359\n",
      "Trying to predict after training with the requested fragment types\n"
     ]
    },
    {
     "data": {
      "text/html": [
       "<div>\n",
       "<style scoped>\n",
       "    .dataframe tbody tr th:only-of-type {\n",
       "        vertical-align: middle;\n",
       "    }\n",
       "\n",
       "    .dataframe tbody tr th {\n",
       "        vertical-align: top;\n",
       "    }\n",
       "\n",
       "    .dataframe thead th {\n",
       "        text-align: right;\n",
       "    }\n",
       "</style>\n",
       "<table border=\"1\" class=\"dataframe\">\n",
       "  <thead>\n",
       "    <tr style=\"text-align: right;\">\n",
       "      <th></th>\n",
       "      <th>a_z1</th>\n",
       "      <th>a_z2</th>\n",
       "      <th>b_H2O_z1</th>\n",
       "      <th>b_H2O_z2</th>\n",
       "    </tr>\n",
       "  </thead>\n",
       "  <tbody>\n",
       "    <tr>\n",
       "      <th>0</th>\n",
       "      <td>0.000000</td>\n",
       "      <td>0.0</td>\n",
       "      <td>1.000000</td>\n",
       "      <td>0.000000</td>\n",
       "    </tr>\n",
       "    <tr>\n",
       "      <th>1</th>\n",
       "      <td>0.156433</td>\n",
       "      <td>0.0</td>\n",
       "      <td>0.352000</td>\n",
       "      <td>0.000000</td>\n",
       "    </tr>\n",
       "    <tr>\n",
       "      <th>2</th>\n",
       "      <td>0.042533</td>\n",
       "      <td>0.0</td>\n",
       "      <td>0.101634</td>\n",
       "      <td>0.001894</td>\n",
       "    </tr>\n",
       "    <tr>\n",
       "      <th>3</th>\n",
       "      <td>0.015229</td>\n",
       "      <td>0.0</td>\n",
       "      <td>0.188399</td>\n",
       "      <td>0.000000</td>\n",
       "    </tr>\n",
       "    <tr>\n",
       "      <th>4</th>\n",
       "      <td>0.009935</td>\n",
       "      <td>0.0</td>\n",
       "      <td>0.250530</td>\n",
       "      <td>0.000000</td>\n",
       "    </tr>\n",
       "  </tbody>\n",
       "</table>\n",
       "</div>"
      ],
      "text/plain": [
       "       a_z1  a_z2  b_H2O_z1  b_H2O_z2\n",
       "0  0.000000   0.0  1.000000  0.000000\n",
       "1  0.156433   0.0  0.352000  0.000000\n",
       "2  0.042533   0.0  0.101634  0.001894\n",
       "3  0.015229   0.0  0.188399  0.000000\n",
       "4  0.009935   0.0  0.250530  0.000000"
      ]
     },
     "execution_count": 55,
     "metadata": {},
     "output_type": "execute_result"
    }
   ],
   "source": [
    "target_frag_types = ['a_z1', 'a_z2', 'b_H2O_z1', 'b_H2O_z2'] \n",
    "model = pDeepModel(charged_frag_types=target_frag_types)\n",
    "model.load(new_path)\n",
    "print(\"Trying to predict when the requested fragment types are not supported by the pretrained model\")\n",
    "try: \n",
    "    # try to predict with the new model\n",
    "    model.predict(get_prediction_dataset())\n",
    "except Exception as e:\n",
    "    print(f\"Error: {e}\")\n",
    "\n",
    "print(\"Training the model with the requested fragment types\")\n",
    "model.train(precursor_df=speclib.precursor_df, fragment_intensity_df=speclib.fragment_intensity_df.loc[:,target_frag_types], epoch=1, verbose=1)\n",
    "\n",
    "print(\"Trying to predict after training with the requested fragment types\")\n",
    "try: \n",
    "    # try to predict with the new model\n",
    "    preds = model.predict(get_prediction_dataset())\n",
    "except Exception as e:\n",
    "    print(f\"Error: {e}\")\n",
    "\n",
    "preds.head()"
   ]
  },
  {
   "cell_type": "markdown",
   "metadata": {},
   "source": [
    "After training the the underlying supported fragment types is aligned with teh requested frag types which can then be saved."
   ]
  },
  {
   "cell_type": "code",
   "execution_count": 56,
   "metadata": {},
   "outputs": [
    {
     "name": "stdout",
     "output_type": "stream",
     "text": [
      "Model Interface has requested charged_frag_types ['a_z1', 'a_z2', 'b_H2O_z1', 'b_H2O_z2']\n",
      "Supported charged_frag_types in the loaded weights  ['a_z1', 'a_z2', 'b_H2O_z1', 'b_H2O_z2']\n"
     ]
    }
   ],
   "source": [
    "print(f\"Model Interface has requested charged_frag_types {model.charged_frag_types}\")\n",
    "print(f\"Supported charged_frag_types in the loaded weights  {model.model.supported_charged_frag_types}\")"
   ]
  }
 ],
 "metadata": {
  "kernelspec": {
   "display_name": "peptdeep",
   "language": "python",
   "name": "python3"
  },
  "language_info": {
   "codemirror_mode": {
    "name": "ipython",
    "version": 3
   },
   "file_extension": ".py",
   "mimetype": "text/x-python",
   "name": "python",
   "nbconvert_exporter": "python",
   "pygments_lexer": "ipython3",
   "version": "3.9.19"
  }
 },
 "nbformat": 4,
 "nbformat_minor": 2
}
