{
 "cells": [
  {
   "cell_type": "code",
   "execution_count": 6,
   "metadata": {},
   "outputs": [
    {
     "name": "stdout",
     "output_type": "stream",
     "text": [
      "The autoreload extension is already loaded. To reload it, use:\n",
      "  %reload_ext autoreload\n"
     ]
    }
   ],
   "source": [
    "\n",
    "from peptdeep.model.featurize import BertaFeatureExtractor\n",
    "from alphabase.spectral_library.base import SpecLibBase\n",
    "%load_ext autoreload\n",
    "%autoreload 2"
   ]
  },
  {
   "cell_type": "code",
   "execution_count": 10,
   "metadata": {},
   "outputs": [
    {
     "data": {
      "text/html": [
       "<div>\n",
       "<style scoped>\n",
       "    .dataframe tbody tr th:only-of-type {\n",
       "        vertical-align: middle;\n",
       "    }\n",
       "\n",
       "    .dataframe tbody tr th {\n",
       "        vertical-align: top;\n",
       "    }\n",
       "\n",
       "    .dataframe thead th {\n",
       "        text-align: right;\n",
       "    }\n",
       "</style>\n",
       "<table border=\"1\" class=\"dataframe\">\n",
       "  <thead>\n",
       "    <tr style=\"text-align: right;\">\n",
       "      <th></th>\n",
       "      <th>sequence</th>\n",
       "      <th>mod_sites</th>\n",
       "      <th>mods</th>\n",
       "    </tr>\n",
       "  </thead>\n",
       "  <tbody>\n",
       "    <tr>\n",
       "      <th>0</th>\n",
       "      <td>VYTTPKK</td>\n",
       "      <td>6</td>\n",
       "      <td>hydroxyisobutyryl@K</td>\n",
       "    </tr>\n",
       "    <tr>\n",
       "      <th>1</th>\n",
       "      <td>VYVAFKK</td>\n",
       "      <td>6</td>\n",
       "      <td>hydroxyisobutyryl@K</td>\n",
       "    </tr>\n",
       "    <tr>\n",
       "      <th>2</th>\n",
       "      <td>VYYGKDR</td>\n",
       "      <td>5</td>\n",
       "      <td>hydroxyisobutyryl@K</td>\n",
       "    </tr>\n",
       "    <tr>\n",
       "      <th>3</th>\n",
       "      <td>QQMLEKR</td>\n",
       "      <td>6</td>\n",
       "      <td>hydroxyisobutyryl@K</td>\n",
       "    </tr>\n",
       "    <tr>\n",
       "      <th>4</th>\n",
       "      <td>QPKPQTR</td>\n",
       "      <td>3</td>\n",
       "      <td>hydroxyisobutyryl@K</td>\n",
       "    </tr>\n",
       "    <tr>\n",
       "      <th>...</th>\n",
       "      <td>...</td>\n",
       "      <td>...</td>\n",
       "      <td>...</td>\n",
       "    </tr>\n",
       "    <tr>\n",
       "      <th>22821</th>\n",
       "      <td>TGNTPNDEDIPITAGHEMNITTDDSYATACDDKNMYVDYK</td>\n",
       "      <td>33;30</td>\n",
       "      <td>hydroxyisobutyryl@K;Carbamidomethyl@C</td>\n",
       "    </tr>\n",
       "    <tr>\n",
       "      <th>22822</th>\n",
       "      <td>GTDPKDENITVVGGHSGVTIVPLFSQSNHPDLSSNAELVK</td>\n",
       "      <td>5</td>\n",
       "      <td>hydroxyisobutyryl@K</td>\n",
       "    </tr>\n",
       "    <tr>\n",
       "      <th>22823</th>\n",
       "      <td>GTDPKDENITVVGGHSGVTIVPLFSQSNHPDLSSNAELVKR</td>\n",
       "      <td>40</td>\n",
       "      <td>hydroxyisobutyryl@K</td>\n",
       "    </tr>\n",
       "    <tr>\n",
       "      <th>22824</th>\n",
       "      <td>LQTDHIGHTGYINTVTISPDGSLCASGGKDGTTMLWDLNESK</td>\n",
       "      <td>29;34;24</td>\n",
       "      <td>hydroxyisobutyryl@K;Oxidation@M;Carbamidomethyl@C</td>\n",
       "    </tr>\n",
       "    <tr>\n",
       "      <th>22825</th>\n",
       "      <td>DVKDLLVNVGSGGGAAPAAGGAAAAGGAAAEAAPEEEKEEEK</td>\n",
       "      <td>3</td>\n",
       "      <td>hydroxyisobutyryl@K</td>\n",
       "    </tr>\n",
       "  </tbody>\n",
       "</table>\n",
       "<p>22826 rows × 3 columns</p>\n",
       "</div>"
      ],
      "text/plain": [
       "                                         sequence  ...                                               mods\n",
       "0                                         VYTTPKK  ...                                hydroxyisobutyryl@K\n",
       "1                                         VYVAFKK  ...                                hydroxyisobutyryl@K\n",
       "2                                         VYYGKDR  ...                                hydroxyisobutyryl@K\n",
       "3                                         QQMLEKR  ...                                hydroxyisobutyryl@K\n",
       "4                                         QPKPQTR  ...                                hydroxyisobutyryl@K\n",
       "...                                           ...  ...                                                ...\n",
       "22821    TGNTPNDEDIPITAGHEMNITTDDSYATACDDKNMYVDYK  ...              hydroxyisobutyryl@K;Carbamidomethyl@C\n",
       "22822    GTDPKDENITVVGGHSGVTIVPLFSQSNHPDLSSNAELVK  ...                                hydroxyisobutyryl@K\n",
       "22823   GTDPKDENITVVGGHSGVTIVPLFSQSNHPDLSSNAELVKR  ...                                hydroxyisobutyryl@K\n",
       "22824  LQTDHIGHTGYINTVTISPDGSLCASGGKDGTTMLWDLNESK  ...  hydroxyisobutyryl@K;Oxidation@M;Carbamidomethyl@C\n",
       "22825  DVKDLLVNVGSGGGAAPAAGGAAAAGGAAAEAAPEEEKEEEK  ...                                hydroxyisobutyryl@K\n",
       "\n",
       "[22826 rows x 3 columns]"
      ]
     },
     "execution_count": 10,
     "metadata": {},
     "output_type": "execute_result"
    }
   ],
   "source": [
    "path = \"C:/Users/USER/Desktop/Germany/work/MPIB/alphaDia/2oh_evidence_txt_0_batch_0.hdf\"\n",
    "lib = SpecLibBase()\n",
    "lib.load_hdf(path)\n",
    "lib.precursor_df[['sequence', 'mod_sites', 'mods']]"
   ]
  },
  {
   "cell_type": "code",
   "execution_count": null,
   "metadata": {},
   "outputs": [
    {
     "name": "stderr",
     "output_type": "stream",
     "text": [
      "Some weights of RobertaModel were not initialized from the model checkpoint at DeepChem/ChemBERTa-77M-MTR and are newly initialized: ['roberta.pooler.dense.bias', 'roberta.pooler.dense.weight']\n",
      "You should probably TRAIN this model on a down-stream task to be able to use it for predictions and inference.\n"
     ]
    },
    {
     "name": "stdout",
     "output_type": "stream",
     "text": [
      "sequence: VYTTPKK, mod_sites: 6, mods: hydroxyisobutyryl@K, nAA: 7\n",
      "torch.Size([1, 131, 384])\n",
      "berta features: torch.Size([1, 384])\n"
     ]
    }
   ],
   "source": [
    "feature_extractor = BertaFeatureExtractor()\n",
    "sample = lib.precursor_df.iloc[0]\n",
    "sequence = sample['sequence']\n",
    "mod_sites = sample['mod_sites']\n",
    "mods = sample['mods']\n",
    "nAA = sample['nAA']\n",
    "print(f\"sequence: {sequence}, mod_sites: {mod_sites}, mods: {mods}, nAA: {nAA}\")\n",
    "\n",
    "mol = feature_extractor.peptide_to_berta_features(sequence, mods,mod_sites, False)\n",
    "print(f\"berta features: {mol.shape}\")\n"
   ]
  },
  {
   "cell_type": "code",
   "execution_count": 36,
   "metadata": {},
   "outputs": [
    {
     "name": "stdout",
     "output_type": "stream",
     "text": [
      "torch.Size([7, 32, 384])\n",
      "berta features: torch.Size([7, 384])\n"
     ]
    }
   ],
   "source": [
    "mol = feature_extractor.peptide_to_berta_features(sequence, mods,mod_sites, True)\n",
    "print(f\"berta features: {mol.shape}\")"
   ]
  }
 ],
 "metadata": {
  "kernelspec": {
   "display_name": "peptdeep",
   "language": "python",
   "name": "python3"
  },
  "language_info": {
   "codemirror_mode": {
    "name": "ipython",
    "version": 3
   },
   "file_extension": ".py",
   "mimetype": "text/x-python",
   "name": "python",
   "nbconvert_exporter": "python",
   "pygments_lexer": "ipython3",
   "version": "3.9.19"
  }
 },
 "nbformat": 4,
 "nbformat_minor": 2
}
