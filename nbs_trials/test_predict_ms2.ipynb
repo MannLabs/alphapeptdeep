{
 "cells": [
  {
   "cell_type": "code",
   "execution_count": null,
   "metadata": {},
   "outputs": [],
   "source": [
    "from peptdeep.model.ms2 import pDeepModel\n",
    "from peptdeep.model.rt import IRT_PEPTIDE_DF\n",
    "import numpy as np"
   ]
  },
  {
   "cell_type": "markdown",
   "metadata": {},
   "source": [
    "### MS2 Prediction\n",
    "\n",
    "This Notebook will walk you through different use cases supported by our pre-tarined ms2 for prediction. One important input to the prediction process, is the requested charged frag types to be predicted. \n",
    "\n",
    "Supported use cases with the new format:\n",
    "| Fragtypes use case    ,     Override from weights (*) | Safe to predict |\n",
    "|-----------------------------------------------------------|----------------\n",
    "| requested = supported   (1)       ,       False                 |      ✅          |\n",
    "| requested ⊆ supported    (2)     ,          False              |         ✅      |\n",
    "| requested ⊈ supported     (3)    ,             False             |        ❌        |\n",
    "|                  Any               ,            True              |       ✅         |\n",
    "\n",
    "(1) The ideal use case where you know and request exactly the same fragment types supported in the model weights.\n",
    "\n",
    "(2) You only need to predict a subset of the frag types supported by the loaded weights. \n",
    "\n",
    "(3) You request charged frag types that are not supported.\n",
    "\n",
    "(*) `Override from weights` is the new argument added to the MS2 model, this allow you to load models without knowing exactly what are the supported frag types in a pretrained model. So this overrides the requested frag types and uses all supported frag types by the loaded model."
   ]
  },
  {
   "cell_type": "code",
   "execution_count": null,
   "metadata": {},
   "outputs": [],
   "source": [
    "model_path = \"../new_pretrained_models/generic/ms2.pth\"\n"
   ]
  },
  {
   "cell_type": "markdown",
   "metadata": {},
   "source": [
    "To interact with the underlying model, we need to instantiate a model interface that contains the interfaces for prediction and training. In peptdeep the default model interface for MS2 models is pDeepModel"
   ]
  },
  {
   "cell_type": "code",
   "execution_count": 3,
   "metadata": {},
   "outputs": [],
   "source": [
    "model_interface = pDeepModel()\n",
    "model_interface.load(model_path)"
   ]
  },
  {
   "cell_type": "markdown",
   "metadata": {},
   "source": [
    "Next as a user you have the full flexibility to define which charged frag types the the model should predict. However, as described in the supported use cases, the requested charged frag types have to be a subset of the supported frag types of the underlying model. If you want to predict unsupported fragment types, make sure to check the transfer learning notebook where you can efficiently extend a pre-trained model to predict additional fragment types."
   ]
  },
  {
   "cell_type": "markdown",
   "metadata": {},
   "source": [
    "Great lets now check the different use cases we support."
   ]
  },
  {
   "cell_type": "code",
   "execution_count": 4,
   "metadata": {},
   "outputs": [],
   "source": [
    "# Function to create a test dataset to be used for prediction\n",
    "def get_prediction_dataset():\n",
    "    df=IRT_PEPTIDE_DF.copy()\n",
    "    df['charge'] = 2\n",
    "    df['mods'] = ''\n",
    "    df['mod_sites'] = ''\n",
    "    # sort by nAA\n",
    "    df = df.sort_values('nAA')\n",
    "    idxes = np.zeros(len(df)+1,dtype=np.int64)\n",
    "    idxes[1:] = np.cumsum(df.nAA.values-1)\n",
    "    df['frag_start_idx'] = idxes[:-1]\n",
    "    df['frag_stop_idx'] = idxes[1:]\n",
    "    df['nce'] = 30\n",
    "    df['instrument'] = \"Lumos\"\n",
    "    # sort by \n",
    "    return df"
   ]
  },
  {
   "cell_type": "markdown",
   "metadata": {},
   "source": [
    "1. Predict all supported fragment types"
   ]
  },
  {
   "cell_type": "code",
   "execution_count": null,
   "metadata": {},
   "outputs": [
    {
     "data": {
      "text/html": [
       "<div>\n",
       "<style scoped>\n",
       "    .dataframe tbody tr th:only-of-type {\n",
       "        vertical-align: middle;\n",
       "    }\n",
       "\n",
       "    .dataframe tbody tr th {\n",
       "        vertical-align: top;\n",
       "    }\n",
       "\n",
       "    .dataframe thead th {\n",
       "        text-align: right;\n",
       "    }\n",
       "</style>\n",
       "<table border=\"1\" class=\"dataframe\">\n",
       "  <thead>\n",
       "    <tr style=\"text-align: right;\">\n",
       "      <th></th>\n",
       "      <th>b_z1</th>\n",
       "      <th>b_z2</th>\n",
       "      <th>y_z1</th>\n",
       "      <th>y_z2</th>\n",
       "      <th>b_modloss_z1</th>\n",
       "      <th>b_modloss_z2</th>\n",
       "      <th>y_modloss_z1</th>\n",
       "      <th>y_modloss_z2</th>\n",
       "    </tr>\n",
       "  </thead>\n",
       "  <tbody>\n",
       "    <tr>\n",
       "      <th>0</th>\n",
       "      <td>0.000000</td>\n",
       "      <td>0.0</td>\n",
       "      <td>1.000000</td>\n",
       "      <td>0.004739</td>\n",
       "      <td>0.0</td>\n",
       "      <td>0.0</td>\n",
       "      <td>0.0</td>\n",
       "      <td>0.0</td>\n",
       "    </tr>\n",
       "    <tr>\n",
       "      <th>1</th>\n",
       "      <td>0.162034</td>\n",
       "      <td>0.0</td>\n",
       "      <td>0.360414</td>\n",
       "      <td>0.000000</td>\n",
       "      <td>0.0</td>\n",
       "      <td>0.0</td>\n",
       "      <td>0.0</td>\n",
       "      <td>0.0</td>\n",
       "    </tr>\n",
       "    <tr>\n",
       "      <th>2</th>\n",
       "      <td>0.046660</td>\n",
       "      <td>0.0</td>\n",
       "      <td>0.109920</td>\n",
       "      <td>0.005516</td>\n",
       "      <td>0.0</td>\n",
       "      <td>0.0</td>\n",
       "      <td>0.0</td>\n",
       "      <td>0.0</td>\n",
       "    </tr>\n",
       "    <tr>\n",
       "      <th>3</th>\n",
       "      <td>0.018628</td>\n",
       "      <td>0.0</td>\n",
       "      <td>0.203326</td>\n",
       "      <td>0.000000</td>\n",
       "      <td>0.0</td>\n",
       "      <td>0.0</td>\n",
       "      <td>0.0</td>\n",
       "      <td>0.0</td>\n",
       "    </tr>\n",
       "    <tr>\n",
       "      <th>4</th>\n",
       "      <td>0.013530</td>\n",
       "      <td>0.0</td>\n",
       "      <td>0.267507</td>\n",
       "      <td>0.000000</td>\n",
       "      <td>0.0</td>\n",
       "      <td>0.0</td>\n",
       "      <td>0.0</td>\n",
       "      <td>0.0</td>\n",
       "    </tr>\n",
       "  </tbody>\n",
       "</table>\n",
       "</div>"
      ],
      "text/plain": [
       "       b_z1  b_z2      y_z1      y_z2  b_modloss_z1  b_modloss_z2  \\\n",
       "0  0.000000   0.0  1.000000  0.004739           0.0           0.0   \n",
       "1  0.162034   0.0  0.360414  0.000000           0.0           0.0   \n",
       "2  0.046660   0.0  0.109920  0.005516           0.0           0.0   \n",
       "3  0.018628   0.0  0.203326  0.000000           0.0           0.0   \n",
       "4  0.013530   0.0  0.267507  0.000000           0.0           0.0   \n",
       "\n",
       "   y_modloss_z1  y_modloss_z2  \n",
       "0           0.0           0.0  \n",
       "1           0.0           0.0  \n",
       "2           0.0           0.0  \n",
       "3           0.0           0.0  \n",
       "4           0.0           0.0  "
      ]
     },
     "execution_count": 20,
     "metadata": {},
     "output_type": "execute_result"
    }
   ],
   "source": [
    "# To see what fragment types are supported in the alpha ecosystem check alphabase.fragment.FRAGMENT_TYPES \n",
    "REQUESTED_FRAG_TYPES = ['b_z1', 'b_z2', 'y_z1', 'y_z2', 'b_modloss_z1', 'b_modloss_z2', 'y_modloss_z1', 'y_modloss_z2']\n",
    "model_interface = pDeepModel(REQUESTED_FRAG_TYPES)\n",
    "model_interface.load(model_path)\n",
    "\n",
    "predictions = model_interface.predict(get_prediction_dataset())\n",
    "predictions.head()"
   ]
  },
  {
   "cell_type": "markdown",
   "metadata": {},
   "source": [
    "2. Predict a subset of the supported fragment types for example:\n",
    "- Masking modloss fragment types:\n",
    " "
   ]
  },
  {
   "cell_type": "code",
   "execution_count": 6,
   "metadata": {},
   "outputs": [
    {
     "data": {
      "text/html": [
       "<div>\n",
       "<style scoped>\n",
       "    .dataframe tbody tr th:only-of-type {\n",
       "        vertical-align: middle;\n",
       "    }\n",
       "\n",
       "    .dataframe tbody tr th {\n",
       "        vertical-align: top;\n",
       "    }\n",
       "\n",
       "    .dataframe thead th {\n",
       "        text-align: right;\n",
       "    }\n",
       "</style>\n",
       "<table border=\"1\" class=\"dataframe\">\n",
       "  <thead>\n",
       "    <tr style=\"text-align: right;\">\n",
       "      <th></th>\n",
       "      <th>b_z1</th>\n",
       "      <th>b_z2</th>\n",
       "      <th>y_z1</th>\n",
       "      <th>y_z2</th>\n",
       "    </tr>\n",
       "  </thead>\n",
       "  <tbody>\n",
       "    <tr>\n",
       "      <th>0</th>\n",
       "      <td>0.000000</td>\n",
       "      <td>0.0</td>\n",
       "      <td>1.000000</td>\n",
       "      <td>0.004739</td>\n",
       "    </tr>\n",
       "    <tr>\n",
       "      <th>1</th>\n",
       "      <td>0.162034</td>\n",
       "      <td>0.0</td>\n",
       "      <td>0.360414</td>\n",
       "      <td>0.000000</td>\n",
       "    </tr>\n",
       "    <tr>\n",
       "      <th>2</th>\n",
       "      <td>0.046660</td>\n",
       "      <td>0.0</td>\n",
       "      <td>0.109920</td>\n",
       "      <td>0.005516</td>\n",
       "    </tr>\n",
       "    <tr>\n",
       "      <th>3</th>\n",
       "      <td>0.018628</td>\n",
       "      <td>0.0</td>\n",
       "      <td>0.203326</td>\n",
       "      <td>0.000000</td>\n",
       "    </tr>\n",
       "    <tr>\n",
       "      <th>4</th>\n",
       "      <td>0.013530</td>\n",
       "      <td>0.0</td>\n",
       "      <td>0.267507</td>\n",
       "      <td>0.000000</td>\n",
       "    </tr>\n",
       "  </tbody>\n",
       "</table>\n",
       "</div>"
      ],
      "text/plain": [
       "       b_z1  b_z2      y_z1      y_z2\n",
       "0  0.000000   0.0  1.000000  0.004739\n",
       "1  0.162034   0.0  0.360414  0.000000\n",
       "2  0.046660   0.0  0.109920  0.005516\n",
       "3  0.018628   0.0  0.203326  0.000000\n",
       "4  0.013530   0.0  0.267507  0.000000"
      ]
     },
     "execution_count": 6,
     "metadata": {},
     "output_type": "execute_result"
    }
   ],
   "source": [
    "REQUESTED_FRAG_TYPES = ['b_z1', 'b_z2', 'y_z1', 'y_z2']\n",
    "model_interface = pDeepModel(REQUESTED_FRAG_TYPES)\n",
    "model_interface.load(model_path)\n",
    "\n",
    "predictions = model_interface.predict(get_prediction_dataset())\n",
    "predictions.head()"
   ]
  },
  {
   "cell_type": "markdown",
   "metadata": {},
   "source": [
    "- Masking non-modloss fragment types:"
   ]
  },
  {
   "cell_type": "code",
   "execution_count": 38,
   "metadata": {},
   "outputs": [
    {
     "data": {
      "text/html": [
       "<div>\n",
       "<style scoped>\n",
       "    .dataframe tbody tr th:only-of-type {\n",
       "        vertical-align: middle;\n",
       "    }\n",
       "\n",
       "    .dataframe tbody tr th {\n",
       "        vertical-align: top;\n",
       "    }\n",
       "\n",
       "    .dataframe thead th {\n",
       "        text-align: right;\n",
       "    }\n",
       "</style>\n",
       "<table border=\"1\" class=\"dataframe\">\n",
       "  <thead>\n",
       "    <tr style=\"text-align: right;\">\n",
       "      <th></th>\n",
       "      <th>b_z1</th>\n",
       "      <th>b_z2</th>\n",
       "      <th>b_modloss_z1</th>\n",
       "      <th>b_modloss_z2</th>\n",
       "    </tr>\n",
       "  </thead>\n",
       "  <tbody>\n",
       "    <tr>\n",
       "      <th>0</th>\n",
       "      <td>0.000000</td>\n",
       "      <td>0.0</td>\n",
       "      <td>0.0</td>\n",
       "      <td>0.0</td>\n",
       "    </tr>\n",
       "    <tr>\n",
       "      <th>1</th>\n",
       "      <td>0.162034</td>\n",
       "      <td>0.0</td>\n",
       "      <td>0.0</td>\n",
       "      <td>0.0</td>\n",
       "    </tr>\n",
       "    <tr>\n",
       "      <th>2</th>\n",
       "      <td>0.046660</td>\n",
       "      <td>0.0</td>\n",
       "      <td>0.0</td>\n",
       "      <td>0.0</td>\n",
       "    </tr>\n",
       "    <tr>\n",
       "      <th>3</th>\n",
       "      <td>0.018628</td>\n",
       "      <td>0.0</td>\n",
       "      <td>0.0</td>\n",
       "      <td>0.0</td>\n",
       "    </tr>\n",
       "    <tr>\n",
       "      <th>4</th>\n",
       "      <td>0.013530</td>\n",
       "      <td>0.0</td>\n",
       "      <td>0.0</td>\n",
       "      <td>0.0</td>\n",
       "    </tr>\n",
       "  </tbody>\n",
       "</table>\n",
       "</div>"
      ],
      "text/plain": [
       "       b_z1  b_z2  b_modloss_z1  b_modloss_z2\n",
       "0  0.000000   0.0           0.0           0.0\n",
       "1  0.162034   0.0           0.0           0.0\n",
       "2  0.046660   0.0           0.0           0.0\n",
       "3  0.018628   0.0           0.0           0.0\n",
       "4  0.013530   0.0           0.0           0.0"
      ]
     },
     "execution_count": 38,
     "metadata": {},
     "output_type": "execute_result"
    }
   ],
   "source": [
    "REQUESTED_FRAG_TYPES = ['b_z1', 'b_z2', 'b_modloss_z1', 'b_modloss_z2']\n",
    "model_interface = pDeepModel(REQUESTED_FRAG_TYPES)\n",
    "model_interface.load(model_path)\n",
    "predictions = model_interface.predict(get_prediction_dataset())\n",
    "predictions.head()"
   ]
  },
  {
   "cell_type": "markdown",
   "metadata": {},
   "source": [
    "What if you don't know what are the supported frag types by the pretrained model you have? You can choose to follow strictly what the underlying model support by setting the `override_from_weights` argument to True during the pDeepModel initialization. "
   ]
  },
  {
   "cell_type": "code",
   "execution_count": 8,
   "metadata": {},
   "outputs": [
    {
     "name": "stdout",
     "output_type": "stream",
     "text": [
      "Supported fragment types: ['b_z1', 'b_z2', 'y_z1', 'y_z2', 'b_modloss_z1', 'b_modloss_z2', 'y_modloss_z1', 'y_modloss_z2']\n"
     ]
    },
    {
     "data": {
      "text/html": [
       "<div>\n",
       "<style scoped>\n",
       "    .dataframe tbody tr th:only-of-type {\n",
       "        vertical-align: middle;\n",
       "    }\n",
       "\n",
       "    .dataframe tbody tr th {\n",
       "        vertical-align: top;\n",
       "    }\n",
       "\n",
       "    .dataframe thead th {\n",
       "        text-align: right;\n",
       "    }\n",
       "</style>\n",
       "<table border=\"1\" class=\"dataframe\">\n",
       "  <thead>\n",
       "    <tr style=\"text-align: right;\">\n",
       "      <th></th>\n",
       "      <th>b_z1</th>\n",
       "      <th>b_z2</th>\n",
       "      <th>y_z1</th>\n",
       "      <th>y_z2</th>\n",
       "      <th>b_modloss_z1</th>\n",
       "      <th>b_modloss_z2</th>\n",
       "      <th>y_modloss_z1</th>\n",
       "      <th>y_modloss_z2</th>\n",
       "    </tr>\n",
       "  </thead>\n",
       "  <tbody>\n",
       "    <tr>\n",
       "      <th>0</th>\n",
       "      <td>0.000000</td>\n",
       "      <td>0.0</td>\n",
       "      <td>1.000000</td>\n",
       "      <td>0.004739</td>\n",
       "      <td>0.0</td>\n",
       "      <td>0.0</td>\n",
       "      <td>0.0</td>\n",
       "      <td>0.0</td>\n",
       "    </tr>\n",
       "    <tr>\n",
       "      <th>1</th>\n",
       "      <td>0.162034</td>\n",
       "      <td>0.0</td>\n",
       "      <td>0.360414</td>\n",
       "      <td>0.000000</td>\n",
       "      <td>0.0</td>\n",
       "      <td>0.0</td>\n",
       "      <td>0.0</td>\n",
       "      <td>0.0</td>\n",
       "    </tr>\n",
       "    <tr>\n",
       "      <th>2</th>\n",
       "      <td>0.046660</td>\n",
       "      <td>0.0</td>\n",
       "      <td>0.109920</td>\n",
       "      <td>0.005516</td>\n",
       "      <td>0.0</td>\n",
       "      <td>0.0</td>\n",
       "      <td>0.0</td>\n",
       "      <td>0.0</td>\n",
       "    </tr>\n",
       "    <tr>\n",
       "      <th>3</th>\n",
       "      <td>0.018628</td>\n",
       "      <td>0.0</td>\n",
       "      <td>0.203326</td>\n",
       "      <td>0.000000</td>\n",
       "      <td>0.0</td>\n",
       "      <td>0.0</td>\n",
       "      <td>0.0</td>\n",
       "      <td>0.0</td>\n",
       "    </tr>\n",
       "    <tr>\n",
       "      <th>4</th>\n",
       "      <td>0.013530</td>\n",
       "      <td>0.0</td>\n",
       "      <td>0.267507</td>\n",
       "      <td>0.000000</td>\n",
       "      <td>0.0</td>\n",
       "      <td>0.0</td>\n",
       "      <td>0.0</td>\n",
       "      <td>0.0</td>\n",
       "    </tr>\n",
       "  </tbody>\n",
       "</table>\n",
       "</div>"
      ],
      "text/plain": [
       "       b_z1  b_z2      y_z1      y_z2  b_modloss_z1  b_modloss_z2  \\\n",
       "0  0.000000   0.0  1.000000  0.004739           0.0           0.0   \n",
       "1  0.162034   0.0  0.360414  0.000000           0.0           0.0   \n",
       "2  0.046660   0.0  0.109920  0.005516           0.0           0.0   \n",
       "3  0.018628   0.0  0.203326  0.000000           0.0           0.0   \n",
       "4  0.013530   0.0  0.267507  0.000000           0.0           0.0   \n",
       "\n",
       "   y_modloss_z1  y_modloss_z2  \n",
       "0           0.0           0.0  \n",
       "1           0.0           0.0  \n",
       "2           0.0           0.0  \n",
       "3           0.0           0.0  \n",
       "4           0.0           0.0  "
      ]
     },
     "execution_count": 8,
     "metadata": {},
     "output_type": "execute_result"
    }
   ],
   "source": [
    "REQUESTED_FRAG_TYPES = ['b_z1'] \n",
    "model_interface = pDeepModel(REQUESTED_FRAG_TYPES, # will be overriden by the model weights\n",
    "                             override_from_weights=True)\n",
    "model_interface.load(model_path)\n",
    "\n",
    "print(f\"Supported fragment types: {model_interface.model.supported_charged_frag_types}\")\n",
    "\n",
    "predictions = model_interface.predict(get_prediction_dataset())\n",
    "predictions.head()"
   ]
  }
 ],
 "metadata": {
  "kernelspec": {
   "display_name": "peptdeep",
   "language": "python",
   "name": "python3"
  },
  "language_info": {
   "codemirror_mode": {
    "name": "ipython",
    "version": 3
   },
   "file_extension": ".py",
   "mimetype": "text/x-python",
   "name": "python",
   "nbconvert_exporter": "python",
   "pygments_lexer": "ipython3",
   "version": "3.9.19"
  }
 },
 "nbformat": 4,
 "nbformat_minor": 2
}
