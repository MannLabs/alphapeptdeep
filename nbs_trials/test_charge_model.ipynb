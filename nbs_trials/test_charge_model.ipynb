{
 "cells": [
  {
   "cell_type": "code",
   "execution_count": 1,
   "metadata": {},
   "outputs": [],
   "source": [
    "from peptdeep.model.charge import ChargeModelForModAASeq\n",
    "from peptdeep.pretrained_models import ModelManager \n",
    "from alphabase.spectral_library.base import SpecLibBase\n",
    "import pandas as pd\n",
    "%load_ext autoreload\n",
    "%autoreload 2\n"
   ]
  },
  {
   "cell_type": "code",
   "execution_count": 88,
   "metadata": {},
   "outputs": [
    {
     "name": "stderr",
     "output_type": "stream",
     "text": [
      "c:\\users\\user\\desktop\\germany\\work\\mpib\\pepteep\\alphapeptdeep\\peptdeep\\model\\ms2.py:416: UserWarning: mask_modloss is deprecated and will be removed in the future. To mask the modloss fragments, the charged_frag_types should not include the modloss fragments.\n",
      "  warnings.warn(\n"
     ]
    }
   ],
   "source": [
    "model_mgr = ModelManager()"
   ]
  },
  {
   "cell_type": "code",
   "execution_count": null,
   "metadata": {},
   "outputs": [],
   "source": [
    "transfer_lib = SpecLibBase()\n",
    "transfer_lib.load_hdf('../data/sample_speclib.hdf', load_mod_seq=True)\n"
   ]
  },
  {
   "cell_type": "code",
   "execution_count": 89,
   "metadata": {},
   "outputs": [
    {
     "name": "stdout",
     "output_type": "stream",
     "text": [
      "2025-05-02 16:16:49> Testing pretrained charge model:\n",
      "{'precision': 0.3884859474161202, 'recall': 0.43679918450558425}\n",
      "2025-05-02 16:17:26> Testing refined charge model:\n",
      "{'precision': 0.9068170671897544, 'recall': 0.9424057084607063}\n"
     ]
    }
   ],
   "source": [
    "model_mgr.train_charge_model(transfer_lib.precursor_df)"
   ]
  },
  {
   "cell_type": "code",
   "execution_count": 90,
   "metadata": {},
   "outputs": [],
   "source": [
    "test_df = pd.DataFrame({\n",
    "    'sequence': ['VYTTPKK','VYVAFKK','AAHFKAPSDQR'],\n",
    "    'mods': ['hydroxyisobutyryl@K', 'hydroxyisobutyryl@K', 'hydroxyisobutyryl@K'],\n",
    "    'mod_sites': ['6', '6', '5'],\n",
    "    # 'charge' : [2, 2, [2, 3]], # Commented out to test the model prediction\n",
    "})"
   ]
  },
  {
   "cell_type": "code",
   "execution_count": 91,
   "metadata": {},
   "outputs": [
    {
     "name": "stderr",
     "output_type": "stream",
     "text": [
      "100%|██████████| 2/2 [00:00<00:00, 48.18it/s]\n"
     ]
    },
    {
     "data": {
      "text/html": [
       "<div>\n",
       "<style scoped>\n",
       "    .dataframe tbody tr th:only-of-type {\n",
       "        vertical-align: middle;\n",
       "    }\n",
       "\n",
       "    .dataframe tbody tr th {\n",
       "        vertical-align: top;\n",
       "    }\n",
       "\n",
       "    .dataframe thead th {\n",
       "        text-align: right;\n",
       "    }\n",
       "</style>\n",
       "<table border=\"1\" class=\"dataframe\">\n",
       "  <thead>\n",
       "    <tr style=\"text-align: right;\">\n",
       "      <th></th>\n",
       "      <th>sequence</th>\n",
       "      <th>mods</th>\n",
       "      <th>mod_sites</th>\n",
       "      <th>nAA</th>\n",
       "      <th>charge_prob</th>\n",
       "      <th>charge</th>\n",
       "    </tr>\n",
       "  </thead>\n",
       "  <tbody>\n",
       "    <tr>\n",
       "      <th>0</th>\n",
       "      <td>VYTTPKK</td>\n",
       "      <td>hydroxyisobutyryl@K</td>\n",
       "      <td>6</td>\n",
       "      <td>7</td>\n",
       "      <td>0.999824</td>\n",
       "      <td>2</td>\n",
       "    </tr>\n",
       "    <tr>\n",
       "      <th>1</th>\n",
       "      <td>VYVAFKK</td>\n",
       "      <td>hydroxyisobutyryl@K</td>\n",
       "      <td>6</td>\n",
       "      <td>7</td>\n",
       "      <td>0.999812</td>\n",
       "      <td>2</td>\n",
       "    </tr>\n",
       "    <tr>\n",
       "      <th>2</th>\n",
       "      <td>AAHFKAPSDQR</td>\n",
       "      <td>hydroxyisobutyryl@K</td>\n",
       "      <td>5</td>\n",
       "      <td>11</td>\n",
       "      <td>0.955111</td>\n",
       "      <td>3</td>\n",
       "    </tr>\n",
       "  </tbody>\n",
       "</table>\n",
       "</div>"
      ],
      "text/plain": [
       "      sequence                 mods mod_sites  nAA  charge_prob  charge\n",
       "0      VYTTPKK  hydroxyisobutyryl@K         6    7     0.999824       2\n",
       "1      VYVAFKK  hydroxyisobutyryl@K         6    7     0.999812       2\n",
       "2  AAHFKAPSDQR  hydroxyisobutyryl@K         5   11     0.955111       3"
      ]
     },
     "execution_count": 91,
     "metadata": {},
     "output_type": "execute_result"
    }
   ],
   "source": [
    "# prediction\n",
    "model_mgr.predict_charge(test_df,min_precursor_charge=1,max_precursor_charge=3)\n"
   ]
  },
  {
   "cell_type": "code",
   "execution_count": null,
   "metadata": {},
   "outputs": [],
   "source": []
  }
 ],
 "metadata": {
  "kernelspec": {
   "display_name": "peptdeep",
   "language": "python",
   "name": "python3"
  },
  "language_info": {
   "codemirror_mode": {
    "name": "ipython",
    "version": 3
   },
   "file_extension": ".py",
   "mimetype": "text/x-python",
   "name": "python",
   "nbconvert_exporter": "python",
   "pygments_lexer": "ipython3",
   "version": "3.9.19"
  }
 },
 "nbformat": 4,
 "nbformat_minor": 2
}
