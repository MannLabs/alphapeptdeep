{
 "cells": [
  {
   "cell_type": "code",
   "execution_count": null,
   "metadata": {},
   "outputs": [],
   "source": [
    "#---#| default_exp pretrained_models"
   ]
  },
  {
   "cell_type": "markdown",
   "metadata": {},
   "source": [
    "# Pretrained Models"
   ]
  },
  {
   "cell_type": "markdown",
   "metadata": {},
   "source": [
    "This module provides integrated functionalities for MS2/RT/CCS models"
   ]
  },
  {
   "cell_type": "markdown",
   "metadata": {},
   "source": [
    "`peptdeep.pretrained_models` handles the pretrained models, including downloading, installing, and loading the models.\n",
    "\n",
    "---"
   ]
  },
  {
   "cell_type": "markdown",
   "metadata": {},
   "source": [
    "## Downloading and installing the models\n",
    "For continuous model deployment, we uploaded several pretrained models (compressed as a ZIP file) onto a net disk. peptdeep will automatically download the ZIP file into `global_settings['PEPTDEEP_HOME']/pretrained_models/pretrained_models.zip` when importing peptdeep.pretrained_models. The models will be downloaded only once, if we would like to update them to the latest models, we can call `download_models(overwrite=True)`"
   ]
  },
  {
   "cell_type": "code",
   "execution_count": null,
   "metadata": {},
   "outputs": [],
   "source": [
    "from peptdeep.pretrained_models import *"
   ]
  },
  {
   "cell_type": "code",
   "execution_count": null,
   "metadata": {},
   "outputs": [],
   "source": [
    "#| hide\n",
    "download_models()\n",
    "assert is_model_zip(MODEL_ZIP_FILE_PATH)"
   ]
  },
  {
   "cell_type": "markdown",
   "metadata": {},
   "source": [
    "## 2. Loading the models\n",
    "peptdeep provides a convenient APIs to load models from ZIP files. \n",
    "\n",
    "`load_models` will load the generic models for unmodified peptides, `load_phos_models` will load the phospho models. Note that MS2/CCS prediction models are the same for generic and phospho models because this model was trained on both generic and phospho peptides."
   ]
  },
  {
   "cell_type": "markdown",
   "metadata": {},
   "source": [
    "## 3. Using `ModelManager`\n",
    "\n",
    "For users, `ModelManager` class is the only thing we need to manage models (loading, transfer learning, etc). According to different arguments, `ModelManager.load_installed_models` will call `load_models` or `load_phos_models`. For external models, `ModelManager.load_external_models` will load them by file path or file stream. Here is an example:\n",
    "\n",
    "```\n",
    "from zipfile import ZipFile\n",
    "\n",
    "admodel = ModelManager()\n",
    "ext_zip = 'external_models.zip' # model compressed in ZIP\n",
    "rt_model_path = '/path/to/rt.pth' # model as file path\n",
    "with ZipFile(ext_zip) as model_zip:\n",
    "    with model_zip.open('generic/ms2.pth','r') as ms2_file:\n",
    "        admodel.load_external_models(ms2_model_file=ms2_file, rt_model_file=rt_model_path)\n",
    "```\n",
    "\n",
    "Transfer learning for different models could also be done in `ModelManager` by using the given training dataframes."
   ]
  },
  {
   "cell_type": "code",
   "execution_count": null,
   "metadata": {},
   "outputs": [],
   "source": [
    "#| hide\n",
    "assert os.path.isfile(MODEL_ZIP_FILE_PATH)\n",
    "with ZipFile(MODEL_ZIP_FILE_PATH) as _zip:\n",
    "    with _zip.open('generic/ms2.pth'):\n",
    "        pass\n",
    "    with _zip.open('generic/rt.pth'):\n",
    "        pass\n",
    "    with _zip.open('generic/ccs.pth'):\n",
    "        pass\n",
    "    with _zip.open('digly/rt_digly.pth'):\n",
    "        pass\n",
    "    with _zip.open('phospho/rt_phos.pth'):\n",
    "        pass"
   ]
  },
  {
   "cell_type": "code",
   "execution_count": null,
   "metadata": {},
   "outputs": [],
   "source": [
    "#| hide\n",
    "from io import StringIO"
   ]
  },
  {
   "cell_type": "code",
   "execution_count": null,
   "metadata": {},
   "outputs": [],
   "source": [
    "#| hide\n",
    "\n",
    "matched_df = pd.read_csv(\n",
    "    StringIO(',b_z1,b_z2,y_z1,y_z2,b_modloss_z1,b_modloss_z2,y_modloss_z1,y_modloss_z2\\r\\n'\n",
    "        '0,0.0,0.0,0.0,0.0,0.0,0.0,0.0,0.0\\r\\n1,0.13171915994341352,0.0,0.0,0.0,0.0,0.0,0.0,0.0\\r\\n'\n",
    "        '2,0.09560456716002332,0.0,0.0,0.0,0.0,0.0,0.0,0.0\\r\\n'\n",
    "        '3,0.032392355556351476,0.0,0.0,0.0,0.0,0.0,0.0,0.0\\r\\n'\n",
    "        '4,0.06267661211925589,0.0,0.0,0.0,0.0,0.0,0.0,0.0\\r\\n'\n",
    "        '5,0.10733421416437268,0.0,0.0,0.0,0.0,0.0,0.0,0.0\\r\\n'\n",
    "        '6,0.07955175724673087,0.0,0.0,0.0,0.0,0.0,0.0,0.0\\r\\n'\n",
    "        '7,0.08283861204882843,0.0,0.03294760940125559,0.0,0.0,0.0,0.0,0.0\\r\\n'\n",
    "        '8,0.0914959582993716,0.0,0.09471333271745186,0.0,0.0,0.0,0.0,0.0\\r\\n'\n",
    "        '9,0.10283525167783934,0.0,0.29624251030302834,0.0,0.0,0.0,0.0,0.0\\r\\n'\n",
    "        '10,0.02220051360812495,0.0272619351931404,0.8077539764174795,0.0,0.0,0.0,0.0,0.0\\r\\n'\n",
    "        '11,0.0,0.02411148245999131,0.851474013001872,0.0,0.0,0.0,0.0,0.0\\r\\n'\n",
    "        '12,0.0,0.0,1.0,0.0,0.0,0.0,0.0,0.0\\r\\n13,0.0,0.0,0.22244818653184315,0.0,0.0,0.0,0.0,0.0\\r\\n'\n",
    "        '14,0.0,0.0,0.21824010319946407,0.0,0.0,0.0,0.0,0.0\\r\\n'\n",
    "        '15,0.0,0.0,0.16690493688692923,0.0,0.0,0.0,0.0,0.0\\r\\n'),\n",
    "    index_col=0\n",
    ")\n",
    "\n",
    "model_mgr = ModelManager(mask_modloss=True, device=\"cpu\")\n",
    "model_mgr.verbose=False\n",
    "def pred_one(seq, mods, mod_sites, charge):\n",
    "    df = pd.DataFrame()\n",
    "    df[\"sequence\"] = [seq]\n",
    "    df[\"mods\"] = [mods]\n",
    "    df[\"mod_sites\"] = [mod_sites]\n",
    "    df[\"charge\"] = charge\n",
    "    df[\"nce\"] = 35\n",
    "    df[\"instrument\"] = \"Lumos\"\n",
    "    predict_dict = model_mgr.predict_all(\n",
    "        df, predict_items=['mobility','rt','ms2'],\n",
    "        multiprocessing=False\n",
    "    )\n",
    "    return predict_dict['fragment_intensity_df']\n",
    "\n",
    "pred_df = pred_one('ANEKTESSSAQQVAVSR', '', '', 3)\n",
    "\n",
    "def get_pcc(matched_df, pred_df):\n",
    "    matched_df = matched_df[pred_df.columns.values]\n",
    "    return torch.nn.functional.cosine_similarity(\n",
    "        torch.tensor((pred_df.values   -pred_df.values.mean()).reshape(-1)), \n",
    "        torch.tensor((matched_df.values-matched_df.values.mean()).reshape(-1)), \n",
    "        dim=0\n",
    "    )\n",
    "assert get_pcc(matched_df, pred_df) > 0.95"
   ]
  },
  {
   "cell_type": "code",
   "execution_count": null,
   "metadata": {},
   "outputs": [],
   "source": [
    "from peptdeep.model.rt import IRT_PEPTIDE_DF"
   ]
  },
  {
   "cell_type": "code",
   "execution_count": null,
   "metadata": {},
   "outputs": [
    {
     "name": "stdout",
     "output_type": "stream",
     "text": [
      "2023-01-13 12:47:10> Predicting RT ...\n"
     ]
    },
    {
     "name": "stderr",
     "output_type": "stream",
     "text": [
      "100%|██████████| 5/5 [00:00<00:00, 253.64it/s]\n"
     ]
    },
    {
     "data": {
      "text/html": [
       "<div>\n",
       "<style scoped>\n",
       "    .dataframe tbody tr th:only-of-type {\n",
       "        vertical-align: middle;\n",
       "    }\n",
       "\n",
       "    .dataframe tbody tr th {\n",
       "        vertical-align: top;\n",
       "    }\n",
       "\n",
       "    .dataframe thead th {\n",
       "        text-align: right;\n",
       "    }\n",
       "</style>\n",
       "<table border=\"1\" class=\"dataframe\">\n",
       "  <thead>\n",
       "    <tr style=\"text-align: right;\">\n",
       "      <th></th>\n",
       "      <th>sequence</th>\n",
       "      <th>pep_name</th>\n",
       "      <th>irt</th>\n",
       "      <th>mods</th>\n",
       "      <th>mod_sites</th>\n",
       "      <th>nAA</th>\n",
       "      <th>rt_pred</th>\n",
       "      <th>rt_norm_pred</th>\n",
       "      <th>irt_pred</th>\n",
       "    </tr>\n",
       "  </thead>\n",
       "  <tbody>\n",
       "    <tr>\n",
       "      <th>0</th>\n",
       "      <td>LGGNEQVTR</td>\n",
       "      <td>RT-pep a</td>\n",
       "      <td>-24.92</td>\n",
       "      <td></td>\n",
       "      <td></td>\n",
       "      <td>9</td>\n",
       "      <td>0.184235</td>\n",
       "      <td>0.184235</td>\n",
       "      <td>-26.123539</td>\n",
       "    </tr>\n",
       "    <tr>\n",
       "      <th>1</th>\n",
       "      <td>GAGSSEPVTGLDAK</td>\n",
       "      <td>RT-pep b</td>\n",
       "      <td>0.00</td>\n",
       "      <td></td>\n",
       "      <td></td>\n",
       "      <td>14</td>\n",
       "      <td>0.250092</td>\n",
       "      <td>0.250092</td>\n",
       "      <td>4.238097</td>\n",
       "    </tr>\n",
       "    <tr>\n",
       "      <th>2</th>\n",
       "      <td>VEATFGVDESNAK</td>\n",
       "      <td>RT-pep c</td>\n",
       "      <td>12.39</td>\n",
       "      <td></td>\n",
       "      <td></td>\n",
       "      <td>13</td>\n",
       "      <td>0.266133</td>\n",
       "      <td>0.266133</td>\n",
       "      <td>11.633130</td>\n",
       "    </tr>\n",
       "    <tr>\n",
       "      <th>3</th>\n",
       "      <td>YILAGVENSK</td>\n",
       "      <td>RT-pep d</td>\n",
       "      <td>19.79</td>\n",
       "      <td></td>\n",
       "      <td></td>\n",
       "      <td>10</td>\n",
       "      <td>0.290495</td>\n",
       "      <td>0.290495</td>\n",
       "      <td>22.864808</td>\n",
       "    </tr>\n",
       "    <tr>\n",
       "      <th>4</th>\n",
       "      <td>TPVISGGPYEYR</td>\n",
       "      <td>RT-pep e</td>\n",
       "      <td>28.71</td>\n",
       "      <td></td>\n",
       "      <td></td>\n",
       "      <td>12</td>\n",
       "      <td>0.303847</td>\n",
       "      <td>0.303847</td>\n",
       "      <td>29.020255</td>\n",
       "    </tr>\n",
       "    <tr>\n",
       "      <th>5</th>\n",
       "      <td>TPVITGAPYEYR</td>\n",
       "      <td>RT-pep f</td>\n",
       "      <td>33.38</td>\n",
       "      <td></td>\n",
       "      <td></td>\n",
       "      <td>12</td>\n",
       "      <td>0.316514</td>\n",
       "      <td>0.316514</td>\n",
       "      <td>34.860146</td>\n",
       "    </tr>\n",
       "    <tr>\n",
       "      <th>6</th>\n",
       "      <td>DGLDAASYYAPVR</td>\n",
       "      <td>RT-pep g</td>\n",
       "      <td>42.26</td>\n",
       "      <td></td>\n",
       "      <td></td>\n",
       "      <td>13</td>\n",
       "      <td>0.324423</td>\n",
       "      <td>0.324423</td>\n",
       "      <td>38.506304</td>\n",
       "    </tr>\n",
       "    <tr>\n",
       "      <th>7</th>\n",
       "      <td>ADVTPADFSEWSK</td>\n",
       "      <td>RT-pep h</td>\n",
       "      <td>54.62</td>\n",
       "      <td></td>\n",
       "      <td></td>\n",
       "      <td>13</td>\n",
       "      <td>0.345197</td>\n",
       "      <td>0.345197</td>\n",
       "      <td>48.083872</td>\n",
       "    </tr>\n",
       "    <tr>\n",
       "      <th>8</th>\n",
       "      <td>GTFIIDPGGVIR</td>\n",
       "      <td>RT-pep i</td>\n",
       "      <td>70.52</td>\n",
       "      <td></td>\n",
       "      <td></td>\n",
       "      <td>12</td>\n",
       "      <td>0.394248</td>\n",
       "      <td>0.394248</td>\n",
       "      <td>70.697470</td>\n",
       "    </tr>\n",
       "    <tr>\n",
       "      <th>9</th>\n",
       "      <td>GTFIIDPAAVIR</td>\n",
       "      <td>RT-pep k</td>\n",
       "      <td>87.23</td>\n",
       "      <td></td>\n",
       "      <td></td>\n",
       "      <td>12</td>\n",
       "      <td>0.434775</td>\n",
       "      <td>0.434775</td>\n",
       "      <td>89.381159</td>\n",
       "    </tr>\n",
       "    <tr>\n",
       "      <th>10</th>\n",
       "      <td>LFLQFGAQGSPFLK</td>\n",
       "      <td>RT-pep l</td>\n",
       "      <td>100.00</td>\n",
       "      <td></td>\n",
       "      <td></td>\n",
       "      <td>14</td>\n",
       "      <td>0.459583</td>\n",
       "      <td>0.459583</td>\n",
       "      <td>100.818299</td>\n",
       "    </tr>\n",
       "  </tbody>\n",
       "</table>\n",
       "</div>"
      ],
      "text/plain": [
       "          sequence  pep_name     irt mods mod_sites  nAA   rt_pred  \\\n",
       "0        LGGNEQVTR  RT-pep a  -24.92                   9  0.184235   \n",
       "1   GAGSSEPVTGLDAK  RT-pep b    0.00                  14  0.250092   \n",
       "2    VEATFGVDESNAK  RT-pep c   12.39                  13  0.266133   \n",
       "3       YILAGVENSK  RT-pep d   19.79                  10  0.290495   \n",
       "4     TPVISGGPYEYR  RT-pep e   28.71                  12  0.303847   \n",
       "5     TPVITGAPYEYR  RT-pep f   33.38                  12  0.316514   \n",
       "6    DGLDAASYYAPVR  RT-pep g   42.26                  13  0.324423   \n",
       "7    ADVTPADFSEWSK  RT-pep h   54.62                  13  0.345197   \n",
       "8     GTFIIDPGGVIR  RT-pep i   70.52                  12  0.394248   \n",
       "9     GTFIIDPAAVIR  RT-pep k   87.23                  12  0.434775   \n",
       "10  LFLQFGAQGSPFLK  RT-pep l  100.00                  14  0.459583   \n",
       "\n",
       "    rt_norm_pred    irt_pred  \n",
       "0       0.184235  -26.123539  \n",
       "1       0.250092    4.238097  \n",
       "2       0.266133   11.633130  \n",
       "3       0.290495   22.864808  \n",
       "4       0.303847   29.020255  \n",
       "5       0.316514   34.860146  \n",
       "6       0.324423   38.506304  \n",
       "7       0.345197   48.083872  \n",
       "8       0.394248   70.697470  \n",
       "9       0.434775   89.381159  \n",
       "10      0.459583  100.818299  "
      ]
     },
     "execution_count": null,
     "metadata": {},
     "output_type": "execute_result"
    }
   ],
   "source": [
    "model_mgr = ModelManager(mask_modloss=False, device='cpu')\n",
    "model_mgr.load_installed_models('phos')\n",
    "model_mgr.predict_rt(IRT_PEPTIDE_DF)\n",
    "model_mgr.rt_model.add_irt_column_to_precursor_df(IRT_PEPTIDE_DF)"
   ]
  },
  {
   "cell_type": "code",
   "execution_count": null,
   "metadata": {},
   "outputs": [],
   "source": [
    "#| hide\n",
    "def pred_one(seq, mods, mod_sites, charge):\n",
    "    df = pd.DataFrame()\n",
    "    df[\"sequence\"] = [seq]\n",
    "    df[\"mods\"] = [mods]\n",
    "    df[\"mod_sites\"] = [mod_sites]\n",
    "    df[\"charge\"] = charge\n",
    "    df[\"nce\"] = 30\n",
    "    df[\"instrument\"] = \"Lumos\"\n",
    "    predict_dict = model_mgr.predict_all(\n",
    "        df, predict_items=['mobility','rt','ms2'],\n",
    "        multiprocessing=False\n",
    "    )\n",
    "    return predict_dict['fragment_intensity_df']\n",
    "\n",
    "model_mgr.verbose=False\n",
    "pred_df = pred_one('ANEKTESSSAQQVAVSR', 'Phospho@S', '9',2)\n",
    "assert (pred_df.y_modloss_z1.values>0.5).any()\n",
    "pred_df = pred_one('ANEKTESSTAQQVAVSR', 'Phospho@T', '9',2)\n",
    "assert (pred_df.y_modloss_z1.values>0.5).any()\n",
    "pred_df = pred_one('ANEKTESSSAQQVAVSR', 'Phospho@S', '16',2)\n",
    "assert (pred_df.y_modloss_z1.values>0.5).any()\n",
    "pred_df = pred_one('ANEKTESSYAQQVAVSR', 'Phospho@Y', '9',2)\n",
    "assert (pred_df.y_modloss_z1.values<=0).all()"
   ]
  },
  {
   "cell_type": "code",
   "execution_count": null,
   "metadata": {},
   "outputs": [
    {
     "name": "stdout",
     "output_type": "stream",
     "text": [
      "2023-01-13 12:47:11> 11 PSMs for RT model training/transfer learning\n"
     ]
    }
   ],
   "source": [
    "#| hide\n",
    "IRT_PEPTIDE_DF['rt_norm'] = IRT_PEPTIDE_DF['irt']\n",
    "IRT_PEPTIDE_DF['ccs'] = IRT_PEPTIDE_DF['irt']\n",
    "model_mgr.epoch_to_train_rt_ccs = 1\n",
    "model_mgr.train_rt_model(IRT_PEPTIDE_DF)\n",
    "model_mgr.train_ccs_model(IRT_PEPTIDE_DF)"
   ]
  },
  {
   "cell_type": "code",
   "execution_count": null,
   "metadata": {},
   "outputs": [
    {
     "name": "stdout",
     "output_type": "stream",
     "text": [
      "2023-01-13 12:48:35> Predicting RT ...\n"
     ]
    },
    {
     "name": "stderr",
     "output_type": "stream",
     "text": [
      "100%|██████████| 5/5 [00:00<00:00, 11.12it/s]\n"
     ]
    },
    {
     "name": "stdout",
     "output_type": "stream",
     "text": [
      "2023-01-13 12:48:39> 11 PSMs for RT model training/transfer learning\n"
     ]
    },
    {
     "name": "stderr",
     "output_type": "stream",
     "text": [
      "/Users/wenfengzeng/opt/miniconda3/lib/python3.9/site-packages/torch/autograd/__init__.py:197: UserWarning: The operator 'aten::sgn.out' is not currently supported on the MPS backend and will fall back to run on the CPU. This may have performance implications. (Triggered internally at /Users/runner/work/pytorch/pytorch/pytorch/aten/src/ATen/mps/MPSFallback.mm:11.)\n",
      "  Variable._execution_engine.run_backward(  # Calls into the C++ engine to run the backward pass\n"
     ]
    }
   ],
   "source": [
    "from peptdeep.utils import get_device\n",
    "\n",
    "device, device_type = get_device('mps')\n",
    "if device_type != 'cpu':\n",
    "    model_mgr = ModelManager(mask_modloss=False, device=device_type)\n",
    "    model_mgr.load_installed_models('phos')\n",
    "    model_mgr.predict_rt(IRT_PEPTIDE_DF)\n",
    "    model_mgr.rt_model.add_irt_column_to_precursor_df(IRT_PEPTIDE_DF)\n",
    "\n",
    "\n",
    "    model_mgr.verbose=False\n",
    "    pred_df = pred_one('ANEKTESSSAQQVAVSR', 'Phospho@S', '9',2)\n",
    "    assert (pred_df.y_modloss_z1.values>0.5).any()\n",
    "    pred_df = pred_one('ANEKTESSTAQQVAVSR', 'Phospho@T', '9',2)\n",
    "    assert (pred_df.y_modloss_z1.values>0.5).any()\n",
    "    pred_df = pred_one('ANEKTESSSAQQVAVSR', 'Phospho@S', '16',2)\n",
    "    assert (pred_df.y_modloss_z1.values>0.5).any()\n",
    "    pred_df = pred_one('ANEKTESSYAQQVAVSR', 'Phospho@Y', '9',2)\n",
    "    assert (pred_df.y_modloss_z1.values<=0).all()\n",
    "\n",
    "    IRT_PEPTIDE_DF['rt_norm'] = IRT_PEPTIDE_DF['irt']\n",
    "    IRT_PEPTIDE_DF['ccs'] = IRT_PEPTIDE_DF['irt']\n",
    "    model_mgr.epoch_to_train_rt_ccs = 1\n",
    "    model_mgr.train_rt_model(IRT_PEPTIDE_DF)\n",
    "    model_mgr.train_ccs_model(IRT_PEPTIDE_DF)"
   ]
  },
  {
   "cell_type": "code",
   "execution_count": null,
   "metadata": {},
   "outputs": [],
   "source": []
  }
 ],
 "metadata": {
  "kernelspec": {
   "display_name": "Python 3.9.12 ('base')",
   "language": "python",
   "name": "python3"
  }
 },
 "nbformat": 4,
 "nbformat_minor": 2
}
